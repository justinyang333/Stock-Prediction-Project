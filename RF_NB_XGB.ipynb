{
 "cells": [
  {
   "cell_type": "code",
   "execution_count": 3,
   "metadata": {},
   "outputs": [],
   "source": [
    "import numpy as np\n",
    "import pandas as pd\n",
    "import matplotlib.pyplot as plt\n",
    "import matplotlib.dates as mdates"
   ]
  },
  {
   "cell_type": "code",
   "execution_count": 4,
   "metadata": {},
   "outputs": [],
   "source": [
    "pd.set_option('display.max_columns', None)\n",
    "pd.set_option('display.max_rows', None)"
   ]
  },
  {
   "attachments": {},
   "cell_type": "markdown",
   "metadata": {},
   "source": [
    "<h1>Load and Prep dataset</h1>"
   ]
  },
  {
   "cell_type": "code",
   "execution_count": 5,
   "metadata": {},
   "outputs": [
    {
     "data": {
      "text/html": [
       "<div>\n",
       "<style scoped>\n",
       "    .dataframe tbody tr th:only-of-type {\n",
       "        vertical-align: middle;\n",
       "    }\n",
       "\n",
       "    .dataframe tbody tr th {\n",
       "        vertical-align: top;\n",
       "    }\n",
       "\n",
       "    .dataframe thead th {\n",
       "        text-align: right;\n",
       "    }\n",
       "</style>\n",
       "<table border=\"1\" class=\"dataframe\">\n",
       "  <thead>\n",
       "    <tr style=\"text-align: right;\">\n",
       "      <th></th>\n",
       "      <th>Date</th>\n",
       "      <th>Symbol</th>\n",
       "      <th>Open</th>\n",
       "      <th>High</th>\n",
       "      <th>Low</th>\n",
       "      <th>Close</th>\n",
       "      <th>Volume</th>\n",
       "      <th>log_volume</th>\n",
       "      <th>Momentum_2Wk</th>\n",
       "    </tr>\n",
       "  </thead>\n",
       "  <tbody>\n",
       "    <tr>\n",
       "      <th>0</th>\n",
       "      <td>2009-04-06 04:00:00</td>\n",
       "      <td>A</td>\n",
       "      <td>11.67</td>\n",
       "      <td>11.67</td>\n",
       "      <td>11.26</td>\n",
       "      <td>11.43</td>\n",
       "      <td>4691592</td>\n",
       "      <td>15.361283</td>\n",
       "      <td>2.36</td>\n",
       "    </tr>\n",
       "    <tr>\n",
       "      <th>1</th>\n",
       "      <td>2009-04-14 04:00:00</td>\n",
       "      <td>A</td>\n",
       "      <td>11.92</td>\n",
       "      <td>12.00</td>\n",
       "      <td>11.73</td>\n",
       "      <td>11.82</td>\n",
       "      <td>3114079</td>\n",
       "      <td>14.951444</td>\n",
       "      <td>2.92</td>\n",
       "    </tr>\n",
       "    <tr>\n",
       "      <th>2</th>\n",
       "      <td>2009-04-21 04:00:00</td>\n",
       "      <td>A</td>\n",
       "      <td>11.80</td>\n",
       "      <td>12.04</td>\n",
       "      <td>11.67</td>\n",
       "      <td>11.87</td>\n",
       "      <td>4251390</td>\n",
       "      <td>15.262757</td>\n",
       "      <td>2.03</td>\n",
       "    </tr>\n",
       "    <tr>\n",
       "      <th>3</th>\n",
       "      <td>2009-04-28 04:00:00</td>\n",
       "      <td>A</td>\n",
       "      <td>11.96</td>\n",
       "      <td>12.37</td>\n",
       "      <td>11.77</td>\n",
       "      <td>12.19</td>\n",
       "      <td>4939050</td>\n",
       "      <td>15.412684</td>\n",
       "      <td>0.82</td>\n",
       "    </tr>\n",
       "    <tr>\n",
       "      <th>4</th>\n",
       "      <td>2009-05-05 04:00:00</td>\n",
       "      <td>A</td>\n",
       "      <td>13.85</td>\n",
       "      <td>13.88</td>\n",
       "      <td>13.28</td>\n",
       "      <td>13.40</td>\n",
       "      <td>4895647</td>\n",
       "      <td>15.403857</td>\n",
       "      <td>2.39</td>\n",
       "    </tr>\n",
       "  </tbody>\n",
       "</table>\n",
       "</div>"
      ],
      "text/plain": [
       "                  Date Symbol   Open   High    Low  Close   Volume   \n",
       "0  2009-04-06 04:00:00      A  11.67  11.67  11.26  11.43  4691592  \\\n",
       "1  2009-04-14 04:00:00      A  11.92  12.00  11.73  11.82  3114079   \n",
       "2  2009-04-21 04:00:00      A  11.80  12.04  11.67  11.87  4251390   \n",
       "3  2009-04-28 04:00:00      A  11.96  12.37  11.77  12.19  4939050   \n",
       "4  2009-05-05 04:00:00      A  13.85  13.88  13.28  13.40  4895647   \n",
       "\n",
       "   log_volume  Momentum_2Wk  \n",
       "0   15.361283          2.36  \n",
       "1   14.951444          2.92  \n",
       "2   15.262757          2.03  \n",
       "3   15.412684          0.82  \n",
       "4   15.403857          2.39  "
      ]
     },
     "execution_count": 5,
     "metadata": {},
     "output_type": "execute_result"
    }
   ],
   "source": [
    "data = pd.read_csv('dataset.csv')\n",
    "data.head()"
   ]
  },
  {
   "cell_type": "code",
   "execution_count": 6,
   "metadata": {},
   "outputs": [
    {
     "data": {
      "text/html": [
       "<div>\n",
       "<style scoped>\n",
       "    .dataframe tbody tr th:only-of-type {\n",
       "        vertical-align: middle;\n",
       "    }\n",
       "\n",
       "    .dataframe tbody tr th {\n",
       "        vertical-align: top;\n",
       "    }\n",
       "\n",
       "    .dataframe thead th {\n",
       "        text-align: right;\n",
       "    }\n",
       "</style>\n",
       "<table border=\"1\" class=\"dataframe\">\n",
       "  <thead>\n",
       "    <tr style=\"text-align: right;\">\n",
       "      <th></th>\n",
       "      <th>Symbol</th>\n",
       "      <th>Open</th>\n",
       "      <th>High</th>\n",
       "      <th>Low</th>\n",
       "      <th>Close</th>\n",
       "      <th>Volume</th>\n",
       "      <th>log_volume</th>\n",
       "      <th>Momentum_2Wk</th>\n",
       "    </tr>\n",
       "    <tr>\n",
       "      <th>Date</th>\n",
       "      <th></th>\n",
       "      <th></th>\n",
       "      <th></th>\n",
       "      <th></th>\n",
       "      <th></th>\n",
       "      <th></th>\n",
       "      <th></th>\n",
       "      <th></th>\n",
       "    </tr>\n",
       "  </thead>\n",
       "  <tbody>\n",
       "    <tr>\n",
       "      <th>2009-04-06 04:00:00</th>\n",
       "      <td>A</td>\n",
       "      <td>11.67</td>\n",
       "      <td>11.67</td>\n",
       "      <td>11.26</td>\n",
       "      <td>11.43</td>\n",
       "      <td>4691592</td>\n",
       "      <td>15.361283</td>\n",
       "      <td>2.36</td>\n",
       "    </tr>\n",
       "    <tr>\n",
       "      <th>2009-04-14 04:00:00</th>\n",
       "      <td>A</td>\n",
       "      <td>11.92</td>\n",
       "      <td>12.00</td>\n",
       "      <td>11.73</td>\n",
       "      <td>11.82</td>\n",
       "      <td>3114079</td>\n",
       "      <td>14.951444</td>\n",
       "      <td>2.92</td>\n",
       "    </tr>\n",
       "    <tr>\n",
       "      <th>2009-04-21 04:00:00</th>\n",
       "      <td>A</td>\n",
       "      <td>11.80</td>\n",
       "      <td>12.04</td>\n",
       "      <td>11.67</td>\n",
       "      <td>11.87</td>\n",
       "      <td>4251390</td>\n",
       "      <td>15.262757</td>\n",
       "      <td>2.03</td>\n",
       "    </tr>\n",
       "    <tr>\n",
       "      <th>2009-04-28 04:00:00</th>\n",
       "      <td>A</td>\n",
       "      <td>11.96</td>\n",
       "      <td>12.37</td>\n",
       "      <td>11.77</td>\n",
       "      <td>12.19</td>\n",
       "      <td>4939050</td>\n",
       "      <td>15.412684</td>\n",
       "      <td>0.82</td>\n",
       "    </tr>\n",
       "    <tr>\n",
       "      <th>2009-05-05 04:00:00</th>\n",
       "      <td>A</td>\n",
       "      <td>13.85</td>\n",
       "      <td>13.88</td>\n",
       "      <td>13.28</td>\n",
       "      <td>13.40</td>\n",
       "      <td>4895647</td>\n",
       "      <td>15.403857</td>\n",
       "      <td>2.39</td>\n",
       "    </tr>\n",
       "  </tbody>\n",
       "</table>\n",
       "</div>"
      ],
      "text/plain": [
       "                    Symbol   Open   High    Low  Close   Volume  log_volume   \n",
       "Date                                                                          \n",
       "2009-04-06 04:00:00      A  11.67  11.67  11.26  11.43  4691592   15.361283  \\\n",
       "2009-04-14 04:00:00      A  11.92  12.00  11.73  11.82  3114079   14.951444   \n",
       "2009-04-21 04:00:00      A  11.80  12.04  11.67  11.87  4251390   15.262757   \n",
       "2009-04-28 04:00:00      A  11.96  12.37  11.77  12.19  4939050   15.412684   \n",
       "2009-05-05 04:00:00      A  13.85  13.88  13.28  13.40  4895647   15.403857   \n",
       "\n",
       "                     Momentum_2Wk  \n",
       "Date                               \n",
       "2009-04-06 04:00:00          2.36  \n",
       "2009-04-14 04:00:00          2.92  \n",
       "2009-04-21 04:00:00          2.03  \n",
       "2009-04-28 04:00:00          0.82  \n",
       "2009-05-05 04:00:00          2.39  "
      ]
     },
     "execution_count": 6,
     "metadata": {},
     "output_type": "execute_result"
    }
   ],
   "source": [
    "# Copy the data and sort by symbol and date\n",
    "df = data\n",
    "df = data.copy().sort_values(by=[\"Symbol\", \"Date\"])\n",
    "df[\"Date\"] = pd.to_datetime(df[\"Date\"])\n",
    "df.set_index(\"Date\", drop=True, inplace=True)\n",
    "df.head()"
   ]
  },
  {
   "cell_type": "code",
   "execution_count": 7,
   "metadata": {},
   "outputs": [
    {
     "name": "stderr",
     "output_type": "stream",
     "text": [
      "C:\\Users\\bmcne\\AppData\\Local\\Packages\\PythonSoftwareFoundation.Python.3.11_qbz5n2kfra8p0\\LocalCache\\local-packages\\Python311\\site-packages\\numpy\\lib\\function_base.py:4573: RuntimeWarning: invalid value encountered in subtract\n",
      "  diff_b_a = subtract(b, a)\n",
      "C:\\Users\\bmcne\\AppData\\Local\\Packages\\PythonSoftwareFoundation.Python.3.11_qbz5n2kfra8p0\\LocalCache\\local-packages\\Python311\\site-packages\\numpy\\lib\\function_base.py:4573: RuntimeWarning: invalid value encountered in subtract\n",
      "  diff_b_a = subtract(b, a)\n"
     ]
    },
    {
     "data": {
      "text/html": [
       "<div>\n",
       "<style scoped>\n",
       "    .dataframe tbody tr th:only-of-type {\n",
       "        vertical-align: middle;\n",
       "    }\n",
       "\n",
       "    .dataframe tbody tr th {\n",
       "        vertical-align: top;\n",
       "    }\n",
       "\n",
       "    .dataframe thead tr th {\n",
       "        text-align: left;\n",
       "    }\n",
       "\n",
       "    .dataframe thead tr:last-of-type th {\n",
       "        text-align: right;\n",
       "    }\n",
       "</style>\n",
       "<table border=\"1\" class=\"dataframe\">\n",
       "  <thead>\n",
       "    <tr>\n",
       "      <th></th>\n",
       "      <th colspan=\"8\" halign=\"left\">Open</th>\n",
       "      <th colspan=\"8\" halign=\"left\">High</th>\n",
       "      <th colspan=\"8\" halign=\"left\">Low</th>\n",
       "      <th colspan=\"8\" halign=\"left\">Close</th>\n",
       "      <th colspan=\"8\" halign=\"left\">Volume</th>\n",
       "      <th colspan=\"8\" halign=\"left\">log_volume</th>\n",
       "      <th colspan=\"8\" halign=\"left\">Momentum_2Wk</th>\n",
       "    </tr>\n",
       "    <tr>\n",
       "      <th></th>\n",
       "      <th>count</th>\n",
       "      <th>mean</th>\n",
       "      <th>std</th>\n",
       "      <th>min</th>\n",
       "      <th>25%</th>\n",
       "      <th>50%</th>\n",
       "      <th>75%</th>\n",
       "      <th>max</th>\n",
       "      <th>count</th>\n",
       "      <th>mean</th>\n",
       "      <th>std</th>\n",
       "      <th>min</th>\n",
       "      <th>25%</th>\n",
       "      <th>50%</th>\n",
       "      <th>75%</th>\n",
       "      <th>max</th>\n",
       "      <th>count</th>\n",
       "      <th>mean</th>\n",
       "      <th>std</th>\n",
       "      <th>min</th>\n",
       "      <th>25%</th>\n",
       "      <th>50%</th>\n",
       "      <th>75%</th>\n",
       "      <th>max</th>\n",
       "      <th>count</th>\n",
       "      <th>mean</th>\n",
       "      <th>std</th>\n",
       "      <th>min</th>\n",
       "      <th>25%</th>\n",
       "      <th>50%</th>\n",
       "      <th>75%</th>\n",
       "      <th>max</th>\n",
       "      <th>count</th>\n",
       "      <th>mean</th>\n",
       "      <th>std</th>\n",
       "      <th>min</th>\n",
       "      <th>25%</th>\n",
       "      <th>50%</th>\n",
       "      <th>75%</th>\n",
       "      <th>max</th>\n",
       "      <th>count</th>\n",
       "      <th>mean</th>\n",
       "      <th>std</th>\n",
       "      <th>min</th>\n",
       "      <th>25%</th>\n",
       "      <th>50%</th>\n",
       "      <th>75%</th>\n",
       "      <th>max</th>\n",
       "      <th>count</th>\n",
       "      <th>mean</th>\n",
       "      <th>std</th>\n",
       "      <th>min</th>\n",
       "      <th>25%</th>\n",
       "      <th>50%</th>\n",
       "      <th>75%</th>\n",
       "      <th>max</th>\n",
       "    </tr>\n",
       "    <tr>\n",
       "      <th>Symbol</th>\n",
       "      <th></th>\n",
       "      <th></th>\n",
       "      <th></th>\n",
       "      <th></th>\n",
       "      <th></th>\n",
       "      <th></th>\n",
       "      <th></th>\n",
       "      <th></th>\n",
       "      <th></th>\n",
       "      <th></th>\n",
       "      <th></th>\n",
       "      <th></th>\n",
       "      <th></th>\n",
       "      <th></th>\n",
       "      <th></th>\n",
       "      <th></th>\n",
       "      <th></th>\n",
       "      <th></th>\n",
       "      <th></th>\n",
       "      <th></th>\n",
       "      <th></th>\n",
       "      <th></th>\n",
       "      <th></th>\n",
       "      <th></th>\n",
       "      <th></th>\n",
       "      <th></th>\n",
       "      <th></th>\n",
       "      <th></th>\n",
       "      <th></th>\n",
       "      <th></th>\n",
       "      <th></th>\n",
       "      <th></th>\n",
       "      <th></th>\n",
       "      <th></th>\n",
       "      <th></th>\n",
       "      <th></th>\n",
       "      <th></th>\n",
       "      <th></th>\n",
       "      <th></th>\n",
       "      <th></th>\n",
       "      <th></th>\n",
       "      <th></th>\n",
       "      <th></th>\n",
       "      <th></th>\n",
       "      <th></th>\n",
       "      <th></th>\n",
       "      <th></th>\n",
       "      <th></th>\n",
       "      <th></th>\n",
       "      <th></th>\n",
       "      <th></th>\n",
       "      <th></th>\n",
       "      <th></th>\n",
       "      <th></th>\n",
       "      <th></th>\n",
       "      <th></th>\n",
       "    </tr>\n",
       "  </thead>\n",
       "  <tbody>\n",
       "    <tr>\n",
       "      <th>A</th>\n",
       "      <td>549.0</td>\n",
       "      <td>42.670783</td>\n",
       "      <td>18.428922</td>\n",
       "      <td>11.67</td>\n",
       "      <td>28.89</td>\n",
       "      <td>39.43</td>\n",
       "      <td>59.23</td>\n",
       "      <td>89.97</td>\n",
       "      <td>549.0</td>\n",
       "      <td>43.080291</td>\n",
       "      <td>18.536023</td>\n",
       "      <td>11.67</td>\n",
       "      <td>29.32</td>\n",
       "      <td>39.58</td>\n",
       "      <td>59.72</td>\n",
       "      <td>90.28</td>\n",
       "      <td>549.0</td>\n",
       "      <td>42.268998</td>\n",
       "      <td>18.286247</td>\n",
       "      <td>11.26</td>\n",
       "      <td>28.40</td>\n",
       "      <td>39.03</td>\n",
       "      <td>59.04</td>\n",
       "      <td>89.20</td>\n",
       "      <td>549.0</td>\n",
       "      <td>42.700091</td>\n",
       "      <td>18.401620</td>\n",
       "      <td>11.43</td>\n",
       "      <td>28.58</td>\n",
       "      <td>39.34</td>\n",
       "      <td>59.13</td>\n",
       "      <td>90.12</td>\n",
       "      <td>549.0</td>\n",
       "      <td>3.403598e+06</td>\n",
       "      <td>1.952184e+06</td>\n",
       "      <td>649078.0</td>\n",
       "      <td>1919771.0</td>\n",
       "      <td>2933295.0</td>\n",
       "      <td>4468486.0</td>\n",
       "      <td>1.325393e+07</td>\n",
       "      <td>549.0</td>\n",
       "      <td>14.888074</td>\n",
       "      <td>0.556143</td>\n",
       "      <td>13.383308</td>\n",
       "      <td>14.467716</td>\n",
       "      <td>14.891637</td>\n",
       "      <td>15.312560</td>\n",
       "      <td>16.399805</td>\n",
       "      <td>549.0</td>\n",
       "      <td>0.666102</td>\n",
       "      <td>3.131480</td>\n",
       "      <td>-13.91</td>\n",
       "      <td>-0.95</td>\n",
       "      <td>0.80</td>\n",
       "      <td>2.50</td>\n",
       "      <td>10.35</td>\n",
       "    </tr>\n",
       "    <tr>\n",
       "      <th>AAON</th>\n",
       "      <td>549.0</td>\n",
       "      <td>22.137778</td>\n",
       "      <td>13.392906</td>\n",
       "      <td>5.52</td>\n",
       "      <td>9.02</td>\n",
       "      <td>20.60</td>\n",
       "      <td>33.45</td>\n",
       "      <td>56.70</td>\n",
       "      <td>549.0</td>\n",
       "      <td>22.443060</td>\n",
       "      <td>13.544826</td>\n",
       "      <td>5.91</td>\n",
       "      <td>9.10</td>\n",
       "      <td>20.80</td>\n",
       "      <td>34.10</td>\n",
       "      <td>57.26</td>\n",
       "      <td>549.0</td>\n",
       "      <td>21.834226</td>\n",
       "      <td>13.234219</td>\n",
       "      <td>5.36</td>\n",
       "      <td>8.83</td>\n",
       "      <td>20.28</td>\n",
       "      <td>33.05</td>\n",
       "      <td>55.66</td>\n",
       "      <td>549.0</td>\n",
       "      <td>22.147851</td>\n",
       "      <td>13.373923</td>\n",
       "      <td>5.41</td>\n",
       "      <td>8.99</td>\n",
       "      <td>20.47</td>\n",
       "      <td>33.90</td>\n",
       "      <td>55.74</td>\n",
       "      <td>549.0</td>\n",
       "      <td>1.658021e+05</td>\n",
       "      <td>9.280970e+04</td>\n",
       "      <td>0.0</td>\n",
       "      <td>102329.0</td>\n",
       "      <td>140299.0</td>\n",
       "      <td>197281.0</td>\n",
       "      <td>6.303330e+05</td>\n",
       "      <td>549.0</td>\n",
       "      <td>-inf</td>\n",
       "      <td>NaN</td>\n",
       "      <td>-inf</td>\n",
       "      <td>11.535948</td>\n",
       "      <td>11.851531</td>\n",
       "      <td>12.192384</td>\n",
       "      <td>13.354004</td>\n",
       "      <td>549.0</td>\n",
       "      <td>0.440820</td>\n",
       "      <td>2.509574</td>\n",
       "      <td>-13.34</td>\n",
       "      <td>-0.49</td>\n",
       "      <td>0.40</td>\n",
       "      <td>1.41</td>\n",
       "      <td>10.50</td>\n",
       "    </tr>\n",
       "    <tr>\n",
       "      <th>AAPL</th>\n",
       "      <td>549.0</td>\n",
       "      <td>26.770510</td>\n",
       "      <td>15.721889</td>\n",
       "      <td>4.11</td>\n",
       "      <td>14.47</td>\n",
       "      <td>23.97</td>\n",
       "      <td>36.69</td>\n",
       "      <td>79.07</td>\n",
       "      <td>549.0</td>\n",
       "      <td>27.017304</td>\n",
       "      <td>15.877974</td>\n",
       "      <td>4.24</td>\n",
       "      <td>14.57</td>\n",
       "      <td>24.19</td>\n",
       "      <td>37.07</td>\n",
       "      <td>80.39</td>\n",
       "      <td>549.0</td>\n",
       "      <td>26.541202</td>\n",
       "      <td>15.615109</td>\n",
       "      <td>4.05</td>\n",
       "      <td>14.30</td>\n",
       "      <td>23.72</td>\n",
       "      <td>36.34</td>\n",
       "      <td>78.75</td>\n",
       "      <td>549.0</td>\n",
       "      <td>26.789162</td>\n",
       "      <td>15.757701</td>\n",
       "      <td>4.23</td>\n",
       "      <td>14.47</td>\n",
       "      <td>24.01</td>\n",
       "      <td>36.58</td>\n",
       "      <td>80.39</td>\n",
       "      <td>549.0</td>\n",
       "      <td>3.111771e+08</td>\n",
       "      <td>2.332832e+08</td>\n",
       "      <td>45903688.0</td>\n",
       "      <td>127727776.0</td>\n",
       "      <td>237467656.0</td>\n",
       "      <td>435295700.0</td>\n",
       "      <td>1.880987e+09</td>\n",
       "      <td>549.0</td>\n",
       "      <td>19.297390</td>\n",
       "      <td>0.726651</td>\n",
       "      <td>17.642056</td>\n",
       "      <td>18.665412</td>\n",
       "      <td>19.285542</td>\n",
       "      <td>19.891536</td>\n",
       "      <td>21.355062</td>\n",
       "      <td>549.0</td>\n",
       "      <td>0.673005</td>\n",
       "      <td>2.650824</td>\n",
       "      <td>-11.30</td>\n",
       "      <td>-0.52</td>\n",
       "      <td>0.54</td>\n",
       "      <td>1.73</td>\n",
       "      <td>12.14</td>\n",
       "    </tr>\n",
       "    <tr>\n",
       "      <th>AB</th>\n",
       "      <td>549.0</td>\n",
       "      <td>23.853898</td>\n",
       "      <td>4.922727</td>\n",
       "      <td>11.92</td>\n",
       "      <td>21.61</td>\n",
       "      <td>24.30</td>\n",
       "      <td>27.45</td>\n",
       "      <td>34.76</td>\n",
       "      <td>549.0</td>\n",
       "      <td>24.161384</td>\n",
       "      <td>4.945973</td>\n",
       "      <td>11.97</td>\n",
       "      <td>21.89</td>\n",
       "      <td>24.60</td>\n",
       "      <td>27.70</td>\n",
       "      <td>35.61</td>\n",
       "      <td>549.0</td>\n",
       "      <td>23.534408</td>\n",
       "      <td>4.894776</td>\n",
       "      <td>11.74</td>\n",
       "      <td>21.20</td>\n",
       "      <td>24.00</td>\n",
       "      <td>26.91</td>\n",
       "      <td>34.57</td>\n",
       "      <td>549.0</td>\n",
       "      <td>23.841111</td>\n",
       "      <td>4.928274</td>\n",
       "      <td>11.81</td>\n",
       "      <td>21.52</td>\n",
       "      <td>24.28</td>\n",
       "      <td>27.37</td>\n",
       "      <td>35.34</td>\n",
       "      <td>549.0</td>\n",
       "      <td>3.589377e+05</td>\n",
       "      <td>2.350330e+05</td>\n",
       "      <td>98947.0</td>\n",
       "      <td>212542.0</td>\n",
       "      <td>296098.0</td>\n",
       "      <td>432736.0</td>\n",
       "      <td>2.312643e+06</td>\n",
       "      <td>549.0</td>\n",
       "      <td>12.639256</td>\n",
       "      <td>0.528870</td>\n",
       "      <td>11.502340</td>\n",
       "      <td>12.266895</td>\n",
       "      <td>12.598446</td>\n",
       "      <td>12.977883</td>\n",
       "      <td>14.653902</td>\n",
       "      <td>549.0</td>\n",
       "      <td>0.191658</td>\n",
       "      <td>2.024561</td>\n",
       "      <td>-6.62</td>\n",
       "      <td>-1.07</td>\n",
       "      <td>0.10</td>\n",
       "      <td>1.45</td>\n",
       "      <td>8.67</td>\n",
       "    </tr>\n",
       "    <tr>\n",
       "      <th>ABC</th>\n",
       "      <td>549.0</td>\n",
       "      <td>65.486612</td>\n",
       "      <td>26.902550</td>\n",
       "      <td>16.25</td>\n",
       "      <td>38.42</td>\n",
       "      <td>75.00</td>\n",
       "      <td>87.37</td>\n",
       "      <td>115.62</td>\n",
       "      <td>549.0</td>\n",
       "      <td>66.143497</td>\n",
       "      <td>27.160504</td>\n",
       "      <td>16.61</td>\n",
       "      <td>38.90</td>\n",
       "      <td>75.45</td>\n",
       "      <td>88.10</td>\n",
       "      <td>115.75</td>\n",
       "      <td>549.0</td>\n",
       "      <td>64.845282</td>\n",
       "      <td>26.620023</td>\n",
       "      <td>16.18</td>\n",
       "      <td>38.19</td>\n",
       "      <td>73.73</td>\n",
       "      <td>86.54</td>\n",
       "      <td>114.40</td>\n",
       "      <td>549.0</td>\n",
       "      <td>65.500055</td>\n",
       "      <td>26.874206</td>\n",
       "      <td>16.40</td>\n",
       "      <td>38.69</td>\n",
       "      <td>74.59</td>\n",
       "      <td>87.38</td>\n",
       "      <td>115.11</td>\n",
       "      <td>549.0</td>\n",
       "      <td>2.250123e+06</td>\n",
       "      <td>1.285222e+06</td>\n",
       "      <td>487220.0</td>\n",
       "      <td>1399772.0</td>\n",
       "      <td>1944692.0</td>\n",
       "      <td>2825868.0</td>\n",
       "      <td>9.725753e+06</td>\n",
       "      <td>549.0</td>\n",
       "      <td>14.491123</td>\n",
       "      <td>0.513785</td>\n",
       "      <td>13.096471</td>\n",
       "      <td>14.151820</td>\n",
       "      <td>14.480614</td>\n",
       "      <td>14.854326</td>\n",
       "      <td>16.090288</td>\n",
       "      <td>549.0</td>\n",
       "      <td>0.685574</td>\n",
       "      <td>5.153902</td>\n",
       "      <td>-20.37</td>\n",
       "      <td>-1.63</td>\n",
       "      <td>1.13</td>\n",
       "      <td>3.13</td>\n",
       "      <td>15.46</td>\n",
       "    </tr>\n",
       "  </tbody>\n",
       "</table>\n",
       "</div>"
      ],
      "text/plain": [
       "         Open                                                             \n",
       "        count       mean        std    min    25%    50%    75%     max   \n",
       "Symbol                                                                    \n",
       "A       549.0  42.670783  18.428922  11.67  28.89  39.43  59.23   89.97  \\\n",
       "AAON    549.0  22.137778  13.392906   5.52   9.02  20.60  33.45   56.70   \n",
       "AAPL    549.0  26.770510  15.721889   4.11  14.47  23.97  36.69   79.07   \n",
       "AB      549.0  23.853898   4.922727  11.92  21.61  24.30  27.45   34.76   \n",
       "ABC     549.0  65.486612  26.902550  16.25  38.42  75.00  87.37  115.62   \n",
       "\n",
       "         High                                                             \n",
       "        count       mean        std    min    25%    50%    75%     max   \n",
       "Symbol                                                                    \n",
       "A       549.0  43.080291  18.536023  11.67  29.32  39.58  59.72   90.28  \\\n",
       "AAON    549.0  22.443060  13.544826   5.91   9.10  20.80  34.10   57.26   \n",
       "AAPL    549.0  27.017304  15.877974   4.24  14.57  24.19  37.07   80.39   \n",
       "AB      549.0  24.161384   4.945973  11.97  21.89  24.60  27.70   35.61   \n",
       "ABC     549.0  66.143497  27.160504  16.61  38.90  75.45  88.10  115.75   \n",
       "\n",
       "          Low                                                             \n",
       "        count       mean        std    min    25%    50%    75%     max   \n",
       "Symbol                                                                    \n",
       "A       549.0  42.268998  18.286247  11.26  28.40  39.03  59.04   89.20  \\\n",
       "AAON    549.0  21.834226  13.234219   5.36   8.83  20.28  33.05   55.66   \n",
       "AAPL    549.0  26.541202  15.615109   4.05  14.30  23.72  36.34   78.75   \n",
       "AB      549.0  23.534408   4.894776  11.74  21.20  24.00  26.91   34.57   \n",
       "ABC     549.0  64.845282  26.620023  16.18  38.19  73.73  86.54  114.40   \n",
       "\n",
       "        Close                                                             \n",
       "        count       mean        std    min    25%    50%    75%     max   \n",
       "Symbol                                                                    \n",
       "A       549.0  42.700091  18.401620  11.43  28.58  39.34  59.13   90.12  \\\n",
       "AAON    549.0  22.147851  13.373923   5.41   8.99  20.47  33.90   55.74   \n",
       "AAPL    549.0  26.789162  15.757701   4.23  14.47  24.01  36.58   80.39   \n",
       "AB      549.0  23.841111   4.928274  11.81  21.52  24.28  27.37   35.34   \n",
       "ABC     549.0  65.500055  26.874206  16.40  38.69  74.59  87.38  115.11   \n",
       "\n",
       "       Volume                                                        \n",
       "        count          mean           std         min          25%   \n",
       "Symbol                                                               \n",
       "A       549.0  3.403598e+06  1.952184e+06    649078.0    1919771.0  \\\n",
       "AAON    549.0  1.658021e+05  9.280970e+04         0.0     102329.0   \n",
       "AAPL    549.0  3.111771e+08  2.332832e+08  45903688.0  127727776.0   \n",
       "AB      549.0  3.589377e+05  2.350330e+05     98947.0     212542.0   \n",
       "ABC     549.0  2.250123e+06  1.285222e+06    487220.0    1399772.0   \n",
       "\n",
       "                                               log_volume              \n",
       "                50%          75%           max      count       mean   \n",
       "Symbol                                                                 \n",
       "A         2933295.0    4468486.0  1.325393e+07      549.0  14.888074  \\\n",
       "AAON       140299.0     197281.0  6.303330e+05      549.0       -inf   \n",
       "AAPL    237467656.0  435295700.0  1.880987e+09      549.0  19.297390   \n",
       "AB         296098.0     432736.0  2.312643e+06      549.0  12.639256   \n",
       "ABC       1944692.0    2825868.0  9.725753e+06      549.0  14.491123   \n",
       "\n",
       "                                                                          \n",
       "             std        min        25%        50%        75%        max   \n",
       "Symbol                                                                    \n",
       "A       0.556143  13.383308  14.467716  14.891637  15.312560  16.399805  \\\n",
       "AAON         NaN       -inf  11.535948  11.851531  12.192384  13.354004   \n",
       "AAPL    0.726651  17.642056  18.665412  19.285542  19.891536  21.355062   \n",
       "AB      0.528870  11.502340  12.266895  12.598446  12.977883  14.653902   \n",
       "ABC     0.513785  13.096471  14.151820  14.480614  14.854326  16.090288   \n",
       "\n",
       "       Momentum_2Wk                                                      \n",
       "              count      mean       std    min   25%   50%   75%    max  \n",
       "Symbol                                                                   \n",
       "A             549.0  0.666102  3.131480 -13.91 -0.95  0.80  2.50  10.35  \n",
       "AAON          549.0  0.440820  2.509574 -13.34 -0.49  0.40  1.41  10.50  \n",
       "AAPL          549.0  0.673005  2.650824 -11.30 -0.52  0.54  1.73  12.14  \n",
       "AB            549.0  0.191658  2.024561  -6.62 -1.07  0.10  1.45   8.67  \n",
       "ABC           549.0  0.685574  5.153902 -20.37 -1.63  1.13  3.13  15.46  "
      ]
     },
     "execution_count": 7,
     "metadata": {},
     "output_type": "execute_result"
    }
   ],
   "source": [
    "# Group by symbol and describe the data\n",
    "stats_by_stock:pd.DataFrame = df.groupby(\"Symbol\").describe()\n",
    "stats_by_stock.head()\n",
    "# Uncomment to save the stats to a file\n",
    "# stats_by_stock.to_excel(\"./stats_by_stock.xlsx\")"
   ]
  },
  {
   "cell_type": "code",
   "execution_count": 8,
   "metadata": {},
   "outputs": [
    {
     "name": "stdout",
     "output_type": "stream",
     "text": [
      "(948672, 8)\n"
     ]
    },
    {
     "data": {
      "text/html": [
       "<div>\n",
       "<style scoped>\n",
       "    .dataframe tbody tr th:only-of-type {\n",
       "        vertical-align: middle;\n",
       "    }\n",
       "\n",
       "    .dataframe tbody tr th {\n",
       "        vertical-align: top;\n",
       "    }\n",
       "\n",
       "    .dataframe thead th {\n",
       "        text-align: right;\n",
       "    }\n",
       "</style>\n",
       "<table border=\"1\" class=\"dataframe\">\n",
       "  <thead>\n",
       "    <tr style=\"text-align: right;\">\n",
       "      <th></th>\n",
       "      <th>Symbol</th>\n",
       "      <th>Open</th>\n",
       "      <th>High</th>\n",
       "      <th>Low</th>\n",
       "      <th>Close</th>\n",
       "      <th>Volume</th>\n",
       "      <th>log_volume</th>\n",
       "      <th>Momentum_2Wk</th>\n",
       "    </tr>\n",
       "    <tr>\n",
       "      <th>Date</th>\n",
       "      <th></th>\n",
       "      <th></th>\n",
       "      <th></th>\n",
       "      <th></th>\n",
       "      <th></th>\n",
       "      <th></th>\n",
       "      <th></th>\n",
       "      <th></th>\n",
       "    </tr>\n",
       "  </thead>\n",
       "  <tbody>\n",
       "    <tr>\n",
       "      <th>2009-04-06 04:00:00</th>\n",
       "      <td>A</td>\n",
       "      <td>11.67</td>\n",
       "      <td>11.67</td>\n",
       "      <td>11.26</td>\n",
       "      <td>11.43</td>\n",
       "      <td>4691592</td>\n",
       "      <td>15.361283</td>\n",
       "      <td>2.36</td>\n",
       "    </tr>\n",
       "    <tr>\n",
       "      <th>2009-04-14 04:00:00</th>\n",
       "      <td>A</td>\n",
       "      <td>11.92</td>\n",
       "      <td>12.00</td>\n",
       "      <td>11.73</td>\n",
       "      <td>11.82</td>\n",
       "      <td>3114079</td>\n",
       "      <td>14.951444</td>\n",
       "      <td>2.92</td>\n",
       "    </tr>\n",
       "    <tr>\n",
       "      <th>2009-04-21 04:00:00</th>\n",
       "      <td>A</td>\n",
       "      <td>11.80</td>\n",
       "      <td>12.04</td>\n",
       "      <td>11.67</td>\n",
       "      <td>11.87</td>\n",
       "      <td>4251390</td>\n",
       "      <td>15.262757</td>\n",
       "      <td>2.03</td>\n",
       "    </tr>\n",
       "    <tr>\n",
       "      <th>2009-04-28 04:00:00</th>\n",
       "      <td>A</td>\n",
       "      <td>11.96</td>\n",
       "      <td>12.37</td>\n",
       "      <td>11.77</td>\n",
       "      <td>12.19</td>\n",
       "      <td>4939050</td>\n",
       "      <td>15.412684</td>\n",
       "      <td>0.82</td>\n",
       "    </tr>\n",
       "    <tr>\n",
       "      <th>2009-05-05 04:00:00</th>\n",
       "      <td>A</td>\n",
       "      <td>13.85</td>\n",
       "      <td>13.88</td>\n",
       "      <td>13.28</td>\n",
       "      <td>13.40</td>\n",
       "      <td>4895647</td>\n",
       "      <td>15.403857</td>\n",
       "      <td>2.39</td>\n",
       "    </tr>\n",
       "  </tbody>\n",
       "</table>\n",
       "</div>"
      ],
      "text/plain": [
       "                    Symbol   Open   High    Low  Close   Volume  log_volume   \n",
       "Date                                                                          \n",
       "2009-04-06 04:00:00      A  11.67  11.67  11.26  11.43  4691592   15.361283  \\\n",
       "2009-04-14 04:00:00      A  11.92  12.00  11.73  11.82  3114079   14.951444   \n",
       "2009-04-21 04:00:00      A  11.80  12.04  11.67  11.87  4251390   15.262757   \n",
       "2009-04-28 04:00:00      A  11.96  12.37  11.77  12.19  4939050   15.412684   \n",
       "2009-05-05 04:00:00      A  13.85  13.88  13.28  13.40  4895647   15.403857   \n",
       "\n",
       "                     Momentum_2Wk  \n",
       "Date                               \n",
       "2009-04-06 04:00:00          2.36  \n",
       "2009-04-14 04:00:00          2.92  \n",
       "2009-04-21 04:00:00          2.03  \n",
       "2009-04-28 04:00:00          0.82  \n",
       "2009-05-05 04:00:00          2.39  "
      ]
     },
     "execution_count": 8,
     "metadata": {},
     "output_type": "execute_result"
    }
   ],
   "source": [
    "# Select valid symbols\n",
    "upper_bound = stats_by_stock[\"Open\"][\"max\"] < 500\n",
    "lower_bound = stats_by_stock[\"Open\"][\"min\"] > 1\n",
    "outliers_removed = stats_by_stock[upper_bound & lower_bound]\n",
    "valid_symbols = outliers_removed.index.to_list()\n",
    "\n",
    "# Remove outliers from the data\n",
    "mask = df[\"Symbol\"].isin(valid_symbols)\n",
    "df = df[mask]\n",
    "print(df.shape)\n",
    "df.head()"
   ]
  },
  {
   "cell_type": "code",
   "execution_count": 9,
   "metadata": {},
   "outputs": [
    {
     "data": {
      "text/plain": [
       "Symbol\n",
       "AAPL     Axes(0.125,0.2;0.775x0.68)\n",
       "ADBE     Axes(0.125,0.2;0.775x0.68)\n",
       "AMD      Axes(0.125,0.2;0.775x0.68)\n",
       "AMZN     Axes(0.125,0.2;0.775x0.68)\n",
       "GOOGL    Axes(0.125,0.2;0.775x0.68)\n",
       "INTC     Axes(0.125,0.2;0.775x0.68)\n",
       "MSFT     Axes(0.125,0.2;0.775x0.68)\n",
       "NFLX     Axes(0.125,0.2;0.775x0.68)\n",
       "NVDA     Axes(0.125,0.2;0.775x0.68)\n",
       "T        Axes(0.125,0.2;0.775x0.68)\n",
       "Name: Open, dtype: object"
      ]
     },
     "execution_count": 9,
     "metadata": {},
     "output_type": "execute_result"
    },
    {
     "data": {
      "image/png": "[encoded data removed]",
      "text/plain": [
       "<Figure size 1200x600 with 1 Axes>"
      ]
     },
     "metadata": {},
     "output_type": "display_data"
    }
   ],
   "source": [
    "# Plot the open price by symbol for all stocks\n",
    "# df.groupby(\"Symbol\")[\"Open\"].plot(figsize=(20, 10), legend=False, title=\"Open Price by Symbol [All Stocks]\")\n",
    "# Plot the open price by symbol for 10 tech stocks\n",
    "select_stocks = [\"AAPL\", \"ADBE\", \"AMD\", \"AMZN\", \"GOOGL\", \"INTC\", \"MSFT\", \"NVDA\", \"NFLX\", \"T\"]\n",
    "df[df[\"Symbol\"].isin(select_stocks)].groupby(\"Symbol\")[\"Open\"].plot(figsize=(12, 6), legend=True, title=\"Open Price by Symbol [10 Common Tech Stocks]\", ylabel=\"Open Price ($)\", grid=True)"
   ]
  },
  {
   "cell_type": "code",
   "execution_count": 10,
   "metadata": {},
   "outputs": [
    {
     "data": {
      "text/html": [
       "<div>\n",
       "<style scoped>\n",
       "    .dataframe tbody tr th:only-of-type {\n",
       "        vertical-align: middle;\n",
       "    }\n",
       "\n",
       "    .dataframe tbody tr th {\n",
       "        vertical-align: top;\n",
       "    }\n",
       "\n",
       "    .dataframe thead th {\n",
       "        text-align: right;\n",
       "    }\n",
       "</style>\n",
       "<table border=\"1\" class=\"dataframe\">\n",
       "  <thead>\n",
       "    <tr style=\"text-align: right;\">\n",
       "      <th></th>\n",
       "      <th>Symbol</th>\n",
       "      <th>Open</th>\n",
       "      <th>High</th>\n",
       "      <th>Low</th>\n",
       "      <th>Close</th>\n",
       "      <th>Volume</th>\n",
       "      <th>log_volume</th>\n",
       "      <th>Momentum_2Wk</th>\n",
       "    </tr>\n",
       "    <tr>\n",
       "      <th>Date</th>\n",
       "      <th></th>\n",
       "      <th></th>\n",
       "      <th></th>\n",
       "      <th></th>\n",
       "      <th></th>\n",
       "      <th></th>\n",
       "      <th></th>\n",
       "      <th></th>\n",
       "    </tr>\n",
       "  </thead>\n",
       "  <tbody>\n",
       "    <tr>\n",
       "      <th>2009-04-06 04:00:00</th>\n",
       "      <td>AAPL</td>\n",
       "      <td>4.11</td>\n",
       "      <td>4.24</td>\n",
       "      <td>4.05</td>\n",
       "      <td>4.23</td>\n",
       "      <td>658062480</td>\n",
       "      <td>20.304810</td>\n",
       "      <td>1.09</td>\n",
       "    </tr>\n",
       "    <tr>\n",
       "      <th>2009-04-14 04:00:00</th>\n",
       "      <td>AAPL</td>\n",
       "      <td>4.27</td>\n",
       "      <td>4.29</td>\n",
       "      <td>4.19</td>\n",
       "      <td>4.23</td>\n",
       "      <td>454755700</td>\n",
       "      <td>19.935271</td>\n",
       "      <td>1.26</td>\n",
       "    </tr>\n",
       "    <tr>\n",
       "      <th>2009-04-21 04:00:00</th>\n",
       "      <td>AAPL</td>\n",
       "      <td>4.25</td>\n",
       "      <td>4.36</td>\n",
       "      <td>4.24</td>\n",
       "      <td>4.35</td>\n",
       "      <td>470684032</td>\n",
       "      <td>19.969698</td>\n",
       "      <td>0.94</td>\n",
       "    </tr>\n",
       "    <tr>\n",
       "      <th>2009-04-28 04:00:00</th>\n",
       "      <td>AAPL</td>\n",
       "      <td>4.41</td>\n",
       "      <td>4.51</td>\n",
       "      <td>4.40</td>\n",
       "      <td>4.43</td>\n",
       "      <td>455856632</td>\n",
       "      <td>19.937689</td>\n",
       "      <td>0.59</td>\n",
       "    </tr>\n",
       "    <tr>\n",
       "      <th>2009-05-05 04:00:00</th>\n",
       "      <td>AAPL</td>\n",
       "      <td>4.71</td>\n",
       "      <td>4.74</td>\n",
       "      <td>4.68</td>\n",
       "      <td>4.74</td>\n",
       "      <td>398401248</td>\n",
       "      <td>19.802970</td>\n",
       "      <td>1.01</td>\n",
       "    </tr>\n",
       "    <tr>\n",
       "      <th>2009-05-12 04:00:00</th>\n",
       "      <td>AAPL</td>\n",
       "      <td>4.63</td>\n",
       "      <td>4.63</td>\n",
       "      <td>4.40</td>\n",
       "      <td>4.44</td>\n",
       "      <td>609479240</td>\n",
       "      <td>20.228115</td>\n",
       "      <td>0.21</td>\n",
       "    </tr>\n",
       "    <tr>\n",
       "      <th>2009-05-19 04:00:00</th>\n",
       "      <td>AAPL</td>\n",
       "      <td>4.53</td>\n",
       "      <td>4.62</td>\n",
       "      <td>4.49</td>\n",
       "      <td>4.55</td>\n",
       "      <td>372422036</td>\n",
       "      <td>19.735538</td>\n",
       "      <td>0.32</td>\n",
       "    </tr>\n",
       "    <tr>\n",
       "      <th>2009-05-27 04:00:00</th>\n",
       "      <td>AAPL</td>\n",
       "      <td>4.71</td>\n",
       "      <td>4.82</td>\n",
       "      <td>4.68</td>\n",
       "      <td>4.75</td>\n",
       "      <td>646962680</td>\n",
       "      <td>20.287799</td>\n",
       "      <td>0.40</td>\n",
       "    </tr>\n",
       "    <tr>\n",
       "      <th>2009-06-03 04:00:00</th>\n",
       "      <td>AAPL</td>\n",
       "      <td>5.00</td>\n",
       "      <td>5.04</td>\n",
       "      <td>4.97</td>\n",
       "      <td>5.03</td>\n",
       "      <td>565198360</td>\n",
       "      <td>20.152687</td>\n",
       "      <td>0.60</td>\n",
       "    </tr>\n",
       "    <tr>\n",
       "      <th>2009-06-10 04:00:00</th>\n",
       "      <td>AAPL</td>\n",
       "      <td>5.08</td>\n",
       "      <td>5.08</td>\n",
       "      <td>4.94</td>\n",
       "      <td>5.01</td>\n",
       "      <td>688798920</td>\n",
       "      <td>20.350460</td>\n",
       "      <td>0.27</td>\n",
       "    </tr>\n",
       "    <tr>\n",
       "      <th>2009-04-06 04:00:00</th>\n",
       "      <td>ADBE</td>\n",
       "      <td>23.85</td>\n",
       "      <td>24.00</td>\n",
       "      <td>22.78</td>\n",
       "      <td>23.19</td>\n",
       "      <td>8072352</td>\n",
       "      <td>15.903955</td>\n",
       "      <td>7.15</td>\n",
       "    </tr>\n",
       "    <tr>\n",
       "      <th>2009-04-14 04:00:00</th>\n",
       "      <td>ADBE</td>\n",
       "      <td>24.38</td>\n",
       "      <td>24.49</td>\n",
       "      <td>23.84</td>\n",
       "      <td>24.01</td>\n",
       "      <td>6544931</td>\n",
       "      <td>15.694201</td>\n",
       "      <td>7.23</td>\n",
       "    </tr>\n",
       "    <tr>\n",
       "      <th>2009-04-21 04:00:00</th>\n",
       "      <td>ADBE</td>\n",
       "      <td>23.35</td>\n",
       "      <td>24.13</td>\n",
       "      <td>23.25</td>\n",
       "      <td>23.75</td>\n",
       "      <td>7442989</td>\n",
       "      <td>15.822783</td>\n",
       "      <td>5.30</td>\n",
       "    </tr>\n",
       "    <tr>\n",
       "      <th>2009-04-28 04:00:00</th>\n",
       "      <td>ADBE</td>\n",
       "      <td>25.70</td>\n",
       "      <td>25.95</td>\n",
       "      <td>25.25</td>\n",
       "      <td>25.70</td>\n",
       "      <td>8099823</td>\n",
       "      <td>15.907353</td>\n",
       "      <td>3.01</td>\n",
       "    </tr>\n",
       "    <tr>\n",
       "      <th>2009-05-05 04:00:00</th>\n",
       "      <td>ADBE</td>\n",
       "      <td>26.74</td>\n",
       "      <td>26.91</td>\n",
       "      <td>26.20</td>\n",
       "      <td>26.89</td>\n",
       "      <td>8157398</td>\n",
       "      <td>15.914436</td>\n",
       "      <td>6.07</td>\n",
       "    </tr>\n",
       "    <tr>\n",
       "      <th>2009-05-12 04:00:00</th>\n",
       "      <td>ADBE</td>\n",
       "      <td>26.32</td>\n",
       "      <td>26.34</td>\n",
       "      <td>25.67</td>\n",
       "      <td>25.99</td>\n",
       "      <td>5077853</td>\n",
       "      <td>15.440399</td>\n",
       "      <td>2.80</td>\n",
       "    </tr>\n",
       "    <tr>\n",
       "      <th>2009-05-19 04:00:00</th>\n",
       "      <td>ADBE</td>\n",
       "      <td>26.25</td>\n",
       "      <td>26.81</td>\n",
       "      <td>26.01</td>\n",
       "      <td>26.56</td>\n",
       "      <td>3509486</td>\n",
       "      <td>15.070980</td>\n",
       "      <td>2.55</td>\n",
       "    </tr>\n",
       "    <tr>\n",
       "      <th>2009-05-27 04:00:00</th>\n",
       "      <td>ADBE</td>\n",
       "      <td>27.67</td>\n",
       "      <td>28.07</td>\n",
       "      <td>27.15</td>\n",
       "      <td>27.25</td>\n",
       "      <td>5013697</td>\n",
       "      <td>15.427684</td>\n",
       "      <td>3.50</td>\n",
       "    </tr>\n",
       "    <tr>\n",
       "      <th>2009-06-03 04:00:00</th>\n",
       "      <td>ADBE</td>\n",
       "      <td>29.05</td>\n",
       "      <td>29.49</td>\n",
       "      <td>28.30</td>\n",
       "      <td>29.06</td>\n",
       "      <td>8572649</td>\n",
       "      <td>15.964087</td>\n",
       "      <td>3.36</td>\n",
       "    </tr>\n",
       "    <tr>\n",
       "      <th>2009-06-10 04:00:00</th>\n",
       "      <td>ADBE</td>\n",
       "      <td>29.88</td>\n",
       "      <td>30.43</td>\n",
       "      <td>29.63</td>\n",
       "      <td>30.17</td>\n",
       "      <td>8515301</td>\n",
       "      <td>15.957375</td>\n",
       "      <td>3.28</td>\n",
       "    </tr>\n",
       "    <tr>\n",
       "      <th>2009-04-06 04:00:00</th>\n",
       "      <td>AMD</td>\n",
       "      <td>3.30</td>\n",
       "      <td>3.56</td>\n",
       "      <td>3.25</td>\n",
       "      <td>3.53</td>\n",
       "      <td>15237607</td>\n",
       "      <td>16.539277</td>\n",
       "      <td>1.52</td>\n",
       "    </tr>\n",
       "    <tr>\n",
       "      <th>2009-04-14 04:00:00</th>\n",
       "      <td>AMD</td>\n",
       "      <td>3.59</td>\n",
       "      <td>3.85</td>\n",
       "      <td>3.53</td>\n",
       "      <td>3.63</td>\n",
       "      <td>14713741</td>\n",
       "      <td>16.504292</td>\n",
       "      <td>1.49</td>\n",
       "    </tr>\n",
       "    <tr>\n",
       "      <th>2009-04-21 04:00:00</th>\n",
       "      <td>AMD</td>\n",
       "      <td>3.23</td>\n",
       "      <td>3.36</td>\n",
       "      <td>3.20</td>\n",
       "      <td>3.36</td>\n",
       "      <td>14244496</td>\n",
       "      <td>16.471881</td>\n",
       "      <td>0.88</td>\n",
       "    </tr>\n",
       "    <tr>\n",
       "      <th>2009-04-28 04:00:00</th>\n",
       "      <td>AMD</td>\n",
       "      <td>3.41</td>\n",
       "      <td>3.55</td>\n",
       "      <td>3.35</td>\n",
       "      <td>3.41</td>\n",
       "      <td>12109634</td>\n",
       "      <td>16.309512</td>\n",
       "      <td>0.39</td>\n",
       "    </tr>\n",
       "    <tr>\n",
       "      <th>2009-05-05 04:00:00</th>\n",
       "      <td>AMD</td>\n",
       "      <td>4.36</td>\n",
       "      <td>4.39</td>\n",
       "      <td>4.11</td>\n",
       "      <td>4.32</td>\n",
       "      <td>16371122</td>\n",
       "      <td>16.611029</td>\n",
       "      <td>1.13</td>\n",
       "    </tr>\n",
       "    <tr>\n",
       "      <th>2009-05-12 04:00:00</th>\n",
       "      <td>AMD</td>\n",
       "      <td>4.41</td>\n",
       "      <td>4.50</td>\n",
       "      <td>4.13</td>\n",
       "      <td>4.35</td>\n",
       "      <td>29756636</td>\n",
       "      <td>17.208563</td>\n",
       "      <td>0.82</td>\n",
       "    </tr>\n",
       "    <tr>\n",
       "      <th>2009-05-19 04:00:00</th>\n",
       "      <td>AMD</td>\n",
       "      <td>4.30</td>\n",
       "      <td>4.50</td>\n",
       "      <td>4.24</td>\n",
       "      <td>4.39</td>\n",
       "      <td>23195951</td>\n",
       "      <td>16.959488</td>\n",
       "      <td>0.76</td>\n",
       "    </tr>\n",
       "    <tr>\n",
       "      <th>2009-05-27 04:00:00</th>\n",
       "      <td>AMD</td>\n",
       "      <td>4.57</td>\n",
       "      <td>4.80</td>\n",
       "      <td>4.55</td>\n",
       "      <td>4.71</td>\n",
       "      <td>21521553</td>\n",
       "      <td>16.884565</td>\n",
       "      <td>1.35</td>\n",
       "    </tr>\n",
       "    <tr>\n",
       "      <th>2009-06-03 04:00:00</th>\n",
       "      <td>AMD</td>\n",
       "      <td>4.55</td>\n",
       "      <td>4.60</td>\n",
       "      <td>4.34</td>\n",
       "      <td>4.48</td>\n",
       "      <td>19096525</td>\n",
       "      <td>16.765017</td>\n",
       "      <td>1.07</td>\n",
       "    </tr>\n",
       "    <tr>\n",
       "      <th>2009-06-10 04:00:00</th>\n",
       "      <td>AMD</td>\n",
       "      <td>4.81</td>\n",
       "      <td>4.86</td>\n",
       "      <td>4.70</td>\n",
       "      <td>4.82</td>\n",
       "      <td>18331721</td>\n",
       "      <td>16.724144</td>\n",
       "      <td>0.50</td>\n",
       "    </tr>\n",
       "    <tr>\n",
       "      <th>2009-04-06 04:00:00</th>\n",
       "      <td>AMZN</td>\n",
       "      <td>3.86</td>\n",
       "      <td>3.92</td>\n",
       "      <td>3.80</td>\n",
       "      <td>3.90</td>\n",
       "      <td>115163360</td>\n",
       "      <td>18.561862</td>\n",
       "      <td>0.80</td>\n",
       "    </tr>\n",
       "    <tr>\n",
       "      <th>2009-04-14 04:00:00</th>\n",
       "      <td>AMZN</td>\n",
       "      <td>3.90</td>\n",
       "      <td>3.97</td>\n",
       "      <td>3.85</td>\n",
       "      <td>3.86</td>\n",
       "      <td>123310600</td>\n",
       "      <td>18.630217</td>\n",
       "      <td>0.84</td>\n",
       "    </tr>\n",
       "    <tr>\n",
       "      <th>2009-04-21 04:00:00</th>\n",
       "      <td>AMZN</td>\n",
       "      <td>3.87</td>\n",
       "      <td>3.96</td>\n",
       "      <td>3.86</td>\n",
       "      <td>3.94</td>\n",
       "      <td>143262420</td>\n",
       "      <td>18.780189</td>\n",
       "      <td>0.59</td>\n",
       "    </tr>\n",
       "    <tr>\n",
       "      <th>2009-04-28 04:00:00</th>\n",
       "      <td>AMZN</td>\n",
       "      <td>4.13</td>\n",
       "      <td>4.27</td>\n",
       "      <td>4.12</td>\n",
       "      <td>4.12</td>\n",
       "      <td>158525460</td>\n",
       "      <td>18.881426</td>\n",
       "      <td>0.34</td>\n",
       "    </tr>\n",
       "    <tr>\n",
       "      <th>2009-05-05 04:00:00</th>\n",
       "      <td>AMZN</td>\n",
       "      <td>4.05</td>\n",
       "      <td>4.10</td>\n",
       "      <td>4.01</td>\n",
       "      <td>4.10</td>\n",
       "      <td>117492400</td>\n",
       "      <td>18.581884</td>\n",
       "      <td>0.53</td>\n",
       "    </tr>\n",
       "    <tr>\n",
       "      <th>2009-05-12 04:00:00</th>\n",
       "      <td>AMZN</td>\n",
       "      <td>3.94</td>\n",
       "      <td>3.95</td>\n",
       "      <td>3.83</td>\n",
       "      <td>3.90</td>\n",
       "      <td>111023440</td>\n",
       "      <td>18.525252</td>\n",
       "      <td>0.00</td>\n",
       "    </tr>\n",
       "    <tr>\n",
       "      <th>2009-05-19 04:00:00</th>\n",
       "      <td>AMZN</td>\n",
       "      <td>3.77</td>\n",
       "      <td>3.95</td>\n",
       "      <td>3.76</td>\n",
       "      <td>3.89</td>\n",
       "      <td>160576380</td>\n",
       "      <td>18.894280</td>\n",
       "      <td>0.03</td>\n",
       "    </tr>\n",
       "    <tr>\n",
       "      <th>2009-05-27 04:00:00</th>\n",
       "      <td>AMZN</td>\n",
       "      <td>3.93</td>\n",
       "      <td>3.98</td>\n",
       "      <td>3.84</td>\n",
       "      <td>3.86</td>\n",
       "      <td>111375620</td>\n",
       "      <td>18.528419</td>\n",
       "      <td>-0.08</td>\n",
       "    </tr>\n",
       "    <tr>\n",
       "      <th>2009-06-03 04:00:00</th>\n",
       "      <td>AMZN</td>\n",
       "      <td>4.17</td>\n",
       "      <td>4.29</td>\n",
       "      <td>4.16</td>\n",
       "      <td>4.28</td>\n",
       "      <td>152096380</td>\n",
       "      <td>18.840025</td>\n",
       "      <td>0.16</td>\n",
       "    </tr>\n",
       "    <tr>\n",
       "      <th>2009-06-10 04:00:00</th>\n",
       "      <td>AMZN</td>\n",
       "      <td>4.38</td>\n",
       "      <td>4.43</td>\n",
       "      <td>4.24</td>\n",
       "      <td>4.33</td>\n",
       "      <td>121475280</td>\n",
       "      <td>18.615221</td>\n",
       "      <td>0.23</td>\n",
       "    </tr>\n",
       "    <tr>\n",
       "      <th>2009-04-06 04:00:00</th>\n",
       "      <td>GOOGL</td>\n",
       "      <td>9.18</td>\n",
       "      <td>9.25</td>\n",
       "      <td>9.04</td>\n",
       "      <td>9.21</td>\n",
       "      <td>131143300</td>\n",
       "      <td>18.691801</td>\n",
       "      <td>1.02</td>\n",
       "    </tr>\n",
       "    <tr>\n",
       "      <th>2009-04-14 04:00:00</th>\n",
       "      <td>GOOGL</td>\n",
       "      <td>9.43</td>\n",
       "      <td>9.43</td>\n",
       "      <td>9.15</td>\n",
       "      <td>9.23</td>\n",
       "      <td>137041540</td>\n",
       "      <td>18.735795</td>\n",
       "      <td>1.95</td>\n",
       "    </tr>\n",
       "    <tr>\n",
       "      <th>2009-04-21 04:00:00</th>\n",
       "      <td>GOOGL</td>\n",
       "      <td>9.41</td>\n",
       "      <td>9.62</td>\n",
       "      <td>9.41</td>\n",
       "      <td>9.55</td>\n",
       "      <td>147748840</td>\n",
       "      <td>18.811024</td>\n",
       "      <td>1.55</td>\n",
       "    </tr>\n",
       "    <tr>\n",
       "      <th>2009-04-28 04:00:00</th>\n",
       "      <td>GOOGL</td>\n",
       "      <td>9.60</td>\n",
       "      <td>9.74</td>\n",
       "      <td>9.55</td>\n",
       "      <td>9.60</td>\n",
       "      <td>117643500</td>\n",
       "      <td>18.583169</td>\n",
       "      <td>0.88</td>\n",
       "    </tr>\n",
       "    <tr>\n",
       "      <th>2009-05-05 04:00:00</th>\n",
       "      <td>GOOGL</td>\n",
       "      <td>10.01</td>\n",
       "      <td>10.13</td>\n",
       "      <td>9.94</td>\n",
       "      <td>10.08</td>\n",
       "      <td>95950840</td>\n",
       "      <td>18.379347</td>\n",
       "      <td>1.50</td>\n",
       "    </tr>\n",
       "    <tr>\n",
       "      <th>2009-05-12 04:00:00</th>\n",
       "      <td>GOOGL</td>\n",
       "      <td>10.26</td>\n",
       "      <td>10.28</td>\n",
       "      <td>9.89</td>\n",
       "      <td>9.98</td>\n",
       "      <td>151711100</td>\n",
       "      <td>18.837489</td>\n",
       "      <td>0.77</td>\n",
       "    </tr>\n",
       "    <tr>\n",
       "      <th>2009-05-19 04:00:00</th>\n",
       "      <td>GOOGL</td>\n",
       "      <td>9.91</td>\n",
       "      <td>10.05</td>\n",
       "      <td>9.83</td>\n",
       "      <td>9.98</td>\n",
       "      <td>113403020</td>\n",
       "      <td>18.546459</td>\n",
       "      <td>0.75</td>\n",
       "    </tr>\n",
       "    <tr>\n",
       "      <th>2009-05-27 04:00:00</th>\n",
       "      <td>GOOGL</td>\n",
       "      <td>10.15</td>\n",
       "      <td>10.31</td>\n",
       "      <td>10.13</td>\n",
       "      <td>10.15</td>\n",
       "      <td>121318100</td>\n",
       "      <td>18.613927</td>\n",
       "      <td>0.60</td>\n",
       "    </tr>\n",
       "    <tr>\n",
       "      <th>2009-06-03 04:00:00</th>\n",
       "      <td>GOOGL</td>\n",
       "      <td>10.66</td>\n",
       "      <td>10.82</td>\n",
       "      <td>10.61</td>\n",
       "      <td>10.80</td>\n",
       "      <td>141286800</td>\n",
       "      <td>18.766302</td>\n",
       "      <td>1.20</td>\n",
       "    </tr>\n",
       "    <tr>\n",
       "      <th>2009-06-10 04:00:00</th>\n",
       "      <td>GOOGL</td>\n",
       "      <td>10.92</td>\n",
       "      <td>10.96</td>\n",
       "      <td>10.68</td>\n",
       "      <td>10.83</td>\n",
       "      <td>134224720</td>\n",
       "      <td>18.715026</td>\n",
       "      <td>0.75</td>\n",
       "    </tr>\n",
       "    <tr>\n",
       "      <th>2009-04-06 04:00:00</th>\n",
       "      <td>INTC</td>\n",
       "      <td>15.65</td>\n",
       "      <td>15.87</td>\n",
       "      <td>15.45</td>\n",
       "      <td>15.86</td>\n",
       "      <td>47656242</td>\n",
       "      <td>17.679524</td>\n",
       "      <td>3.55</td>\n",
       "    </tr>\n",
       "    <tr>\n",
       "      <th>2009-04-14 04:00:00</th>\n",
       "      <td>INTC</td>\n",
       "      <td>15.98</td>\n",
       "      <td>16.39</td>\n",
       "      <td>15.80</td>\n",
       "      <td>16.01</td>\n",
       "      <td>92083528</td>\n",
       "      <td>18.338207</td>\n",
       "      <td>3.46</td>\n",
       "    </tr>\n",
       "    <tr>\n",
       "      <th>2009-04-21 04:00:00</th>\n",
       "      <td>INTC</td>\n",
       "      <td>14.98</td>\n",
       "      <td>15.52</td>\n",
       "      <td>14.96</td>\n",
       "      <td>15.36</td>\n",
       "      <td>85204162</td>\n",
       "      <td>18.260561</td>\n",
       "      <td>1.11</td>\n",
       "    </tr>\n",
       "    <tr>\n",
       "      <th>2009-04-28 04:00:00</th>\n",
       "      <td>INTC</td>\n",
       "      <td>15.12</td>\n",
       "      <td>15.41</td>\n",
       "      <td>15.04</td>\n",
       "      <td>15.05</td>\n",
       "      <td>55531586</td>\n",
       "      <td>17.832463</td>\n",
       "      <td>-0.47</td>\n",
       "    </tr>\n",
       "    <tr>\n",
       "      <th>2009-05-05 04:00:00</th>\n",
       "      <td>INTC</td>\n",
       "      <td>16.53</td>\n",
       "      <td>16.53</td>\n",
       "      <td>15.93</td>\n",
       "      <td>16.16</td>\n",
       "      <td>67908966</td>\n",
       "      <td>18.033679</td>\n",
       "      <td>1.44</td>\n",
       "    </tr>\n",
       "    <tr>\n",
       "      <th>2009-05-12 04:00:00</th>\n",
       "      <td>INTC</td>\n",
       "      <td>15.49</td>\n",
       "      <td>15.53</td>\n",
       "      <td>15.00</td>\n",
       "      <td>15.21</td>\n",
       "      <td>73713948</td>\n",
       "      <td>18.115703</td>\n",
       "      <td>-0.65</td>\n",
       "    </tr>\n",
       "    <tr>\n",
       "      <th>2009-05-19 04:00:00</th>\n",
       "      <td>INTC</td>\n",
       "      <td>15.47</td>\n",
       "      <td>15.91</td>\n",
       "      <td>15.27</td>\n",
       "      <td>15.65</td>\n",
       "      <td>59048111</td>\n",
       "      <td>17.893863</td>\n",
       "      <td>-0.36</td>\n",
       "    </tr>\n",
       "    <tr>\n",
       "      <th>2009-05-27 04:00:00</th>\n",
       "      <td>INTC</td>\n",
       "      <td>15.50</td>\n",
       "      <td>15.86</td>\n",
       "      <td>15.34</td>\n",
       "      <td>15.46</td>\n",
       "      <td>60491053</td>\n",
       "      <td>17.918006</td>\n",
       "      <td>0.10</td>\n",
       "    </tr>\n",
       "    <tr>\n",
       "      <th>2009-06-03 04:00:00</th>\n",
       "      <td>INTC</td>\n",
       "      <td>15.97</td>\n",
       "      <td>16.04</td>\n",
       "      <td>15.72</td>\n",
       "      <td>15.94</td>\n",
       "      <td>49798904</td>\n",
       "      <td>17.723504</td>\n",
       "      <td>0.89</td>\n",
       "    </tr>\n",
       "    <tr>\n",
       "      <th>2009-06-10 04:00:00</th>\n",
       "      <td>INTC</td>\n",
       "      <td>16.58</td>\n",
       "      <td>16.61</td>\n",
       "      <td>16.15</td>\n",
       "      <td>16.46</td>\n",
       "      <td>48785313</td>\n",
       "      <td>17.702940</td>\n",
       "      <td>0.30</td>\n",
       "    </tr>\n",
       "    <tr>\n",
       "      <th>2009-04-06 04:00:00</th>\n",
       "      <td>MSFT</td>\n",
       "      <td>18.54</td>\n",
       "      <td>18.76</td>\n",
       "      <td>18.26</td>\n",
       "      <td>18.76</td>\n",
       "      <td>47478684</td>\n",
       "      <td>17.675791</td>\n",
       "      <td>2.97</td>\n",
       "    </tr>\n",
       "    <tr>\n",
       "      <th>2009-04-14 04:00:00</th>\n",
       "      <td>MSFT</td>\n",
       "      <td>19.44</td>\n",
       "      <td>19.55</td>\n",
       "      <td>19.00</td>\n",
       "      <td>19.35</td>\n",
       "      <td>63796243</td>\n",
       "      <td>17.971205</td>\n",
       "      <td>4.20</td>\n",
       "    </tr>\n",
       "    <tr>\n",
       "      <th>2009-04-21 04:00:00</th>\n",
       "      <td>MSFT</td>\n",
       "      <td>18.59</td>\n",
       "      <td>19.08</td>\n",
       "      <td>18.57</td>\n",
       "      <td>18.97</td>\n",
       "      <td>60928280</td>\n",
       "      <td>17.925208</td>\n",
       "      <td>2.72</td>\n",
       "    </tr>\n",
       "    <tr>\n",
       "      <th>2009-04-28 04:00:00</th>\n",
       "      <td>MSFT</td>\n",
       "      <td>20.25</td>\n",
       "      <td>20.27</td>\n",
       "      <td>19.79</td>\n",
       "      <td>19.93</td>\n",
       "      <td>76688300</td>\n",
       "      <td>18.155260</td>\n",
       "      <td>1.60</td>\n",
       "    </tr>\n",
       "    <tr>\n",
       "      <th>2009-05-05 04:00:00</th>\n",
       "      <td>MSFT</td>\n",
       "      <td>20.14</td>\n",
       "      <td>20.24</td>\n",
       "      <td>19.64</td>\n",
       "      <td>19.79</td>\n",
       "      <td>67242977</td>\n",
       "      <td>18.023823</td>\n",
       "      <td>2.31</td>\n",
       "    </tr>\n",
       "    <tr>\n",
       "      <th>2009-05-12 04:00:00</th>\n",
       "      <td>MSFT</td>\n",
       "      <td>19.51</td>\n",
       "      <td>20.06</td>\n",
       "      <td>19.47</td>\n",
       "      <td>19.89</td>\n",
       "      <td>71966786</td>\n",
       "      <td>18.091715</td>\n",
       "      <td>1.13</td>\n",
       "    </tr>\n",
       "    <tr>\n",
       "      <th>2009-05-19 04:00:00</th>\n",
       "      <td>MSFT</td>\n",
       "      <td>20.51</td>\n",
       "      <td>20.74</td>\n",
       "      <td>20.25</td>\n",
       "      <td>20.31</td>\n",
       "      <td>51368251</td>\n",
       "      <td>17.754531</td>\n",
       "      <td>0.96</td>\n",
       "    </tr>\n",
       "    <tr>\n",
       "      <th>2009-05-27 04:00:00</th>\n",
       "      <td>MSFT</td>\n",
       "      <td>20.25</td>\n",
       "      <td>20.60</td>\n",
       "      <td>20.07</td>\n",
       "      <td>20.13</td>\n",
       "      <td>42898438</td>\n",
       "      <td>17.574346</td>\n",
       "      <td>1.16</td>\n",
       "    </tr>\n",
       "    <tr>\n",
       "      <th>2009-06-03 04:00:00</th>\n",
       "      <td>MSFT</td>\n",
       "      <td>21.31</td>\n",
       "      <td>21.76</td>\n",
       "      <td>21.29</td>\n",
       "      <td>21.73</td>\n",
       "      <td>56047439</td>\n",
       "      <td>17.841709</td>\n",
       "      <td>1.80</td>\n",
       "    </tr>\n",
       "    <tr>\n",
       "      <th>2009-06-10 04:00:00</th>\n",
       "      <td>MSFT</td>\n",
       "      <td>22.17</td>\n",
       "      <td>22.62</td>\n",
       "      <td>22.12</td>\n",
       "      <td>22.55</td>\n",
       "      <td>61297117</td>\n",
       "      <td>17.931243</td>\n",
       "      <td>2.76</td>\n",
       "    </tr>\n",
       "    <tr>\n",
       "      <th>2009-04-06 04:00:00</th>\n",
       "      <td>NFLX</td>\n",
       "      <td>6.14</td>\n",
       "      <td>6.38</td>\n",
       "      <td>6.10</td>\n",
       "      <td>6.36</td>\n",
       "      <td>12520634</td>\n",
       "      <td>16.342889</td>\n",
       "      <td>1.45</td>\n",
       "    </tr>\n",
       "    <tr>\n",
       "      <th>2009-04-14 04:00:00</th>\n",
       "      <td>NFLX</td>\n",
       "      <td>6.95</td>\n",
       "      <td>6.97</td>\n",
       "      <td>6.78</td>\n",
       "      <td>6.83</td>\n",
       "      <td>16958060</td>\n",
       "      <td>16.646254</td>\n",
       "      <td>1.33</td>\n",
       "    </tr>\n",
       "    <tr>\n",
       "      <th>2009-04-21 04:00:00</th>\n",
       "      <td>NFLX</td>\n",
       "      <td>7.06</td>\n",
       "      <td>7.07</td>\n",
       "      <td>6.40</td>\n",
       "      <td>6.66</td>\n",
       "      <td>24562762</td>\n",
       "      <td>17.016742</td>\n",
       "      <td>1.14</td>\n",
       "    </tr>\n",
       "    <tr>\n",
       "      <th>2009-04-28 04:00:00</th>\n",
       "      <td>NFLX</td>\n",
       "      <td>6.54</td>\n",
       "      <td>6.80</td>\n",
       "      <td>6.43</td>\n",
       "      <td>6.60</td>\n",
       "      <td>16545277</td>\n",
       "      <td>16.621611</td>\n",
       "      <td>0.40</td>\n",
       "    </tr>\n",
       "    <tr>\n",
       "      <th>2009-05-05 04:00:00</th>\n",
       "      <td>NFLX</td>\n",
       "      <td>6.42</td>\n",
       "      <td>6.50</td>\n",
       "      <td>6.36</td>\n",
       "      <td>6.44</td>\n",
       "      <td>7007686</td>\n",
       "      <td>15.762518</td>\n",
       "      <td>0.44</td>\n",
       "    </tr>\n",
       "    <tr>\n",
       "      <th>2009-05-12 04:00:00</th>\n",
       "      <td>NFLX</td>\n",
       "      <td>5.66</td>\n",
       "      <td>5.81</td>\n",
       "      <td>5.54</td>\n",
       "      <td>5.76</td>\n",
       "      <td>13068118</td>\n",
       "      <td>16.385686</td>\n",
       "      <td>-0.60</td>\n",
       "    </tr>\n",
       "    <tr>\n",
       "      <th>2009-05-19 04:00:00</th>\n",
       "      <td>NFLX</td>\n",
       "      <td>5.59</td>\n",
       "      <td>5.76</td>\n",
       "      <td>5.55</td>\n",
       "      <td>5.66</td>\n",
       "      <td>13829249</td>\n",
       "      <td>16.442296</td>\n",
       "      <td>-1.17</td>\n",
       "    </tr>\n",
       "    <tr>\n",
       "      <th>2009-05-27 04:00:00</th>\n",
       "      <td>NFLX</td>\n",
       "      <td>5.72</td>\n",
       "      <td>5.77</td>\n",
       "      <td>5.55</td>\n",
       "      <td>5.56</td>\n",
       "      <td>9294180</td>\n",
       "      <td>16.044899</td>\n",
       "      <td>-1.10</td>\n",
       "    </tr>\n",
       "    <tr>\n",
       "      <th>2009-06-03 04:00:00</th>\n",
       "      <td>NFLX</td>\n",
       "      <td>5.84</td>\n",
       "      <td>5.89</td>\n",
       "      <td>5.69</td>\n",
       "      <td>5.79</td>\n",
       "      <td>7412174</td>\n",
       "      <td>15.818634</td>\n",
       "      <td>-0.81</td>\n",
       "    </tr>\n",
       "    <tr>\n",
       "      <th>2009-06-10 04:00:00</th>\n",
       "      <td>NFLX</td>\n",
       "      <td>5.65</td>\n",
       "      <td>5.66</td>\n",
       "      <td>5.37</td>\n",
       "      <td>5.41</td>\n",
       "      <td>13949152</td>\n",
       "      <td>16.450929</td>\n",
       "      <td>-1.03</td>\n",
       "    </tr>\n",
       "    <tr>\n",
       "      <th>2009-04-06 04:00:00</th>\n",
       "      <td>NVDA</td>\n",
       "      <td>2.78</td>\n",
       "      <td>2.86</td>\n",
       "      <td>2.74</td>\n",
       "      <td>2.84</td>\n",
       "      <td>88748612</td>\n",
       "      <td>18.301318</td>\n",
       "      <td>0.94</td>\n",
       "    </tr>\n",
       "    <tr>\n",
       "      <th>2009-04-14 04:00:00</th>\n",
       "      <td>NVDA</td>\n",
       "      <td>2.87</td>\n",
       "      <td>3.00</td>\n",
       "      <td>2.86</td>\n",
       "      <td>2.93</td>\n",
       "      <td>71234600</td>\n",
       "      <td>18.081489</td>\n",
       "      <td>0.85</td>\n",
       "    </tr>\n",
       "    <tr>\n",
       "      <th>2009-04-21 04:00:00</th>\n",
       "      <td>NVDA</td>\n",
       "      <td>2.72</td>\n",
       "      <td>2.87</td>\n",
       "      <td>2.68</td>\n",
       "      <td>2.76</td>\n",
       "      <td>93219320</td>\n",
       "      <td>18.350466</td>\n",
       "      <td>0.40</td>\n",
       "    </tr>\n",
       "    <tr>\n",
       "      <th>2009-04-28 04:00:00</th>\n",
       "      <td>NVDA</td>\n",
       "      <td>2.72</td>\n",
       "      <td>2.82</td>\n",
       "      <td>2.70</td>\n",
       "      <td>2.76</td>\n",
       "      <td>63450192</td>\n",
       "      <td>17.965766</td>\n",
       "      <td>0.20</td>\n",
       "    </tr>\n",
       "    <tr>\n",
       "      <th>2009-05-05 04:00:00</th>\n",
       "      <td>NVDA</td>\n",
       "      <td>3.01</td>\n",
       "      <td>3.03</td>\n",
       "      <td>2.89</td>\n",
       "      <td>2.95</td>\n",
       "      <td>83721396</td>\n",
       "      <td>18.243005</td>\n",
       "      <td>0.50</td>\n",
       "    </tr>\n",
       "    <tr>\n",
       "      <th>2009-05-12 04:00:00</th>\n",
       "      <td>NVDA</td>\n",
       "      <td>2.41</td>\n",
       "      <td>2.41</td>\n",
       "      <td>2.20</td>\n",
       "      <td>2.24</td>\n",
       "      <td>120138104</td>\n",
       "      <td>18.604153</td>\n",
       "      <td>-0.60</td>\n",
       "    </tr>\n",
       "    <tr>\n",
       "      <th>2009-05-19 04:00:00</th>\n",
       "      <td>NVDA</td>\n",
       "      <td>2.33</td>\n",
       "      <td>2.39</td>\n",
       "      <td>2.30</td>\n",
       "      <td>2.36</td>\n",
       "      <td>86005728</td>\n",
       "      <td>18.269924</td>\n",
       "      <td>-0.57</td>\n",
       "    </tr>\n",
       "    <tr>\n",
       "      <th>2009-05-27 04:00:00</th>\n",
       "      <td>NVDA</td>\n",
       "      <td>2.58</td>\n",
       "      <td>2.67</td>\n",
       "      <td>2.55</td>\n",
       "      <td>2.59</td>\n",
       "      <td>81421648</td>\n",
       "      <td>18.215152</td>\n",
       "      <td>-0.17</td>\n",
       "    </tr>\n",
       "    <tr>\n",
       "      <th>2009-06-03 04:00:00</th>\n",
       "      <td>NVDA</td>\n",
       "      <td>2.68</td>\n",
       "      <td>2.69</td>\n",
       "      <td>2.56</td>\n",
       "      <td>2.63</td>\n",
       "      <td>73568452</td>\n",
       "      <td>18.113727</td>\n",
       "      <td>-0.13</td>\n",
       "    </tr>\n",
       "    <tr>\n",
       "      <th>2009-06-10 04:00:00</th>\n",
       "      <td>NVDA</td>\n",
       "      <td>2.86</td>\n",
       "      <td>2.95</td>\n",
       "      <td>2.79</td>\n",
       "      <td>2.93</td>\n",
       "      <td>83342524</td>\n",
       "      <td>18.238469</td>\n",
       "      <td>-0.02</td>\n",
       "    </tr>\n",
       "    <tr>\n",
       "      <th>2009-04-06 04:00:00</th>\n",
       "      <td>T</td>\n",
       "      <td>19.94</td>\n",
       "      <td>20.13</td>\n",
       "      <td>19.68</td>\n",
       "      <td>20.08</td>\n",
       "      <td>35296979</td>\n",
       "      <td>17.379308</td>\n",
       "      <td>2.68</td>\n",
       "    </tr>\n",
       "    <tr>\n",
       "      <th>2009-04-14 04:00:00</th>\n",
       "      <td>T</td>\n",
       "      <td>19.49</td>\n",
       "      <td>19.49</td>\n",
       "      <td>19.06</td>\n",
       "      <td>19.09</td>\n",
       "      <td>38343928</td>\n",
       "      <td>17.462107</td>\n",
       "      <td>2.69</td>\n",
       "    </tr>\n",
       "    <tr>\n",
       "      <th>2009-04-21 04:00:00</th>\n",
       "      <td>T</td>\n",
       "      <td>19.03</td>\n",
       "      <td>19.21</td>\n",
       "      <td>18.87</td>\n",
       "      <td>19.09</td>\n",
       "      <td>41792502</td>\n",
       "      <td>17.548228</td>\n",
       "      <td>0.69</td>\n",
       "    </tr>\n",
       "    <tr>\n",
       "      <th>2009-04-28 04:00:00</th>\n",
       "      <td>T</td>\n",
       "      <td>19.03</td>\n",
       "      <td>19.62</td>\n",
       "      <td>18.88</td>\n",
       "      <td>19.37</td>\n",
       "      <td>34550161</td>\n",
       "      <td>17.357923</td>\n",
       "      <td>-0.96</td>\n",
       "    </tr>\n",
       "    <tr>\n",
       "      <th>2009-05-05 04:00:00</th>\n",
       "      <td>T</td>\n",
       "      <td>20.02</td>\n",
       "      <td>20.20</td>\n",
       "      <td>19.90</td>\n",
       "      <td>20.02</td>\n",
       "      <td>25543597</td>\n",
       "      <td>17.055897</td>\n",
       "      <td>1.02</td>\n",
       "    </tr>\n",
       "    <tr>\n",
       "      <th>2009-05-12 04:00:00</th>\n",
       "      <td>T</td>\n",
       "      <td>19.25</td>\n",
       "      <td>19.56</td>\n",
       "      <td>19.12</td>\n",
       "      <td>19.43</td>\n",
       "      <td>30821855</td>\n",
       "      <td>17.243735</td>\n",
       "      <td>-0.65</td>\n",
       "    </tr>\n",
       "    <tr>\n",
       "      <th>2009-05-19 04:00:00</th>\n",
       "      <td>T</td>\n",
       "      <td>18.69</td>\n",
       "      <td>18.76</td>\n",
       "      <td>18.60</td>\n",
       "      <td>18.63</td>\n",
       "      <td>32989014</td>\n",
       "      <td>17.311685</td>\n",
       "      <td>-0.46</td>\n",
       "    </tr>\n",
       "    <tr>\n",
       "      <th>2009-05-27 04:00:00</th>\n",
       "      <td>T</td>\n",
       "      <td>18.46</td>\n",
       "      <td>18.69</td>\n",
       "      <td>18.10</td>\n",
       "      <td>18.18</td>\n",
       "      <td>34255021</td>\n",
       "      <td>17.349344</td>\n",
       "      <td>-0.91</td>\n",
       "    </tr>\n",
       "    <tr>\n",
       "      <th>2009-06-03 04:00:00</th>\n",
       "      <td>T</td>\n",
       "      <td>18.63</td>\n",
       "      <td>18.84</td>\n",
       "      <td>18.34</td>\n",
       "      <td>18.47</td>\n",
       "      <td>45552206</td>\n",
       "      <td>17.634370</td>\n",
       "      <td>-0.90</td>\n",
       "    </tr>\n",
       "    <tr>\n",
       "      <th>2009-06-10 04:00:00</th>\n",
       "      <td>T</td>\n",
       "      <td>18.37</td>\n",
       "      <td>18.46</td>\n",
       "      <td>18.23</td>\n",
       "      <td>18.34</td>\n",
       "      <td>44239146</td>\n",
       "      <td>17.605121</td>\n",
       "      <td>-1.68</td>\n",
       "    </tr>\n",
       "  </tbody>\n",
       "</table>\n",
       "</div>"
      ],
      "text/plain": [
       "                    Symbol   Open   High    Low  Close     Volume  log_volume   \n",
       "Date                                                                            \n",
       "2009-04-06 04:00:00   AAPL   4.11   4.24   4.05   4.23  658062480   20.304810  \\\n",
       "2009-04-14 04:00:00   AAPL   4.27   4.29   4.19   4.23  454755700   19.935271   \n",
       "2009-04-21 04:00:00   AAPL   4.25   4.36   4.24   4.35  470684032   19.969698   \n",
       "2009-04-28 04:00:00   AAPL   4.41   4.51   4.40   4.43  455856632   19.937689   \n",
       "2009-05-05 04:00:00   AAPL   4.71   4.74   4.68   4.74  398401248   19.802970   \n",
       "2009-05-12 04:00:00   AAPL   4.63   4.63   4.40   4.44  609479240   20.228115   \n",
       "2009-05-19 04:00:00   AAPL   4.53   4.62   4.49   4.55  372422036   19.735538   \n",
       "2009-05-27 04:00:00   AAPL   4.71   4.82   4.68   4.75  646962680   20.287799   \n",
       "2009-06-03 04:00:00   AAPL   5.00   5.04   4.97   5.03  565198360   20.152687   \n",
       "2009-06-10 04:00:00   AAPL   5.08   5.08   4.94   5.01  688798920   20.350460   \n",
       "2009-04-06 04:00:00   ADBE  23.85  24.00  22.78  23.19    8072352   15.903955   \n",
       "2009-04-14 04:00:00   ADBE  24.38  24.49  23.84  24.01    6544931   15.694201   \n",
       "2009-04-21 04:00:00   ADBE  23.35  24.13  23.25  23.75    7442989   15.822783   \n",
       "2009-04-28 04:00:00   ADBE  25.70  25.95  25.25  25.70    8099823   15.907353   \n",
       "2009-05-05 04:00:00   ADBE  26.74  26.91  26.20  26.89    8157398   15.914436   \n",
       "2009-05-12 04:00:00   ADBE  26.32  26.34  25.67  25.99    5077853   15.440399   \n",
       "2009-05-19 04:00:00   ADBE  26.25  26.81  26.01  26.56    3509486   15.070980   \n",
       "2009-05-27 04:00:00   ADBE  27.67  28.07  27.15  27.25    5013697   15.427684   \n",
       "2009-06-03 04:00:00   ADBE  29.05  29.49  28.30  29.06    8572649   15.964087   \n",
       "2009-06-10 04:00:00   ADBE  29.88  30.43  29.63  30.17    8515301   15.957375   \n",
       "2009-04-06 04:00:00    AMD   3.30   3.56   3.25   3.53   15237607   16.539277   \n",
       "2009-04-14 04:00:00    AMD   3.59   3.85   3.53   3.63   14713741   16.504292   \n",
       "2009-04-21 04:00:00    AMD   3.23   3.36   3.20   3.36   14244496   16.471881   \n",
       "2009-04-28 04:00:00    AMD   3.41   3.55   3.35   3.41   12109634   16.309512   \n",
       "2009-05-05 04:00:00    AMD   4.36   4.39   4.11   4.32   16371122   16.611029   \n",
       "2009-05-12 04:00:00    AMD   4.41   4.50   4.13   4.35   29756636   17.208563   \n",
       "2009-05-19 04:00:00    AMD   4.30   4.50   4.24   4.39   23195951   16.959488   \n",
       "2009-05-27 04:00:00    AMD   4.57   4.80   4.55   4.71   21521553   16.884565   \n",
       "2009-06-03 04:00:00    AMD   4.55   4.60   4.34   4.48   19096525   16.765017   \n",
       "2009-06-10 04:00:00    AMD   4.81   4.86   4.70   4.82   18331721   16.724144   \n",
       "2009-04-06 04:00:00   AMZN   3.86   3.92   3.80   3.90  115163360   18.561862   \n",
       "2009-04-14 04:00:00   AMZN   3.90   3.97   3.85   3.86  123310600   18.630217   \n",
       "2009-04-21 04:00:00   AMZN   3.87   3.96   3.86   3.94  143262420   18.780189   \n",
       "2009-04-28 04:00:00   AMZN   4.13   4.27   4.12   4.12  158525460   18.881426   \n",
       "2009-05-05 04:00:00   AMZN   4.05   4.10   4.01   4.10  117492400   18.581884   \n",
       "2009-05-12 04:00:00   AMZN   3.94   3.95   3.83   3.90  111023440   18.525252   \n",
       "2009-05-19 04:00:00   AMZN   3.77   3.95   3.76   3.89  160576380   18.894280   \n",
       "2009-05-27 04:00:00   AMZN   3.93   3.98   3.84   3.86  111375620   18.528419   \n",
       "2009-06-03 04:00:00   AMZN   4.17   4.29   4.16   4.28  152096380   18.840025   \n",
       "2009-06-10 04:00:00   AMZN   4.38   4.43   4.24   4.33  121475280   18.615221   \n",
       "2009-04-06 04:00:00  GOOGL   9.18   9.25   9.04   9.21  131143300   18.691801   \n",
       "2009-04-14 04:00:00  GOOGL   9.43   9.43   9.15   9.23  137041540   18.735795   \n",
       "2009-04-21 04:00:00  GOOGL   9.41   9.62   9.41   9.55  147748840   18.811024   \n",
       "2009-04-28 04:00:00  GOOGL   9.60   9.74   9.55   9.60  117643500   18.583169   \n",
       "2009-05-05 04:00:00  GOOGL  10.01  10.13   9.94  10.08   95950840   18.379347   \n",
       "2009-05-12 04:00:00  GOOGL  10.26  10.28   9.89   9.98  151711100   18.837489   \n",
       "2009-05-19 04:00:00  GOOGL   9.91  10.05   9.83   9.98  113403020   18.546459   \n",
       "2009-05-27 04:00:00  GOOGL  10.15  10.31  10.13  10.15  121318100   18.613927   \n",
       "2009-06-03 04:00:00  GOOGL  10.66  10.82  10.61  10.80  141286800   18.766302   \n",
       "2009-06-10 04:00:00  GOOGL  10.92  10.96  10.68  10.83  134224720   18.715026   \n",
       "2009-04-06 04:00:00   INTC  15.65  15.87  15.45  15.86   47656242   17.679524   \n",
       "2009-04-14 04:00:00   INTC  15.98  16.39  15.80  16.01   92083528   18.338207   \n",
       "2009-04-21 04:00:00   INTC  14.98  15.52  14.96  15.36   85204162   18.260561   \n",
       "2009-04-28 04:00:00   INTC  15.12  15.41  15.04  15.05   55531586   17.832463   \n",
       "2009-05-05 04:00:00   INTC  16.53  16.53  15.93  16.16   67908966   18.033679   \n",
       "2009-05-12 04:00:00   INTC  15.49  15.53  15.00  15.21   73713948   18.115703   \n",
       "2009-05-19 04:00:00   INTC  15.47  15.91  15.27  15.65   59048111   17.893863   \n",
       "2009-05-27 04:00:00   INTC  15.50  15.86  15.34  15.46   60491053   17.918006   \n",
       "2009-06-03 04:00:00   INTC  15.97  16.04  15.72  15.94   49798904   17.723504   \n",
       "2009-06-10 04:00:00   INTC  16.58  16.61  16.15  16.46   48785313   17.702940   \n",
       "2009-04-06 04:00:00   MSFT  18.54  18.76  18.26  18.76   47478684   17.675791   \n",
       "2009-04-14 04:00:00   MSFT  19.44  19.55  19.00  19.35   63796243   17.971205   \n",
       "2009-04-21 04:00:00   MSFT  18.59  19.08  18.57  18.97   60928280   17.925208   \n",
       "2009-04-28 04:00:00   MSFT  20.25  20.27  19.79  19.93   76688300   18.155260   \n",
       "2009-05-05 04:00:00   MSFT  20.14  20.24  19.64  19.79   67242977   18.023823   \n",
       "2009-05-12 04:00:00   MSFT  19.51  20.06  19.47  19.89   71966786   18.091715   \n",
       "2009-05-19 04:00:00   MSFT  20.51  20.74  20.25  20.31   51368251   17.754531   \n",
       "2009-05-27 04:00:00   MSFT  20.25  20.60  20.07  20.13   42898438   17.574346   \n",
       "2009-06-03 04:00:00   MSFT  21.31  21.76  21.29  21.73   56047439   17.841709   \n",
       "2009-06-10 04:00:00   MSFT  22.17  22.62  22.12  22.55   61297117   17.931243   \n",
       "2009-04-06 04:00:00   NFLX   6.14   6.38   6.10   6.36   12520634   16.342889   \n",
       "2009-04-14 04:00:00   NFLX   6.95   6.97   6.78   6.83   16958060   16.646254   \n",
       "2009-04-21 04:00:00   NFLX   7.06   7.07   6.40   6.66   24562762   17.016742   \n",
       "2009-04-28 04:00:00   NFLX   6.54   6.80   6.43   6.60   16545277   16.621611   \n",
       "2009-05-05 04:00:00   NFLX   6.42   6.50   6.36   6.44    7007686   15.762518   \n",
       "2009-05-12 04:00:00   NFLX   5.66   5.81   5.54   5.76   13068118   16.385686   \n",
       "2009-05-19 04:00:00   NFLX   5.59   5.76   5.55   5.66   13829249   16.442296   \n",
       "2009-05-27 04:00:00   NFLX   5.72   5.77   5.55   5.56    9294180   16.044899   \n",
       "2009-06-03 04:00:00   NFLX   5.84   5.89   5.69   5.79    7412174   15.818634   \n",
       "2009-06-10 04:00:00   NFLX   5.65   5.66   5.37   5.41   13949152   16.450929   \n",
       "2009-04-06 04:00:00   NVDA   2.78   2.86   2.74   2.84   88748612   18.301318   \n",
       "2009-04-14 04:00:00   NVDA   2.87   3.00   2.86   2.93   71234600   18.081489   \n",
       "2009-04-21 04:00:00   NVDA   2.72   2.87   2.68   2.76   93219320   18.350466   \n",
       "2009-04-28 04:00:00   NVDA   2.72   2.82   2.70   2.76   63450192   17.965766   \n",
       "2009-05-05 04:00:00   NVDA   3.01   3.03   2.89   2.95   83721396   18.243005   \n",
       "2009-05-12 04:00:00   NVDA   2.41   2.41   2.20   2.24  120138104   18.604153   \n",
       "2009-05-19 04:00:00   NVDA   2.33   2.39   2.30   2.36   86005728   18.269924   \n",
       "2009-05-27 04:00:00   NVDA   2.58   2.67   2.55   2.59   81421648   18.215152   \n",
       "2009-06-03 04:00:00   NVDA   2.68   2.69   2.56   2.63   73568452   18.113727   \n",
       "2009-06-10 04:00:00   NVDA   2.86   2.95   2.79   2.93   83342524   18.238469   \n",
       "2009-04-06 04:00:00      T  19.94  20.13  19.68  20.08   35296979   17.379308   \n",
       "2009-04-14 04:00:00      T  19.49  19.49  19.06  19.09   38343928   17.462107   \n",
       "2009-04-21 04:00:00      T  19.03  19.21  18.87  19.09   41792502   17.548228   \n",
       "2009-04-28 04:00:00      T  19.03  19.62  18.88  19.37   34550161   17.357923   \n",
       "2009-05-05 04:00:00      T  20.02  20.20  19.90  20.02   25543597   17.055897   \n",
       "2009-05-12 04:00:00      T  19.25  19.56  19.12  19.43   30821855   17.243735   \n",
       "2009-05-19 04:00:00      T  18.69  18.76  18.60  18.63   32989014   17.311685   \n",
       "2009-05-27 04:00:00      T  18.46  18.69  18.10  18.18   34255021   17.349344   \n",
       "2009-06-03 04:00:00      T  18.63  18.84  18.34  18.47   45552206   17.634370   \n",
       "2009-06-10 04:00:00      T  18.37  18.46  18.23  18.34   44239146   17.605121   \n",
       "\n",
       "                     Momentum_2Wk  \n",
       "Date                               \n",
       "2009-04-06 04:00:00          1.09  \n",
       "2009-04-14 04:00:00          1.26  \n",
       "2009-04-21 04:00:00          0.94  \n",
       "2009-04-28 04:00:00          0.59  \n",
       "2009-05-05 04:00:00          1.01  \n",
       "2009-05-12 04:00:00          0.21  \n",
       "2009-05-19 04:00:00          0.32  \n",
       "2009-05-27 04:00:00          0.40  \n",
       "2009-06-03 04:00:00          0.60  \n",
       "2009-06-10 04:00:00          0.27  \n",
       "2009-04-06 04:00:00          7.15  \n",
       "2009-04-14 04:00:00          7.23  \n",
       "2009-04-21 04:00:00          5.30  \n",
       "2009-04-28 04:00:00          3.01  \n",
       "2009-05-05 04:00:00          6.07  \n",
       "2009-05-12 04:00:00          2.80  \n",
       "2009-05-19 04:00:00          2.55  \n",
       "2009-05-27 04:00:00          3.50  \n",
       "2009-06-03 04:00:00          3.36  \n",
       "2009-06-10 04:00:00          3.28  \n",
       "2009-04-06 04:00:00          1.52  \n",
       "2009-04-14 04:00:00          1.49  \n",
       "2009-04-21 04:00:00          0.88  \n",
       "2009-04-28 04:00:00          0.39  \n",
       "2009-05-05 04:00:00          1.13  \n",
       "2009-05-12 04:00:00          0.82  \n",
       "2009-05-19 04:00:00          0.76  \n",
       "2009-05-27 04:00:00          1.35  \n",
       "2009-06-03 04:00:00          1.07  \n",
       "2009-06-10 04:00:00          0.50  \n",
       "2009-04-06 04:00:00          0.80  \n",
       "2009-04-14 04:00:00          0.84  \n",
       "2009-04-21 04:00:00          0.59  \n",
       "2009-04-28 04:00:00          0.34  \n",
       "2009-05-05 04:00:00          0.53  \n",
       "2009-05-12 04:00:00          0.00  \n",
       "2009-05-19 04:00:00          0.03  \n",
       "2009-05-27 04:00:00         -0.08  \n",
       "2009-06-03 04:00:00          0.16  \n",
       "2009-06-10 04:00:00          0.23  \n",
       "2009-04-06 04:00:00          1.02  \n",
       "2009-04-14 04:00:00          1.95  \n",
       "2009-04-21 04:00:00          1.55  \n",
       "2009-04-28 04:00:00          0.88  \n",
       "2009-05-05 04:00:00          1.50  \n",
       "2009-05-12 04:00:00          0.77  \n",
       "2009-05-19 04:00:00          0.75  \n",
       "2009-05-27 04:00:00          0.60  \n",
       "2009-06-03 04:00:00          1.20  \n",
       "2009-06-10 04:00:00          0.75  \n",
       "2009-04-06 04:00:00          3.55  \n",
       "2009-04-14 04:00:00          3.46  \n",
       "2009-04-21 04:00:00          1.11  \n",
       "2009-04-28 04:00:00         -0.47  \n",
       "2009-05-05 04:00:00          1.44  \n",
       "2009-05-12 04:00:00         -0.65  \n",
       "2009-05-19 04:00:00         -0.36  \n",
       "2009-05-27 04:00:00          0.10  \n",
       "2009-06-03 04:00:00          0.89  \n",
       "2009-06-10 04:00:00          0.30  \n",
       "2009-04-06 04:00:00          2.97  \n",
       "2009-04-14 04:00:00          4.20  \n",
       "2009-04-21 04:00:00          2.72  \n",
       "2009-04-28 04:00:00          1.60  \n",
       "2009-05-05 04:00:00          2.31  \n",
       "2009-05-12 04:00:00          1.13  \n",
       "2009-05-19 04:00:00          0.96  \n",
       "2009-05-27 04:00:00          1.16  \n",
       "2009-06-03 04:00:00          1.80  \n",
       "2009-06-10 04:00:00          2.76  \n",
       "2009-04-06 04:00:00          1.45  \n",
       "2009-04-14 04:00:00          1.33  \n",
       "2009-04-21 04:00:00          1.14  \n",
       "2009-04-28 04:00:00          0.40  \n",
       "2009-05-05 04:00:00          0.44  \n",
       "2009-05-12 04:00:00         -0.60  \n",
       "2009-05-19 04:00:00         -1.17  \n",
       "2009-05-27 04:00:00         -1.10  \n",
       "2009-06-03 04:00:00         -0.81  \n",
       "2009-06-10 04:00:00         -1.03  \n",
       "2009-04-06 04:00:00          0.94  \n",
       "2009-04-14 04:00:00          0.85  \n",
       "2009-04-21 04:00:00          0.40  \n",
       "2009-04-28 04:00:00          0.20  \n",
       "2009-05-05 04:00:00          0.50  \n",
       "2009-05-12 04:00:00         -0.60  \n",
       "2009-05-19 04:00:00         -0.57  \n",
       "2009-05-27 04:00:00         -0.17  \n",
       "2009-06-03 04:00:00         -0.13  \n",
       "2009-06-10 04:00:00         -0.02  \n",
       "2009-04-06 04:00:00          2.68  \n",
       "2009-04-14 04:00:00          2.69  \n",
       "2009-04-21 04:00:00          0.69  \n",
       "2009-04-28 04:00:00         -0.96  \n",
       "2009-05-05 04:00:00          1.02  \n",
       "2009-05-12 04:00:00         -0.65  \n",
       "2009-05-19 04:00:00         -0.46  \n",
       "2009-05-27 04:00:00         -0.91  \n",
       "2009-06-03 04:00:00         -0.90  \n",
       "2009-06-10 04:00:00         -1.68  "
      ]
     },
     "execution_count": 10,
     "metadata": {},
     "output_type": "execute_result"
    }
   ],
   "source": [
    "df[df[\"Symbol\"].isin(select_stocks)].groupby(\"Symbol\").head(10)"
   ]
  },
  {
   "attachments": {},
   "cell_type": "markdown",
   "metadata": {},
   "source": [
    "<h1>Feature Engineering</h1>"
   ]
  },
  {
   "cell_type": "code",
   "execution_count": 11,
   "metadata": {},
   "outputs": [
    {
     "data": {
      "text/html": [
       "<div>\n",
       "<style scoped>\n",
       "    .dataframe tbody tr th:only-of-type {\n",
       "        vertical-align: middle;\n",
       "    }\n",
       "\n",
       "    .dataframe tbody tr th {\n",
       "        vertical-align: top;\n",
       "    }\n",
       "\n",
       "    .dataframe thead th {\n",
       "        text-align: right;\n",
       "    }\n",
       "</style>\n",
       "<table border=\"1\" class=\"dataframe\">\n",
       "  <thead>\n",
       "    <tr style=\"text-align: right;\">\n",
       "      <th></th>\n",
       "      <th>Symbol</th>\n",
       "      <th>Open</th>\n",
       "      <th>High</th>\n",
       "      <th>Low</th>\n",
       "      <th>Close</th>\n",
       "      <th>Volume</th>\n",
       "      <th>log_volume</th>\n",
       "      <th>Momentum_2Wk</th>\n",
       "    </tr>\n",
       "    <tr>\n",
       "      <th>Date</th>\n",
       "      <th></th>\n",
       "      <th></th>\n",
       "      <th></th>\n",
       "      <th></th>\n",
       "      <th></th>\n",
       "      <th></th>\n",
       "      <th></th>\n",
       "      <th></th>\n",
       "    </tr>\n",
       "  </thead>\n",
       "  <tbody>\n",
       "    <tr>\n",
       "      <th>2020-02-02</th>\n",
       "      <td>A</td>\n",
       "      <td>86.54</td>\n",
       "      <td>87.17</td>\n",
       "      <td>86.21</td>\n",
       "      <td>86.56</td>\n",
       "      <td>1867959.0</td>\n",
       "      <td>14.440357</td>\n",
       "      <td>3.13</td>\n",
       "    </tr>\n",
       "    <tr>\n",
       "      <th>2020-02-09</th>\n",
       "      <td>A</td>\n",
       "      <td>83.29</td>\n",
       "      <td>83.69</td>\n",
       "      <td>82.11</td>\n",
       "      <td>82.15</td>\n",
       "      <td>1919771.0</td>\n",
       "      <td>14.467716</td>\n",
       "      <td>-3.30</td>\n",
       "    </tr>\n",
       "    <tr>\n",
       "      <th>2020-02-16</th>\n",
       "      <td>A</td>\n",
       "      <td>83.04</td>\n",
       "      <td>84.64</td>\n",
       "      <td>82.92</td>\n",
       "      <td>84.43</td>\n",
       "      <td>2066861.0</td>\n",
       "      <td>14.541542</td>\n",
       "      <td>-0.14</td>\n",
       "    </tr>\n",
       "    <tr>\n",
       "      <th>2020-02-23</th>\n",
       "      <td>A</td>\n",
       "      <td>85.66</td>\n",
       "      <td>86.08</td>\n",
       "      <td>84.53</td>\n",
       "      <td>84.79</td>\n",
       "      <td>2873640.0</td>\n",
       "      <td>14.871090</td>\n",
       "      <td>-2.80</td>\n",
       "    </tr>\n",
       "    <tr>\n",
       "      <th>2020-03-01</th>\n",
       "      <td>A</td>\n",
       "      <td>80.70</td>\n",
       "      <td>80.88</td>\n",
       "      <td>77.69</td>\n",
       "      <td>77.95</td>\n",
       "      <td>2767995.0</td>\n",
       "      <td>14.833634</td>\n",
       "      <td>-12.17</td>\n",
       "    </tr>\n",
       "  </tbody>\n",
       "</table>\n",
       "</div>"
      ],
      "text/plain": [
       "           Symbol   Open   High    Low  Close     Volume  log_volume   \n",
       "Date                                                                   \n",
       "2020-02-02      A  86.54  87.17  86.21  86.56  1867959.0   14.440357  \\\n",
       "2020-02-09      A  83.29  83.69  82.11  82.15  1919771.0   14.467716   \n",
       "2020-02-16      A  83.04  84.64  82.92  84.43  2066861.0   14.541542   \n",
       "2020-02-23      A  85.66  86.08  84.53  84.79  2873640.0   14.871090   \n",
       "2020-03-01      A  80.70  80.88  77.69  77.95  2767995.0   14.833634   \n",
       "\n",
       "            Momentum_2Wk  \n",
       "Date                      \n",
       "2020-02-02          3.13  \n",
       "2020-02-09         -3.30  \n",
       "2020-02-16         -0.14  \n",
       "2020-02-23         -2.80  \n",
       "2020-03-01        -12.17  "
      ]
     },
     "execution_count": 11,
     "metadata": {},
     "output_type": "execute_result"
    }
   ],
   "source": [
    "#Adding Log Volume, as suggested on this site:https://alphascientist.com/feature_engineering.html\n",
    "from pandas.tseries.frequencies import to_offset\n",
    "\n",
    "df['log_volume'] = df['Volume'].apply(np.log)\n",
    "\n",
    "df = df.resample('W').first()\n",
    "\n",
    "df.tail()"
   ]
  },
  {
   "cell_type": "code",
   "execution_count": 12,
   "metadata": {},
   "outputs": [
    {
     "data": {
      "text/html": [
       "<div>\n",
       "<style scoped>\n",
       "    .dataframe tbody tr th:only-of-type {\n",
       "        vertical-align: middle;\n",
       "    }\n",
       "\n",
       "    .dataframe tbody tr th {\n",
       "        vertical-align: top;\n",
       "    }\n",
       "\n",
       "    .dataframe thead th {\n",
       "        text-align: right;\n",
       "    }\n",
       "</style>\n",
       "<table border=\"1\" class=\"dataframe\">\n",
       "  <thead>\n",
       "    <tr style=\"text-align: right;\">\n",
       "      <th></th>\n",
       "      <th>Symbol</th>\n",
       "      <th>Open</th>\n",
       "      <th>High</th>\n",
       "      <th>Low</th>\n",
       "      <th>Close</th>\n",
       "      <th>Volume</th>\n",
       "      <th>log_volume</th>\n",
       "      <th>Momentum_2Wk</th>\n",
       "    </tr>\n",
       "    <tr>\n",
       "      <th>Date</th>\n",
       "      <th></th>\n",
       "      <th></th>\n",
       "      <th></th>\n",
       "      <th></th>\n",
       "      <th></th>\n",
       "      <th></th>\n",
       "      <th></th>\n",
       "      <th></th>\n",
       "    </tr>\n",
       "  </thead>\n",
       "  <tbody>\n",
       "    <tr>\n",
       "      <th>2020-02-02</th>\n",
       "      <td>A</td>\n",
       "      <td>86.54</td>\n",
       "      <td>87.17</td>\n",
       "      <td>86.21</td>\n",
       "      <td>86.56</td>\n",
       "      <td>1867959.0</td>\n",
       "      <td>14.440357</td>\n",
       "      <td>-3.56</td>\n",
       "    </tr>\n",
       "    <tr>\n",
       "      <th>2020-02-09</th>\n",
       "      <td>A</td>\n",
       "      <td>83.29</td>\n",
       "      <td>83.69</td>\n",
       "      <td>82.11</td>\n",
       "      <td>82.15</td>\n",
       "      <td>1919771.0</td>\n",
       "      <td>14.467716</td>\n",
       "      <td>NaN</td>\n",
       "    </tr>\n",
       "    <tr>\n",
       "      <th>2020-02-16</th>\n",
       "      <td>A</td>\n",
       "      <td>83.04</td>\n",
       "      <td>84.64</td>\n",
       "      <td>82.92</td>\n",
       "      <td>84.43</td>\n",
       "      <td>2066861.0</td>\n",
       "      <td>14.541542</td>\n",
       "      <td>-2.13</td>\n",
       "    </tr>\n",
       "    <tr>\n",
       "      <th>2020-02-23</th>\n",
       "      <td>A</td>\n",
       "      <td>85.66</td>\n",
       "      <td>86.08</td>\n",
       "      <td>84.53</td>\n",
       "      <td>84.79</td>\n",
       "      <td>2873640.0</td>\n",
       "      <td>14.871090</td>\n",
       "      <td>2.64</td>\n",
       "    </tr>\n",
       "    <tr>\n",
       "      <th>2020-03-01</th>\n",
       "      <td>A</td>\n",
       "      <td>80.70</td>\n",
       "      <td>80.88</td>\n",
       "      <td>77.69</td>\n",
       "      <td>77.95</td>\n",
       "      <td>2767995.0</td>\n",
       "      <td>14.833634</td>\n",
       "      <td>-6.48</td>\n",
       "    </tr>\n",
       "  </tbody>\n",
       "</table>\n",
       "</div>"
      ],
      "text/plain": [
       "           Symbol   Open   High    Low  Close     Volume  log_volume   \n",
       "Date                                                                   \n",
       "2020-02-02      A  86.54  87.17  86.21  86.56  1867959.0   14.440357  \\\n",
       "2020-02-09      A  83.29  83.69  82.11  82.15  1919771.0   14.467716   \n",
       "2020-02-16      A  83.04  84.64  82.92  84.43  2066861.0   14.541542   \n",
       "2020-02-23      A  85.66  86.08  84.53  84.79  2873640.0   14.871090   \n",
       "2020-03-01      A  80.70  80.88  77.69  77.95  2767995.0   14.833634   \n",
       "\n",
       "            Momentum_2Wk  \n",
       "Date                      \n",
       "2020-02-02         -3.56  \n",
       "2020-02-09           NaN  \n",
       "2020-02-16         -2.13  \n",
       "2020-02-23          2.64  \n",
       "2020-03-01         -6.48  "
      ]
     },
     "execution_count": 12,
     "metadata": {},
     "output_type": "execute_result"
    }
   ],
   "source": [
    "#Introduce a common financial statistic, 10 or 30 day momentum\n",
    "#shift pulls the close for a stock 10 days prior\n",
    "df['Momentum_2Wk'] = df['Close'] - df['Close'].shift(2)\n",
    "df.tail()"
   ]
  },
  {
   "cell_type": "code",
   "execution_count": 13,
   "metadata": {},
   "outputs": [
    {
     "data": {
      "text/html": [
       "<div>\n",
       "<style scoped>\n",
       "    .dataframe tbody tr th:only-of-type {\n",
       "        vertical-align: middle;\n",
       "    }\n",
       "\n",
       "    .dataframe tbody tr th {\n",
       "        vertical-align: top;\n",
       "    }\n",
       "\n",
       "    .dataframe thead th {\n",
       "        text-align: right;\n",
       "    }\n",
       "</style>\n",
       "<table border=\"1\" class=\"dataframe\">\n",
       "  <thead>\n",
       "    <tr style=\"text-align: right;\">\n",
       "      <th></th>\n",
       "      <th>Symbol</th>\n",
       "      <th>Open</th>\n",
       "      <th>High</th>\n",
       "      <th>Low</th>\n",
       "      <th>Close</th>\n",
       "      <th>Volume</th>\n",
       "      <th>log_volume</th>\n",
       "      <th>Momentum_2Wk</th>\n",
       "      <th>Momentum_5Wk</th>\n",
       "    </tr>\n",
       "    <tr>\n",
       "      <th>Date</th>\n",
       "      <th></th>\n",
       "      <th></th>\n",
       "      <th></th>\n",
       "      <th></th>\n",
       "      <th></th>\n",
       "      <th></th>\n",
       "      <th></th>\n",
       "      <th></th>\n",
       "      <th></th>\n",
       "    </tr>\n",
       "  </thead>\n",
       "  <tbody>\n",
       "    <tr>\n",
       "      <th>2020-02-02</th>\n",
       "      <td>A</td>\n",
       "      <td>86.54</td>\n",
       "      <td>87.17</td>\n",
       "      <td>86.21</td>\n",
       "      <td>86.56</td>\n",
       "      <td>1867959.0</td>\n",
       "      <td>14.440357</td>\n",
       "      <td>-3.56</td>\n",
       "      <td>1.11</td>\n",
       "    </tr>\n",
       "    <tr>\n",
       "      <th>2020-02-09</th>\n",
       "      <td>A</td>\n",
       "      <td>83.29</td>\n",
       "      <td>83.69</td>\n",
       "      <td>82.11</td>\n",
       "      <td>82.15</td>\n",
       "      <td>1919771.0</td>\n",
       "      <td>14.467716</td>\n",
       "      <td>NaN</td>\n",
       "      <td>-2.42</td>\n",
       "    </tr>\n",
       "    <tr>\n",
       "      <th>2020-02-16</th>\n",
       "      <td>A</td>\n",
       "      <td>83.04</td>\n",
       "      <td>84.64</td>\n",
       "      <td>82.92</td>\n",
       "      <td>84.43</td>\n",
       "      <td>2066861.0</td>\n",
       "      <td>14.541542</td>\n",
       "      <td>-2.13</td>\n",
       "      <td>-3.16</td>\n",
       "    </tr>\n",
       "    <tr>\n",
       "      <th>2020-02-23</th>\n",
       "      <td>A</td>\n",
       "      <td>85.66</td>\n",
       "      <td>86.08</td>\n",
       "      <td>84.53</td>\n",
       "      <td>84.79</td>\n",
       "      <td>2873640.0</td>\n",
       "      <td>14.871090</td>\n",
       "      <td>2.64</td>\n",
       "      <td>-5.33</td>\n",
       "    </tr>\n",
       "    <tr>\n",
       "      <th>2020-03-01</th>\n",
       "      <td>A</td>\n",
       "      <td>80.70</td>\n",
       "      <td>80.88</td>\n",
       "      <td>77.69</td>\n",
       "      <td>77.95</td>\n",
       "      <td>2767995.0</td>\n",
       "      <td>14.833634</td>\n",
       "      <td>-6.48</td>\n",
       "      <td>NaN</td>\n",
       "    </tr>\n",
       "  </tbody>\n",
       "</table>\n",
       "</div>"
      ],
      "text/plain": [
       "           Symbol   Open   High    Low  Close     Volume  log_volume   \n",
       "Date                                                                   \n",
       "2020-02-02      A  86.54  87.17  86.21  86.56  1867959.0   14.440357  \\\n",
       "2020-02-09      A  83.29  83.69  82.11  82.15  1919771.0   14.467716   \n",
       "2020-02-16      A  83.04  84.64  82.92  84.43  2066861.0   14.541542   \n",
       "2020-02-23      A  85.66  86.08  84.53  84.79  2873640.0   14.871090   \n",
       "2020-03-01      A  80.70  80.88  77.69  77.95  2767995.0   14.833634   \n",
       "\n",
       "            Momentum_2Wk  Momentum_5Wk  \n",
       "Date                                    \n",
       "2020-02-02         -3.56          1.11  \n",
       "2020-02-09           NaN         -2.42  \n",
       "2020-02-16         -2.13         -3.16  \n",
       "2020-02-23          2.64         -5.33  \n",
       "2020-03-01         -6.48           NaN  "
      ]
     },
     "execution_count": 13,
     "metadata": {},
     "output_type": "execute_result"
    }
   ],
   "source": [
    "df['Momentum_5Wk'] = df['Close'] - df['Close'].shift(5)\n",
    "df.tail()"
   ]
  },
  {
   "cell_type": "code",
   "execution_count": 14,
   "metadata": {},
   "outputs": [
    {
     "data": {
      "text/html": [
       "<div>\n",
       "<style scoped>\n",
       "    .dataframe tbody tr th:only-of-type {\n",
       "        vertical-align: middle;\n",
       "    }\n",
       "\n",
       "    .dataframe tbody tr th {\n",
       "        vertical-align: top;\n",
       "    }\n",
       "\n",
       "    .dataframe thead th {\n",
       "        text-align: right;\n",
       "    }\n",
       "</style>\n",
       "<table border=\"1\" class=\"dataframe\">\n",
       "  <thead>\n",
       "    <tr style=\"text-align: right;\">\n",
       "      <th></th>\n",
       "      <th>Symbol</th>\n",
       "      <th>Open</th>\n",
       "      <th>High</th>\n",
       "      <th>Low</th>\n",
       "      <th>Close</th>\n",
       "      <th>Volume</th>\n",
       "      <th>log_volume</th>\n",
       "      <th>Momentum_2Wk</th>\n",
       "      <th>Momentum_5Wk</th>\n",
       "    </tr>\n",
       "    <tr>\n",
       "      <th>Date</th>\n",
       "      <th></th>\n",
       "      <th></th>\n",
       "      <th></th>\n",
       "      <th></th>\n",
       "      <th></th>\n",
       "      <th></th>\n",
       "      <th></th>\n",
       "      <th></th>\n",
       "      <th></th>\n",
       "    </tr>\n",
       "  </thead>\n",
       "  <tbody>\n",
       "    <tr>\n",
       "      <th>2009-11-08</th>\n",
       "      <td>A</td>\n",
       "      <td>18.94</td>\n",
       "      <td>18.94</td>\n",
       "      <td>18.56</td>\n",
       "      <td>18.72</td>\n",
       "      <td>3415930.0</td>\n",
       "      <td>15.043960</td>\n",
       "      <td>-0.02</td>\n",
       "      <td>-0.10</td>\n",
       "    </tr>\n",
       "    <tr>\n",
       "      <th>2009-11-15</th>\n",
       "      <td>A</td>\n",
       "      <td>20.01</td>\n",
       "      <td>20.67</td>\n",
       "      <td>19.85</td>\n",
       "      <td>20.46</td>\n",
       "      <td>8756124.0</td>\n",
       "      <td>15.985264</td>\n",
       "      <td>2.76</td>\n",
       "      <td>0.81</td>\n",
       "    </tr>\n",
       "    <tr>\n",
       "      <th>2009-11-22</th>\n",
       "      <td>A</td>\n",
       "      <td>20.70</td>\n",
       "      <td>20.78</td>\n",
       "      <td>20.51</td>\n",
       "      <td>20.68</td>\n",
       "      <td>2765210.0</td>\n",
       "      <td>14.832627</td>\n",
       "      <td>1.96</td>\n",
       "      <td>1.22</td>\n",
       "    </tr>\n",
       "    <tr>\n",
       "      <th>2009-12-06</th>\n",
       "      <td>A</td>\n",
       "      <td>20.59</td>\n",
       "      <td>20.71</td>\n",
       "      <td>20.43</td>\n",
       "      <td>20.69</td>\n",
       "      <td>3572043.0</td>\n",
       "      <td>15.088648</td>\n",
       "      <td>0.01</td>\n",
       "      <td>2.99</td>\n",
       "    </tr>\n",
       "    <tr>\n",
       "      <th>2009-12-13</th>\n",
       "      <td>A</td>\n",
       "      <td>21.23</td>\n",
       "      <td>21.45</td>\n",
       "      <td>21.22</td>\n",
       "      <td>21.37</td>\n",
       "      <td>4039558.0</td>\n",
       "      <td>15.211646</td>\n",
       "      <td>NaN</td>\n",
       "      <td>2.65</td>\n",
       "    </tr>\n",
       "  </tbody>\n",
       "</table>\n",
       "</div>"
      ],
      "text/plain": [
       "           Symbol   Open   High    Low  Close     Volume  log_volume   \n",
       "Date                                                                   \n",
       "2009-11-08      A  18.94  18.94  18.56  18.72  3415930.0   15.043960  \\\n",
       "2009-11-15      A  20.01  20.67  19.85  20.46  8756124.0   15.985264   \n",
       "2009-11-22      A  20.70  20.78  20.51  20.68  2765210.0   14.832627   \n",
       "2009-12-06      A  20.59  20.71  20.43  20.69  3572043.0   15.088648   \n",
       "2009-12-13      A  21.23  21.45  21.22  21.37  4039558.0   15.211646   \n",
       "\n",
       "            Momentum_2Wk  Momentum_5Wk  \n",
       "Date                                    \n",
       "2009-11-08         -0.02         -0.10  \n",
       "2009-11-15          2.76          0.81  \n",
       "2009-11-22          1.96          1.22  \n",
       "2009-12-06          0.01          2.99  \n",
       "2009-12-13           NaN          2.65  "
      ]
     },
     "execution_count": 14,
     "metadata": {},
     "output_type": "execute_result"
    }
   ],
   "source": [
    "#Removing the first month of data for each symbol that would only have zeroes for 30 day momentum\n",
    "df_grouped = df.groupby('Symbol')\n",
    "\n",
    "df = df_grouped.apply(lambda x: x.iloc[30:])\n",
    "\n",
    "df.reset_index(level=0, drop=True, inplace=True)\n",
    "\n",
    "df.head()"
   ]
  },
  {
   "cell_type": "code",
   "execution_count": 15,
   "metadata": {},
   "outputs": [],
   "source": [
    "def clean_dataset(df):\n",
    "    df.dropna(inplace=True)\n",
    "    indices_to_keep = ~df.isin([np.nan, np.inf, -np.inf]).any(axis=1)\n",
    "    return df[indices_to_keep].astype(np.float64)"
   ]
  },
  {
   "cell_type": "code",
   "execution_count": 22,
   "metadata": {},
   "outputs": [
    {
     "name": "stdout",
     "output_type": "stream",
     "text": [
      "(479,)\n",
      "(479, 5)\n"
     ]
    },
    {
     "data": {
      "text/html": [
       "<div>\n",
       "<style scoped>\n",
       "    .dataframe tbody tr th:only-of-type {\n",
       "        vertical-align: middle;\n",
       "    }\n",
       "\n",
       "    .dataframe tbody tr th {\n",
       "        vertical-align: top;\n",
       "    }\n",
       "\n",
       "    .dataframe thead th {\n",
       "        text-align: right;\n",
       "    }\n",
       "</style>\n",
       "<table border=\"1\" class=\"dataframe\">\n",
       "  <thead>\n",
       "    <tr style=\"text-align: right;\">\n",
       "      <th></th>\n",
       "      <th>Close</th>\n",
       "      <th>Volume</th>\n",
       "      <th>log_volume</th>\n",
       "      <th>Momentum_2Wk</th>\n",
       "      <th>Momentum_5Wk</th>\n",
       "    </tr>\n",
       "    <tr>\n",
       "      <th>Date</th>\n",
       "      <th></th>\n",
       "      <th></th>\n",
       "      <th></th>\n",
       "      <th></th>\n",
       "      <th></th>\n",
       "    </tr>\n",
       "  </thead>\n",
       "  <tbody>\n",
       "    <tr>\n",
       "      <th>2019-12-08</th>\n",
       "      <td>80.93</td>\n",
       "      <td>1690909.0</td>\n",
       "      <td>14.340777</td>\n",
       "      <td>1.64</td>\n",
       "      <td>4.76</td>\n",
       "    </tr>\n",
       "    <tr>\n",
       "      <th>2019-12-15</th>\n",
       "      <td>83.42</td>\n",
       "      <td>1718397.0</td>\n",
       "      <td>14.356902</td>\n",
       "      <td>2.47</td>\n",
       "      <td>7.87</td>\n",
       "    </tr>\n",
       "    <tr>\n",
       "      <th>2019-12-22</th>\n",
       "      <td>83.43</td>\n",
       "      <td>2025494.0</td>\n",
       "      <td>14.521324</td>\n",
       "      <td>2.50</td>\n",
       "      <td>6.38</td>\n",
       "    </tr>\n",
       "    <tr>\n",
       "      <th>2019-12-29</th>\n",
       "      <td>85.45</td>\n",
       "      <td>649078.0</td>\n",
       "      <td>13.383308</td>\n",
       "      <td>2.03</td>\n",
       "      <td>6.16</td>\n",
       "    </tr>\n",
       "    <tr>\n",
       "      <th>2020-01-05</th>\n",
       "      <td>84.57</td>\n",
       "      <td>1118322.0</td>\n",
       "      <td>13.927340</td>\n",
       "      <td>1.14</td>\n",
       "      <td>3.62</td>\n",
       "    </tr>\n",
       "    <tr>\n",
       "      <th>2020-01-12</th>\n",
       "      <td>87.59</td>\n",
       "      <td>1417028.0</td>\n",
       "      <td>14.164072</td>\n",
       "      <td>2.14</td>\n",
       "      <td>6.66</td>\n",
       "    </tr>\n",
       "    <tr>\n",
       "      <th>2020-01-19</th>\n",
       "      <td>90.12</td>\n",
       "      <td>3718336.0</td>\n",
       "      <td>15.128787</td>\n",
       "      <td>5.55</td>\n",
       "      <td>6.70</td>\n",
       "    </tr>\n",
       "    <tr>\n",
       "      <th>2020-02-02</th>\n",
       "      <td>86.56</td>\n",
       "      <td>1867959.0</td>\n",
       "      <td>14.440357</td>\n",
       "      <td>-3.56</td>\n",
       "      <td>1.11</td>\n",
       "    </tr>\n",
       "    <tr>\n",
       "      <th>2020-02-16</th>\n",
       "      <td>84.43</td>\n",
       "      <td>2066861.0</td>\n",
       "      <td>14.541542</td>\n",
       "      <td>-2.13</td>\n",
       "      <td>-3.16</td>\n",
       "    </tr>\n",
       "    <tr>\n",
       "      <th>2020-02-23</th>\n",
       "      <td>84.79</td>\n",
       "      <td>2873640.0</td>\n",
       "      <td>14.871090</td>\n",
       "      <td>2.64</td>\n",
       "      <td>-5.33</td>\n",
       "    </tr>\n",
       "  </tbody>\n",
       "</table>\n",
       "</div>"
      ],
      "text/plain": [
       "            Close     Volume  log_volume  Momentum_2Wk  Momentum_5Wk\n",
       "Date                                                                \n",
       "2019-12-08  80.93  1690909.0   14.340777          1.64          4.76\n",
       "2019-12-15  83.42  1718397.0   14.356902          2.47          7.87\n",
       "2019-12-22  83.43  2025494.0   14.521324          2.50          6.38\n",
       "2019-12-29  85.45   649078.0   13.383308          2.03          6.16\n",
       "2020-01-05  84.57  1118322.0   13.927340          1.14          3.62\n",
       "2020-01-12  87.59  1417028.0   14.164072          2.14          6.66\n",
       "2020-01-19  90.12  3718336.0   15.128787          5.55          6.70\n",
       "2020-02-02  86.56  1867959.0   14.440357         -3.56          1.11\n",
       "2020-02-16  84.43  2066861.0   14.541542         -2.13         -3.16\n",
       "2020-02-23  84.79  2873640.0   14.871090          2.64         -5.33"
      ]
     },
     "execution_count": 22,
     "metadata": {},
     "output_type": "execute_result"
    }
   ],
   "source": [
    "#Listing the variance in open price explained by each feature we have, using SKLearn\n",
    "\n",
    "features = df.drop(['Symbol', 'High','Low','Open'], axis = 1)\n",
    "features = clean_dataset(features)\n",
    "missing = set(df.columns) - set(features.columns)\n",
    "new_df = df[list(missing)]\n",
    "target = new_df['Open']\n",
    "# features = features.iloc[::5, :]\n",
    "print(target.shape)\n",
    "print(features.shape)\n",
    "# features = pd.read_csv('dataset.csv')\n",
    "# target = features['Open']\n",
    "features.tail(10)"
   ]
  },
  {
   "cell_type": "code",
   "execution_count": null,
   "metadata": {},
   "outputs": [],
   "source": [
    "df[df[\"Symbol\"].isin(select_stocks)].groupby(\"Symbol\")\n",
    "df.isin()"
   ]
  },
  {
   "cell_type": "code",
   "execution_count": 23,
   "metadata": {},
   "outputs": [],
   "source": [
    "# Perform PCA\n",
    "from sklearn.decomposition import PCA\n",
    "pca = PCA(n_components=4)\n",
    "principalComponents = pca.fit_transform(features)"
   ]
  },
  {
   "cell_type": "code",
   "execution_count": 25,
   "metadata": {},
   "outputs": [
    {
     "name": "stdout",
     "output_type": "stream",
     "text": [
      "Mean Absolute Error: 1.39 degrees.\n",
      "Mean Squared Error: 3.76\n"
     ]
    }
   ],
   "source": [
    "from sklearn.model_selection import train_test_split\n",
    "from sklearn.ensemble import RandomForestRegressor\n",
    "from sklearn.metrics import mean_squared_error\n",
    "\n",
    "# Suppose 'Open' is what we want to predict\n",
    "\n",
    "# Split the data into training and test sets\n",
    "X_train, X_test, y_train, y_test = train_test_split(principalComponents, target, test_size=0.2, random_state=42)\n",
    "\n",
    "# Instantiate model with 1000 decision trees\n",
    "rf = RandomForestRegressor(n_estimators=1000, random_state=42)\n",
    "\n",
    "# Train the model on training data\n",
    "rf.fit(X_train, y_train)\n",
    "\n",
    "# Use the forest's predict method on the test data\n",
    "predictions = rf.predict(X_test)\n",
    "\n",
    "# Calculate the absolute errors\n",
    "errors = abs(predictions - y_test)\n",
    "\n",
    "# Print out the mean absolute error (mae)\n",
    "print('Mean Absolute Error:', round(np.mean(errors), 2), 'degrees.')\n",
    "\n",
    "# We could also use mean squared error for loss calculation\n",
    "mse = mean_squared_error(y_test, predictions)\n",
    "print('Mean Squared Error:', round(mse, 2))\n"
   ]
  },
  {
   "cell_type": "code",
   "execution_count": 40,
   "metadata": {},
   "outputs": [],
   "source": [
    "import numpy as np\n",
    "import pandas as pd\n",
    "import matplotlib.pyplot as plt\n",
    "from sklearn.datasets import load_iris\n",
    "from sklearn.model_selection import train_test_split\n",
    "from sklearn.naive_bayes import GaussianNB\n",
    "from sklearn.metrics import accuracy_score"
   ]
  },
  {
   "cell_type": "code",
   "execution_count": 43,
   "metadata": {},
   "outputs": [
    {
     "name": "stdout",
     "output_type": "stream",
     "text": [
      "0.020833333333333332\n"
     ]
    }
   ],
   "source": [
    "\n",
    "gnb = GaussianNB()\n",
    "\n",
    "y_pred =gnb.fit(X_train, y_train.astype(int)).predict(X_test)\n",
    "# mean_squared_error(y_test, predictions)\n",
    "print(accuracy_score(y_test.astype(int), y_pred))"
   ]
  },
  {
   "cell_type": "code",
   "execution_count": 28,
   "metadata": {},
   "outputs": [
    {
     "name": "stdout",
     "output_type": "stream",
     "text": [
      "Average training time:  3.9243761399993673\n"
     ]
    }
   ],
   "source": [
    "from timeit import Timer\n",
    "\n",
    "t = Timer(lambda: rf.fit(X_train, y_train))\n",
    "train_time = t.timeit(number=10) / 10\n",
    "\n",
    "print(\"Average training time: \", train_time)"
   ]
  },
  {
   "cell_type": "code",
   "execution_count": null,
   "metadata": {},
   "outputs": [],
   "source": []
  },
  {
   "cell_type": "code",
   "execution_count": 29,
   "metadata": {},
   "outputs": [],
   "source": [
    "import matplotlib.pyplot as plt\n",
    "\n",
    "# Plot predicted vs actual\n",
    "# plt.scatter(y_test, predictions)\n",
    "# plt.xlabel(\"Actual Values\")\n",
    "# plt.ylabel(\"Predicted Values\")\n",
    "# plt.title(\"Actual vs Predicted\")\n"
   ]
  },
  {
   "cell_type": "code",
   "execution_count": 30,
   "metadata": {},
   "outputs": [],
   "source": [
    "\n",
    "# Plot residuals \n",
    "residuals = y_test - predictions\n",
    "# plt.hist(residuals, bins=25)\n",
    "# plt.xlabel(\"Residuals\")\n",
    "# plt.ylabel(\"Frequency\")\n",
    "# plt.title(\"Residual Distribution\")"
   ]
  },
  {
   "cell_type": "code",
   "execution_count": 31,
   "metadata": {},
   "outputs": [
    {
     "name": "stdout",
     "output_type": "stream",
     "text": [
      "MAE: 1.39\n",
      "MSE: 3.763294978340728\n"
     ]
    }
   ],
   "source": [
    "# Summary metrics\n",
    "print(\"MAE:\", round(np.mean(errors), 2)) \n",
    "print(\"MSE:\", mean_squared_error(y_test, predictions))\n",
    "\n",
    "# Plot feature importance\n",
    "importances = rf.feature_importances_\n",
    "indices = np.argsort(importances)\n",
    "# plt.barh(range(len(indices)), importances[indices], color='b', align='center')\n",
    "# plt.yticks(range(len(indices)), [features.columns[i] for i in indices])\n",
    "# plt.title(\"Feature Importance\")\n",
    "# print(importances)"
   ]
  },
  {
   "cell_type": "code",
   "execution_count": 32,
   "metadata": {},
   "outputs": [
    {
     "data": {
      "text/plain": [
       "<Axes: xlabel='Open'>"
      ]
     },
     "execution_count": 32,
     "metadata": {},
     "output_type": "execute_result"
    },
    {
     "data": {
      "image/png": "[encoded data removed]",
      "text/plain": [
       "<Figure size 640x480 with 1 Axes>"
      ]
     },
     "metadata": {},
     "output_type": "display_data"
    }
   ],
   "source": [
    "import seaborn as sns\n",
    "import plotly.express as px\n",
    "\n",
    "# Use seaborn styling \n",
    "sns.set_style('darkgrid') \n",
    "\n",
    "# Scatter plot with seaborn\n",
    "sns.scatterplot(x=y_test, y=predictions)\n"
   ]
  },
  {
   "cell_type": "code",
   "execution_count": 33,
   "metadata": {},
   "outputs": [
    {
     "name": "stderr",
     "output_type": "stream",
     "text": [
      "C:\\Users\\bmcne\\AppData\\Local\\Temp\\ipykernel_3320\\466109762.py:1: UserWarning: \n",
      "\n",
      "`distplot` is a deprecated function and will be removed in seaborn v0.14.0.\n",
      "\n",
      "Please adapt your code to use either `displot` (a figure-level function with\n",
      "similar flexibility) or `histplot` (an axes-level function for histograms).\n",
      "\n",
      "For a guide to updating your code to use the new functions, please see\n",
      "https://gist.github.com/mwaskom/de44147ed2974457ad6372750bbe5751\n",
      "\n",
      "  sns.distplot(residuals, bins=25, kde=True)\n"
     ]
    },
    {
     "data": {
      "text/plain": [
       "Text(0, 0.5, 'Density')"
      ]
     },
     "execution_count": 33,
     "metadata": {},
     "output_type": "execute_result"
    },
    {
     "data": {
      "image/png": "[encoded data removed]",
      "text/plain": [
       "<Figure size 640x480 with 1 Axes>"
      ]
     },
     "metadata": {},
     "output_type": "display_data"
    }
   ],
   "source": [
    "\n",
    "sns.distplot(residuals, bins=25, kde=True)\n",
    "\n",
    "# Add plot title\n",
    "plt.title(\"Distribution of Residuals\")\n",
    "\n",
    "# Label axes\n",
    "plt.xlabel(\"Residuals\")  \n",
    "plt.ylabel(\"Density\")"
   ]
  },
  {
   "cell_type": "code",
   "execution_count": 34,
   "metadata": {},
   "outputs": [
    {
     "data": {
      "application/vnd.plotly.v1+json": {
       "config": {
        "plotlyServerURL": "https://plot.ly"
       },
       "data": [
        {
         "alignmentgroup": "True",
         "hovertemplate": "x=%{x}<br>y=%{y}<extra></extra>",
         "legendgroup": "",
         "marker": {
          "color": "#636efa",
          "pattern": {
           "shape": ""
          }
         },
         "name": "",
         "offsetgroup": "",
         "orientation": "h",
         "showlegend": false,
         "textposition": "auto",
         "type": "bar",
         "x": [
          0.2581877942414548,
          0.7345567023895362,
          0.003977682951339367,
          0.003277820417669715
         ],
         "xaxis": "x",
         "y": [
          "Momentum_2Wk",
          "log_volume",
          "Close",
          "Volume"
         ],
         "yaxis": "y"
        }
       ],
       "layout": {
        "barmode": "relative",
        "legend": {
         "tracegroupgap": 0
        },
        "template": {
         "data": {
          "bar": [
           {
            "error_x": {
             "color": "#2a3f5f"
            },
            "error_y": {
             "color": "#2a3f5f"
            },
            "marker": {
             "line": {
              "color": "#E5ECF6",
              "width": 0.5
             },
             "pattern": {
              "fillmode": "overlay",
              "size": 10,
              "solidity": 0.2
             }
            },
            "type": "bar"
           }
          ],
          "barpolar": [
           {
            "marker": {
             "line": {
              "color": "#E5ECF6",
              "width": 0.5
             },
             "pattern": {
              "fillmode": "overlay",
              "size": 10,
              "solidity": 0.2
             }
            },
            "type": "barpolar"
           }
          ],
          "carpet": [
           {
            "aaxis": {
             "endlinecolor": "#2a3f5f",
             "gridcolor": "white",
             "linecolor": "white",
             "minorgridcolor": "white",
             "startlinecolor": "#2a3f5f"
            },
            "baxis": {
             "endlinecolor": "#2a3f5f",
             "gridcolor": "white",
             "linecolor": "white",
             "minorgridcolor": "white",
             "startlinecolor": "#2a3f5f"
            },
            "type": "carpet"
           }
          ],
          "choropleth": [
           {
            "colorbar": {
             "outlinewidth": 0,
             "ticks": ""
            },
            "type": "choropleth"
           }
          ],
          "contour": [
           {
            "colorbar": {
             "outlinewidth": 0,
             "ticks": ""
            },
            "colorscale": [
             [
              0,
              "#0d0887"
             ],
             [
              0.1111111111111111,
              "#46039f"
             ],
             [
              0.2222222222222222,
              "#7201a8"
             ],
             [
              0.3333333333333333,
              "#9c179e"
             ],
             [
              0.4444444444444444,
              "#bd3786"
             ],
             [
              0.5555555555555556,
              "#d8576b"
             ],
             [
              0.6666666666666666,
              "#ed7953"
             ],
             [
              0.7777777777777778,
              "#fb9f3a"
             ],
             [
              0.8888888888888888,
              "#fdca26"
             ],
             [
              1,
              "#f0f921"
             ]
            ],
            "type": "contour"
           }
          ],
          "contourcarpet": [
           {
            "colorbar": {
             "outlinewidth": 0,
             "ticks": ""
            },
            "type": "contourcarpet"
           }
          ],
          "heatmap": [
           {
            "colorbar": {
             "outlinewidth": 0,
             "ticks": ""
            },
            "colorscale": [
             [
              0,
              "#0d0887"
             ],
             [
              0.1111111111111111,
              "#46039f"
             ],
             [
              0.2222222222222222,
              "#7201a8"
             ],
             [
              0.3333333333333333,
              "#9c179e"
             ],
             [
              0.4444444444444444,
              "#bd3786"
             ],
             [
              0.5555555555555556,
              "#d8576b"
             ],
             [
              0.6666666666666666,
              "#ed7953"
             ],
             [
              0.7777777777777778,
              "#fb9f3a"
             ],
             [
              0.8888888888888888,
              "#fdca26"
             ],
             [
              1,
              "#f0f921"
             ]
            ],
            "type": "heatmap"
           }
          ],
          "heatmapgl": [
           {
            "colorbar": {
             "outlinewidth": 0,
             "ticks": ""
            },
            "colorscale": [
             [
              0,
              "#0d0887"
             ],
             [
              0.1111111111111111,
              "#46039f"
             ],
             [
              0.2222222222222222,
              "#7201a8"
             ],
             [
              0.3333333333333333,
              "#9c179e"
             ],
             [
              0.4444444444444444,
              "#bd3786"
             ],
             [
              0.5555555555555556,
              "#d8576b"
             ],
             [
              0.6666666666666666,
              "#ed7953"
             ],
             [
              0.7777777777777778,
              "#fb9f3a"
             ],
             [
              0.8888888888888888,
              "#fdca26"
             ],
             [
              1,
              "#f0f921"
             ]
            ],
            "type": "heatmapgl"
           }
          ],
          "histogram": [
           {
            "marker": {
             "pattern": {
              "fillmode": "overlay",
              "size": 10,
              "solidity": 0.2
             }
            },
            "type": "histogram"
           }
          ],
          "histogram2d": [
           {
            "colorbar": {
             "outlinewidth": 0,
             "ticks": ""
            },
            "colorscale": [
             [
              0,
              "#0d0887"
             ],
             [
              0.1111111111111111,
              "#46039f"
             ],
             [
              0.2222222222222222,
              "#7201a8"
             ],
             [
              0.3333333333333333,
              "#9c179e"
             ],
             [
              0.4444444444444444,
              "#bd3786"
             ],
             [
              0.5555555555555556,
              "#d8576b"
             ],
             [
              0.6666666666666666,
              "#ed7953"
             ],
             [
              0.7777777777777778,
              "#fb9f3a"
             ],
             [
              0.8888888888888888,
              "#fdca26"
             ],
             [
              1,
              "#f0f921"
             ]
            ],
            "type": "histogram2d"
           }
          ],
          "histogram2dcontour": [
           {
            "colorbar": {
             "outlinewidth": 0,
             "ticks": ""
            },
            "colorscale": [
             [
              0,
              "#0d0887"
             ],
             [
              0.1111111111111111,
              "#46039f"
             ],
             [
              0.2222222222222222,
              "#7201a8"
             ],
             [
              0.3333333333333333,
              "#9c179e"
             ],
             [
              0.4444444444444444,
              "#bd3786"
             ],
             [
              0.5555555555555556,
              "#d8576b"
             ],
             [
              0.6666666666666666,
              "#ed7953"
             ],
             [
              0.7777777777777778,
              "#fb9f3a"
             ],
             [
              0.8888888888888888,
              "#fdca26"
             ],
             [
              1,
              "#f0f921"
             ]
            ],
            "type": "histogram2dcontour"
           }
          ],
          "mesh3d": [
           {
            "colorbar": {
             "outlinewidth": 0,
             "ticks": ""
            },
            "type": "mesh3d"
           }
          ],
          "parcoords": [
           {
            "line": {
             "colorbar": {
              "outlinewidth": 0,
              "ticks": ""
             }
            },
            "type": "parcoords"
           }
          ],
          "pie": [
           {
            "automargin": true,
            "type": "pie"
           }
          ],
          "scatter": [
           {
            "fillpattern": {
             "fillmode": "overlay",
             "size": 10,
             "solidity": 0.2
            },
            "type": "scatter"
           }
          ],
          "scatter3d": [
           {
            "line": {
             "colorbar": {
              "outlinewidth": 0,
              "ticks": ""
             }
            },
            "marker": {
             "colorbar": {
              "outlinewidth": 0,
              "ticks": ""
             }
            },
            "type": "scatter3d"
           }
          ],
          "scattercarpet": [
           {
            "marker": {
             "colorbar": {
              "outlinewidth": 0,
              "ticks": ""
             }
            },
            "type": "scattercarpet"
           }
          ],
          "scattergeo": [
           {
            "marker": {
             "colorbar": {
              "outlinewidth": 0,
              "ticks": ""
             }
            },
            "type": "scattergeo"
           }
          ],
          "scattergl": [
           {
            "marker": {
             "colorbar": {
              "outlinewidth": 0,
              "ticks": ""
             }
            },
            "type": "scattergl"
           }
          ],
          "scattermapbox": [
           {
            "marker": {
             "colorbar": {
              "outlinewidth": 0,
              "ticks": ""
             }
            },
            "type": "scattermapbox"
           }
          ],
          "scatterpolar": [
           {
            "marker": {
             "colorbar": {
              "outlinewidth": 0,
              "ticks": ""
             }
            },
            "type": "scatterpolar"
           }
          ],
          "scatterpolargl": [
           {
            "marker": {
             "colorbar": {
              "outlinewidth": 0,
              "ticks": ""
             }
            },
            "type": "scatterpolargl"
           }
          ],
          "scatterternary": [
           {
            "marker": {
             "colorbar": {
              "outlinewidth": 0,
              "ticks": ""
             }
            },
            "type": "scatterternary"
           }
          ],
          "surface": [
           {
            "colorbar": {
             "outlinewidth": 0,
             "ticks": ""
            },
            "colorscale": [
             [
              0,
              "#0d0887"
             ],
             [
              0.1111111111111111,
              "#46039f"
             ],
             [
              0.2222222222222222,
              "#7201a8"
             ],
             [
              0.3333333333333333,
              "#9c179e"
             ],
             [
              0.4444444444444444,
              "#bd3786"
             ],
             [
              0.5555555555555556,
              "#d8576b"
             ],
             [
              0.6666666666666666,
              "#ed7953"
             ],
             [
              0.7777777777777778,
              "#fb9f3a"
             ],
             [
              0.8888888888888888,
              "#fdca26"
             ],
             [
              1,
              "#f0f921"
             ]
            ],
            "type": "surface"
           }
          ],
          "table": [
           {
            "cells": {
             "fill": {
              "color": "#EBF0F8"
             },
             "line": {
              "color": "white"
             }
            },
            "header": {
             "fill": {
              "color": "#C8D4E3"
             },
             "line": {
              "color": "white"
             }
            },
            "type": "table"
           }
          ]
         },
         "layout": {
          "annotationdefaults": {
           "arrowcolor": "#2a3f5f",
           "arrowhead": 0,
           "arrowwidth": 1
          },
          "autotypenumbers": "strict",
          "coloraxis": {
           "colorbar": {
            "outlinewidth": 0,
            "ticks": ""
           }
          },
          "colorscale": {
           "diverging": [
            [
             0,
             "#8e0152"
            ],
            [
             0.1,
             "#c51b7d"
            ],
            [
             0.2,
             "#de77ae"
            ],
            [
             0.3,
             "#f1b6da"
            ],
            [
             0.4,
             "#fde0ef"
            ],
            [
             0.5,
             "#f7f7f7"
            ],
            [
             0.6,
             "#e6f5d0"
            ],
            [
             0.7,
             "#b8e186"
            ],
            [
             0.8,
             "#7fbc41"
            ],
            [
             0.9,
             "#4d9221"
            ],
            [
             1,
             "#276419"
            ]
           ],
           "sequential": [
            [
             0,
             "#0d0887"
            ],
            [
             0.1111111111111111,
             "#46039f"
            ],
            [
             0.2222222222222222,
             "#7201a8"
            ],
            [
             0.3333333333333333,
             "#9c179e"
            ],
            [
             0.4444444444444444,
             "#bd3786"
            ],
            [
             0.5555555555555556,
             "#d8576b"
            ],
            [
             0.6666666666666666,
             "#ed7953"
            ],
            [
             0.7777777777777778,
             "#fb9f3a"
            ],
            [
             0.8888888888888888,
             "#fdca26"
            ],
            [
             1,
             "#f0f921"
            ]
           ],
           "sequentialminus": [
            [
             0,
             "#0d0887"
            ],
            [
             0.1111111111111111,
             "#46039f"
            ],
            [
             0.2222222222222222,
             "#7201a8"
            ],
            [
             0.3333333333333333,
             "#9c179e"
            ],
            [
             0.4444444444444444,
             "#bd3786"
            ],
            [
             0.5555555555555556,
             "#d8576b"
            ],
            [
             0.6666666666666666,
             "#ed7953"
            ],
            [
             0.7777777777777778,
             "#fb9f3a"
            ],
            [
             0.8888888888888888,
             "#fdca26"
            ],
            [
             1,
             "#f0f921"
            ]
           ]
          },
          "colorway": [
           "#636efa",
           "#EF553B",
           "#00cc96",
           "#ab63fa",
           "#FFA15A",
           "#19d3f3",
           "#FF6692",
           "#B6E880",
           "#FF97FF",
           "#FECB52"
          ],
          "font": {
           "color": "#2a3f5f"
          },
          "geo": {
           "bgcolor": "white",
           "lakecolor": "white",
           "landcolor": "#E5ECF6",
           "showlakes": true,
           "showland": true,
           "subunitcolor": "white"
          },
          "hoverlabel": {
           "align": "left"
          },
          "hovermode": "closest",
          "mapbox": {
           "style": "light"
          },
          "paper_bgcolor": "white",
          "plot_bgcolor": "#E5ECF6",
          "polar": {
           "angularaxis": {
            "gridcolor": "white",
            "linecolor": "white",
            "ticks": ""
           },
           "bgcolor": "#E5ECF6",
           "radialaxis": {
            "gridcolor": "white",
            "linecolor": "white",
            "ticks": ""
           }
          },
          "scene": {
           "xaxis": {
            "backgroundcolor": "#E5ECF6",
            "gridcolor": "white",
            "gridwidth": 2,
            "linecolor": "white",
            "showbackground": true,
            "ticks": "",
            "zerolinecolor": "white"
           },
           "yaxis": {
            "backgroundcolor": "#E5ECF6",
            "gridcolor": "white",
            "gridwidth": 2,
            "linecolor": "white",
            "showbackground": true,
            "ticks": "",
            "zerolinecolor": "white"
           },
           "zaxis": {
            "backgroundcolor": "#E5ECF6",
            "gridcolor": "white",
            "gridwidth": 2,
            "linecolor": "white",
            "showbackground": true,
            "ticks": "",
            "zerolinecolor": "white"
           }
          },
          "shapedefaults": {
           "line": {
            "color": "#2a3f5f"
           }
          },
          "ternary": {
           "aaxis": {
            "gridcolor": "white",
            "linecolor": "white",
            "ticks": ""
           },
           "baxis": {
            "gridcolor": "white",
            "linecolor": "white",
            "ticks": ""
           },
           "bgcolor": "#E5ECF6",
           "caxis": {
            "gridcolor": "white",
            "linecolor": "white",
            "ticks": ""
           }
          },
          "title": {
           "x": 0.05
          },
          "xaxis": {
           "automargin": true,
           "gridcolor": "white",
           "linecolor": "white",
           "ticks": "",
           "title": {
            "standoff": 15
           },
           "zerolinecolor": "white",
           "zerolinewidth": 2
          },
          "yaxis": {
           "automargin": true,
           "gridcolor": "white",
           "linecolor": "white",
           "ticks": "",
           "title": {
            "standoff": 15
           },
           "zerolinecolor": "white",
           "zerolinewidth": 2
          }
         }
        },
        "title": {
         "text": "Feature Importance"
        },
        "xaxis": {
         "anchor": "y",
         "domain": [
          0,
          1
         ],
         "title": {
          "text": "x"
         }
        },
        "yaxis": {
         "anchor": "x",
         "domain": [
          0,
          1
         ],
         "title": {
          "text": "features"
         }
        }
       }
      }
     },
     "metadata": {},
     "output_type": "display_data"
    }
   ],
   "source": [
    "\n",
    "# Feature importance horizontal bar chart\n",
    "feature_names = [features.columns[i] for i in indices]\n",
    "labels={'y': feature_names}\n",
    "fig = px.bar(x=importances, y=feature_names, orientation='h',\n",
    "             title='Feature Importance')\n",
    "fig.update_layout(yaxis_title=\"Features\")\n",
    "fig.show()\n"
   ]
  },
  {
   "cell_type": "code",
   "execution_count": 35,
   "metadata": {},
   "outputs": [
    {
     "data": {
      "application/vnd.plotly.v1+json": {
       "config": {
        "plotlyServerURL": "https://plot.ly"
       },
       "data": [
        {
         "hovertemplate": "x=%{x}<br>y=%{y}<extra></extra>",
         "legendgroup": "",
         "marker": {
          "color": "#636efa",
          "symbol": "circle"
         },
         "mode": "markers",
         "name": "",
         "orientation": "v",
         "showlegend": false,
         "type": "scatter",
         "x": [
          27.2,
          46.38,
          31.02,
          20.47,
          73.26,
          70.7,
          79.82,
          35.28,
          35.61,
          20.84,
          41.98,
          75.05,
          32,
          38.1,
          39.54,
          22.88,
          36.5,
          66.04,
          45.91,
          61.68,
          61.43,
          47.05,
          75.8,
          30.72,
          36.61,
          18.94,
          45.81,
          20.92,
          37.25,
          82.93,
          80.5,
          39.64,
          19.93,
          23.63,
          40.93,
          30.76,
          65.91,
          24.74,
          35.65,
          30.22,
          36.65,
          20.99,
          65.35,
          66.22,
          34.85,
          32.83,
          77.41,
          26.05,
          40.26,
          51.14,
          47.01,
          45.79,
          35.37,
          26.7,
          26.65,
          36.61,
          36.27,
          44.84,
          46.96,
          71.93,
          40.09,
          41.16,
          33.9,
          33.04,
          41.87,
          30.44,
          62.47,
          84.67,
          39.04,
          69.82,
          85.31,
          80.3,
          30.25,
          26.53,
          46.08,
          34.11,
          64.59,
          24.05,
          86.54,
          67.9,
          25.28,
          46.64,
          77.53,
          30.09,
          40.9,
          27.75,
          47.07,
          87.72,
          67.29,
          66.44,
          21.59,
          41.52,
          69.48,
          66.33,
          23.56,
          38.43
         ],
         "xaxis": "x",
         "y": [
          29.103850000000087,
          45.22481999999985,
          31.75501000000003,
          22.390169999999795,
          74.45356999999939,
          70.58383999999946,
          77.85909000000004,
          35.30373999999998,
          36.462219999999895,
          21.617709999999864,
          40.84241000000019,
          74.69058999999983,
          32.58965000000011,
          39.319590000000005,
          39.92389999999997,
          29.03280000000024,
          36.64578000000037,
          67.40002999999965,
          46.18578000000006,
          63.10791000000046,
          61.926270000000194,
          46.1987700000004,
          72.66678000000014,
          30.753869999999964,
          35.62196999999988,
          22.02524999999974,
          45.67830999999971,
          25.32262,
          37.39577000000003,
          81.1284399999998,
          77.50113000000007,
          40.113600000000105,
          22.616449999999848,
          26.918479999999995,
          39.896159999999966,
          30.47327000000008,
          66.42099999999948,
          23.44901999999992,
          34.20281999999999,
          32.05888000000021,
          38.3990099999999,
          23.66713999999984,
          68.23973999999991,
          67.22752000000001,
          36.97067999999985,
          33.391459999999924,
          75.44448999999972,
          27.026680000000145,
          41.70163000000043,
          53.71272999999996,
          46.933240000000254,
          46.65465000000003,
          37.080169999999754,
          27.09595999999974,
          26.643340000000176,
          36.439920000000065,
          39.41296999999994,
          43.734499999999784,
          47.778349999999946,
          71.91486999999998,
          40.65284000000014,
          41.222649999999895,
          34.84882999999994,
          33.613290000000056,
          40.87642000000008,
          31.310690000000154,
          64.05683999999982,
          80.77931999999981,
          39.90487000000006,
          72.90456999999975,
          79.32745999999972,
          79.06939999999962,
          31.628940000000153,
          26.395439999999894,
          43.544080000000086,
          31.02069999999992,
          66.80382,
          24.15591000000002,
          81.63440999999973,
          67.7132099999998,
          24.736790000000084,
          46.082440000000254,
          77.25331000000033,
          29.906790000000203,
          40.75789000000003,
          26.227999999999863,
          44.56451999999979,
          82.15645999999971,
          67.52461000000004,
          66.88703999999964,
          24.182199999999916,
          41.83246999999979,
          67.54802999999951,
          66.23932000000028,
          23.999479999999846,
          37.976699999999816
         ],
         "yaxis": "y"
        },
        {
         "hovertemplate": "<b>OLS trendline</b><br>y = 0.949788 * x + 2.48209<br>R<sup>2</sup>=0.991926<br><br>x=%{x}<br>y=%{y} <b>(trend)</b><extra></extra>",
         "legendgroup": "",
         "marker": {
          "color": "#636efa",
          "symbol": "circle"
         },
         "mode": "lines",
         "name": "",
         "showlegend": false,
         "type": "scatter",
         "x": [
          18.94,
          19.93,
          20.47,
          20.84,
          20.92,
          20.99,
          21.59,
          22.88,
          23.56,
          23.63,
          24.05,
          24.74,
          25.28,
          26.05,
          26.53,
          26.65,
          26.7,
          27.2,
          27.75,
          30.09,
          30.22,
          30.25,
          30.44,
          30.72,
          30.76,
          31.02,
          32,
          32.83,
          33.04,
          33.9,
          34.11,
          34.85,
          35.28,
          35.37,
          35.61,
          35.65,
          36.27,
          36.5,
          36.61,
          36.61,
          36.65,
          37.25,
          38.1,
          38.43,
          39.04,
          39.54,
          39.64,
          40.09,
          40.26,
          40.9,
          40.93,
          41.16,
          41.52,
          41.87,
          41.98,
          44.84,
          45.79,
          45.81,
          45.91,
          46.08,
          46.38,
          46.64,
          46.96,
          47.01,
          47.05,
          47.07,
          51.14,
          61.43,
          61.68,
          62.47,
          64.59,
          65.35,
          65.91,
          66.04,
          66.22,
          66.33,
          66.44,
          67.29,
          67.9,
          69.48,
          69.82,
          70.7,
          71.93,
          73.26,
          75.05,
          75.8,
          77.41,
          77.53,
          79.82,
          80.3,
          80.5,
          82.93,
          84.67,
          85.31,
          86.54,
          87.72
         ],
         "xaxis": "x",
         "y": [
          20.471079805426548,
          21.411370066741114,
          21.924255663821786,
          22.275677276636323,
          22.351660328055683,
          22.418145498047622,
          22.988018383692815,
          24.21324508782998,
          24.859101024894528,
          24.925586194886467,
          25.324497214838104,
          25.979851033330075,
          26.49273663041075,
          27.22407350032208,
          27.679971808838236,
          27.79394638596727,
          27.84143579310437,
          28.316329864475364,
          28.83871334298346,
          31.06121759699971,
          31.184690055556167,
          31.213183699838428,
          31.39364344695941,
          31.65958412692716,
          31.697575652636843,
          31.94452056974976,
          32.87531294963691,
          33.66363710811275,
          33.86309261808857,
          34.67991042084668,
          34.879365930822495,
          35.58220915645157,
          35.99061805783062,
          36.0760989906774,
          36.30404814493548,
          36.34203967064516,
          36.930908319145196,
          37.149359591975845,
          37.253836287677466,
          37.253836287677466,
          37.291827813387144,
          37.86170069903234,
          38.66902062036303,
          38.98245070746788,
          39.561821474540494,
          40.03671554591149,
          40.13169436018569,
          40.55909902441959,
          40.72056300868572,
          41.32842742004059,
          41.356921064322854,
          41.57537233715351,
          41.91729606854063,
          42.24972191850032,
          42.35419861420194,
          45.07059270244403,
          45.97289143804891,
          45.991887200903754,
          46.08686601517795,
          46.24832999944409,
          46.53326644226669,
          46.78021135937961,
          47.08414356505704,
          47.13163297219414,
          47.16962449790382,
          47.18862026075866,
          51.05425800171855,
          60.827577990533605,
          61.0650250262191,
          61.81535765898527,
          63.82890852159829,
          64.55074751008219,
          65.08262887001771,
          65.20610132857418,
          65.37706319426772,
          65.48153988996934,
          65.58601658567096,
          66.39333650700166,
          66.97270727407427,
          68.47337253960661,
          68.79630050813887,
          69.63211407375184,
          70.80035348932448,
          72.06357171917132,
          73.76369249467947,
          74.47603360173596,
          76.00519251155056,
          76.1191670886796,
          78.29418193555875,
          78.75008024407491,
          78.94003787262331,
          81.24802305948634,
          82.9006544278574,
          83.50851883921227,
          84.67675825478491,
          85.79750826322046
         ],
         "yaxis": "y"
        }
       ],
       "layout": {
        "legend": {
         "tracegroupgap": 0
        },
        "margin": {
         "t": 60
        },
        "template": {
         "data": {
          "bar": [
           {
            "error_x": {
             "color": "#2a3f5f"
            },
            "error_y": {
             "color": "#2a3f5f"
            },
            "marker": {
             "line": {
              "color": "#E5ECF6",
              "width": 0.5
             },
             "pattern": {
              "fillmode": "overlay",
              "size": 10,
              "solidity": 0.2
             }
            },
            "type": "bar"
           }
          ],
          "barpolar": [
           {
            "marker": {
             "line": {
              "color": "#E5ECF6",
              "width": 0.5
             },
             "pattern": {
              "fillmode": "overlay",
              "size": 10,
              "solidity": 0.2
             }
            },
            "type": "barpolar"
           }
          ],
          "carpet": [
           {
            "aaxis": {
             "endlinecolor": "#2a3f5f",
             "gridcolor": "white",
             "linecolor": "white",
             "minorgridcolor": "white",
             "startlinecolor": "#2a3f5f"
            },
            "baxis": {
             "endlinecolor": "#2a3f5f",
             "gridcolor": "white",
             "linecolor": "white",
             "minorgridcolor": "white",
             "startlinecolor": "#2a3f5f"
            },
            "type": "carpet"
           }
          ],
          "choropleth": [
           {
            "colorbar": {
             "outlinewidth": 0,
             "ticks": ""
            },
            "type": "choropleth"
           }
          ],
          "contour": [
           {
            "colorbar": {
             "outlinewidth": 0,
             "ticks": ""
            },
            "colorscale": [
             [
              0,
              "#0d0887"
             ],
             [
              0.1111111111111111,
              "#46039f"
             ],
             [
              0.2222222222222222,
              "#7201a8"
             ],
             [
              0.3333333333333333,
              "#9c179e"
             ],
             [
              0.4444444444444444,
              "#bd3786"
             ],
             [
              0.5555555555555556,
              "#d8576b"
             ],
             [
              0.6666666666666666,
              "#ed7953"
             ],
             [
              0.7777777777777778,
              "#fb9f3a"
             ],
             [
              0.8888888888888888,
              "#fdca26"
             ],
             [
              1,
              "#f0f921"
             ]
            ],
            "type": "contour"
           }
          ],
          "contourcarpet": [
           {
            "colorbar": {
             "outlinewidth": 0,
             "ticks": ""
            },
            "type": "contourcarpet"
           }
          ],
          "heatmap": [
           {
            "colorbar": {
             "outlinewidth": 0,
             "ticks": ""
            },
            "colorscale": [
             [
              0,
              "#0d0887"
             ],
             [
              0.1111111111111111,
              "#46039f"
             ],
             [
              0.2222222222222222,
              "#7201a8"
             ],
             [
              0.3333333333333333,
              "#9c179e"
             ],
             [
              0.4444444444444444,
              "#bd3786"
             ],
             [
              0.5555555555555556,
              "#d8576b"
             ],
             [
              0.6666666666666666,
              "#ed7953"
             ],
             [
              0.7777777777777778,
              "#fb9f3a"
             ],
             [
              0.8888888888888888,
              "#fdca26"
             ],
             [
              1,
              "#f0f921"
             ]
            ],
            "type": "heatmap"
           }
          ],
          "heatmapgl": [
           {
            "colorbar": {
             "outlinewidth": 0,
             "ticks": ""
            },
            "colorscale": [
             [
              0,
              "#0d0887"
             ],
             [
              0.1111111111111111,
              "#46039f"
             ],
             [
              0.2222222222222222,
              "#7201a8"
             ],
             [
              0.3333333333333333,
              "#9c179e"
             ],
             [
              0.4444444444444444,
              "#bd3786"
             ],
             [
              0.5555555555555556,
              "#d8576b"
             ],
             [
              0.6666666666666666,
              "#ed7953"
             ],
             [
              0.7777777777777778,
              "#fb9f3a"
             ],
             [
              0.8888888888888888,
              "#fdca26"
             ],
             [
              1,
              "#f0f921"
             ]
            ],
            "type": "heatmapgl"
           }
          ],
          "histogram": [
           {
            "marker": {
             "pattern": {
              "fillmode": "overlay",
              "size": 10,
              "solidity": 0.2
             }
            },
            "type": "histogram"
           }
          ],
          "histogram2d": [
           {
            "colorbar": {
             "outlinewidth": 0,
             "ticks": ""
            },
            "colorscale": [
             [
              0,
              "#0d0887"
             ],
             [
              0.1111111111111111,
              "#46039f"
             ],
             [
              0.2222222222222222,
              "#7201a8"
             ],
             [
              0.3333333333333333,
              "#9c179e"
             ],
             [
              0.4444444444444444,
              "#bd3786"
             ],
             [
              0.5555555555555556,
              "#d8576b"
             ],
             [
              0.6666666666666666,
              "#ed7953"
             ],
             [
              0.7777777777777778,
              "#fb9f3a"
             ],
             [
              0.8888888888888888,
              "#fdca26"
             ],
             [
              1,
              "#f0f921"
             ]
            ],
            "type": "histogram2d"
           }
          ],
          "histogram2dcontour": [
           {
            "colorbar": {
             "outlinewidth": 0,
             "ticks": ""
            },
            "colorscale": [
             [
              0,
              "#0d0887"
             ],
             [
              0.1111111111111111,
              "#46039f"
             ],
             [
              0.2222222222222222,
              "#7201a8"
             ],
             [
              0.3333333333333333,
              "#9c179e"
             ],
             [
              0.4444444444444444,
              "#bd3786"
             ],
             [
              0.5555555555555556,
              "#d8576b"
             ],
             [
              0.6666666666666666,
              "#ed7953"
             ],
             [
              0.7777777777777778,
              "#fb9f3a"
             ],
             [
              0.8888888888888888,
              "#fdca26"
             ],
             [
              1,
              "#f0f921"
             ]
            ],
            "type": "histogram2dcontour"
           }
          ],
          "mesh3d": [
           {
            "colorbar": {
             "outlinewidth": 0,
             "ticks": ""
            },
            "type": "mesh3d"
           }
          ],
          "parcoords": [
           {
            "line": {
             "colorbar": {
              "outlinewidth": 0,
              "ticks": ""
             }
            },
            "type": "parcoords"
           }
          ],
          "pie": [
           {
            "automargin": true,
            "type": "pie"
           }
          ],
          "scatter": [
           {
            "fillpattern": {
             "fillmode": "overlay",
             "size": 10,
             "solidity": 0.2
            },
            "type": "scatter"
           }
          ],
          "scatter3d": [
           {
            "line": {
             "colorbar": {
              "outlinewidth": 0,
              "ticks": ""
             }
            },
            "marker": {
             "colorbar": {
              "outlinewidth": 0,
              "ticks": ""
             }
            },
            "type": "scatter3d"
           }
          ],
          "scattercarpet": [
           {
            "marker": {
             "colorbar": {
              "outlinewidth": 0,
              "ticks": ""
             }
            },
            "type": "scattercarpet"
           }
          ],
          "scattergeo": [
           {
            "marker": {
             "colorbar": {
              "outlinewidth": 0,
              "ticks": ""
             }
            },
            "type": "scattergeo"
           }
          ],
          "scattergl": [
           {
            "marker": {
             "colorbar": {
              "outlinewidth": 0,
              "ticks": ""
             }
            },
            "type": "scattergl"
           }
          ],
          "scattermapbox": [
           {
            "marker": {
             "colorbar": {
              "outlinewidth": 0,
              "ticks": ""
             }
            },
            "type": "scattermapbox"
           }
          ],
          "scatterpolar": [
           {
            "marker": {
             "colorbar": {
              "outlinewidth": 0,
              "ticks": ""
             }
            },
            "type": "scatterpolar"
           }
          ],
          "scatterpolargl": [
           {
            "marker": {
             "colorbar": {
              "outlinewidth": 0,
              "ticks": ""
             }
            },
            "type": "scatterpolargl"
           }
          ],
          "scatterternary": [
           {
            "marker": {
             "colorbar": {
              "outlinewidth": 0,
              "ticks": ""
             }
            },
            "type": "scatterternary"
           }
          ],
          "surface": [
           {
            "colorbar": {
             "outlinewidth": 0,
             "ticks": ""
            },
            "colorscale": [
             [
              0,
              "#0d0887"
             ],
             [
              0.1111111111111111,
              "#46039f"
             ],
             [
              0.2222222222222222,
              "#7201a8"
             ],
             [
              0.3333333333333333,
              "#9c179e"
             ],
             [
              0.4444444444444444,
              "#bd3786"
             ],
             [
              0.5555555555555556,
              "#d8576b"
             ],
             [
              0.6666666666666666,
              "#ed7953"
             ],
             [
              0.7777777777777778,
              "#fb9f3a"
             ],
             [
              0.8888888888888888,
              "#fdca26"
             ],
             [
              1,
              "#f0f921"
             ]
            ],
            "type": "surface"
           }
          ],
          "table": [
           {
            "cells": {
             "fill": {
              "color": "#EBF0F8"
             },
             "line": {
              "color": "white"
             }
            },
            "header": {
             "fill": {
              "color": "#C8D4E3"
             },
             "line": {
              "color": "white"
             }
            },
            "type": "table"
           }
          ]
         },
         "layout": {
          "annotationdefaults": {
           "arrowcolor": "#2a3f5f",
           "arrowhead": 0,
           "arrowwidth": 1
          },
          "autotypenumbers": "strict",
          "coloraxis": {
           "colorbar": {
            "outlinewidth": 0,
            "ticks": ""
           }
          },
          "colorscale": {
           "diverging": [
            [
             0,
             "#8e0152"
            ],
            [
             0.1,
             "#c51b7d"
            ],
            [
             0.2,
             "#de77ae"
            ],
            [
             0.3,
             "#f1b6da"
            ],
            [
             0.4,
             "#fde0ef"
            ],
            [
             0.5,
             "#f7f7f7"
            ],
            [
             0.6,
             "#e6f5d0"
            ],
            [
             0.7,
             "#b8e186"
            ],
            [
             0.8,
             "#7fbc41"
            ],
            [
             0.9,
             "#4d9221"
            ],
            [
             1,
             "#276419"
            ]
           ],
           "sequential": [
            [
             0,
             "#0d0887"
            ],
            [
             0.1111111111111111,
             "#46039f"
            ],
            [
             0.2222222222222222,
             "#7201a8"
            ],
            [
             0.3333333333333333,
             "#9c179e"
            ],
            [
             0.4444444444444444,
             "#bd3786"
            ],
            [
             0.5555555555555556,
             "#d8576b"
            ],
            [
             0.6666666666666666,
             "#ed7953"
            ],
            [
             0.7777777777777778,
             "#fb9f3a"
            ],
            [
             0.8888888888888888,
             "#fdca26"
            ],
            [
             1,
             "#f0f921"
            ]
           ],
           "sequentialminus": [
            [
             0,
             "#0d0887"
            ],
            [
             0.1111111111111111,
             "#46039f"
            ],
            [
             0.2222222222222222,
             "#7201a8"
            ],
            [
             0.3333333333333333,
             "#9c179e"
            ],
            [
             0.4444444444444444,
             "#bd3786"
            ],
            [
             0.5555555555555556,
             "#d8576b"
            ],
            [
             0.6666666666666666,
             "#ed7953"
            ],
            [
             0.7777777777777778,
             "#fb9f3a"
            ],
            [
             0.8888888888888888,
             "#fdca26"
            ],
            [
             1,
             "#f0f921"
            ]
           ]
          },
          "colorway": [
           "#636efa",
           "#EF553B",
           "#00cc96",
           "#ab63fa",
           "#FFA15A",
           "#19d3f3",
           "#FF6692",
           "#B6E880",
           "#FF97FF",
           "#FECB52"
          ],
          "font": {
           "color": "#2a3f5f"
          },
          "geo": {
           "bgcolor": "white",
           "lakecolor": "white",
           "landcolor": "#E5ECF6",
           "showlakes": true,
           "showland": true,
           "subunitcolor": "white"
          },
          "hoverlabel": {
           "align": "left"
          },
          "hovermode": "closest",
          "mapbox": {
           "style": "light"
          },
          "paper_bgcolor": "white",
          "plot_bgcolor": "#E5ECF6",
          "polar": {
           "angularaxis": {
            "gridcolor": "white",
            "linecolor": "white",
            "ticks": ""
           },
           "bgcolor": "#E5ECF6",
           "radialaxis": {
            "gridcolor": "white",
            "linecolor": "white",
            "ticks": ""
           }
          },
          "scene": {
           "xaxis": {
            "backgroundcolor": "#E5ECF6",
            "gridcolor": "white",
            "gridwidth": 2,
            "linecolor": "white",
            "showbackground": true,
            "ticks": "",
            "zerolinecolor": "white"
           },
           "yaxis": {
            "backgroundcolor": "#E5ECF6",
            "gridcolor": "white",
            "gridwidth": 2,
            "linecolor": "white",
            "showbackground": true,
            "ticks": "",
            "zerolinecolor": "white"
           },
           "zaxis": {
            "backgroundcolor": "#E5ECF6",
            "gridcolor": "white",
            "gridwidth": 2,
            "linecolor": "white",
            "showbackground": true,
            "ticks": "",
            "zerolinecolor": "white"
           }
          },
          "shapedefaults": {
           "line": {
            "color": "#2a3f5f"
           }
          },
          "ternary": {
           "aaxis": {
            "gridcolor": "white",
            "linecolor": "white",
            "ticks": ""
           },
           "baxis": {
            "gridcolor": "white",
            "linecolor": "white",
            "ticks": ""
           },
           "bgcolor": "#E5ECF6",
           "caxis": {
            "gridcolor": "white",
            "linecolor": "white",
            "ticks": ""
           }
          },
          "title": {
           "x": 0.05
          },
          "xaxis": {
           "automargin": true,
           "gridcolor": "white",
           "linecolor": "white",
           "ticks": "",
           "title": {
            "standoff": 15
           },
           "zerolinecolor": "white",
           "zerolinewidth": 2
          },
          "yaxis": {
           "automargin": true,
           "gridcolor": "white",
           "linecolor": "white",
           "ticks": "",
           "title": {
            "standoff": 15
           },
           "zerolinecolor": "white",
           "zerolinewidth": 2
          }
         }
        },
        "title": {
         "text": "Open Actual vs Predicted"
        },
        "xaxis": {
         "anchor": "y",
         "domain": [
          0,
          1
         ],
         "title": {
          "text": "Actual Values"
         }
        },
        "yaxis": {
         "anchor": "x",
         "domain": [
          0,
          1
         ],
         "title": {
          "text": "Predicted Values"
         }
        }
       }
      }
     },
     "metadata": {},
     "output_type": "display_data"
    }
   ],
   "source": [
    "\n",
    "# Use plotly express for actual vs predicted\n",
    "fig = px.scatter(x=y_test, y=predictions, trendline='ols')\n",
    "fig.update_layout(title='Open Actual vs Predicted', \n",
    "                   xaxis_title='Actual Values',\n",
    "                   yaxis_title='Predicted Values')\n",
    "fig.show()"
   ]
  },
  {
   "cell_type": "code",
   "execution_count": 36,
   "metadata": {},
   "outputs": [],
   "source": [
    "#sklearn imports\n",
    "from sklearn.decomposition import PCA\n",
    "from sklearn.preprocessing import StandardScaler"
   ]
  },
  {
   "cell_type": "code",
   "execution_count": 37,
   "metadata": {},
   "outputs": [
    {
     "name": "stdout",
     "output_type": "stream",
     "text": [
      "[1.00000000e+00 6.10097582e-11 2.92144044e-12 5.67476269e-13]\n"
     ]
    }
   ],
   "source": [
    "#https://scikit-learn.org/stable/modules/generated/sklearn.decomposition.PCA.html\n",
    "scaler = StandardScaler()\n",
    "\n",
    "features_std = scaler.fit_transform(features)\n",
    "\n",
    "feature_pca = PCA(n_components=4) \n",
    "feature_pca.fit(features)\n",
    "\n",
    "print(feature_pca.explained_variance_ratio_)"
   ]
  },
  {
   "cell_type": "code",
   "execution_count": 38,
   "metadata": {},
   "outputs": [
    {
     "data": {
      "image/png": "[encoded data removed]",
      "text/plain": [
       "<Figure size 600x500 with 2 Axes>"
      ]
     },
     "metadata": {},
     "output_type": "display_data"
    }
   ],
   "source": [
    "import seaborn as sns\n",
    "import matplotlib.pyplot as plt\n",
    "\n",
    "corr = features.corr()\n",
    "\n",
    "#corr matrix with heatmap\n",
    "plt.figure(figsize=(6,5))\n",
    "sns.heatmap(corr, annot=False, cmap=plt.cm.Blues)\n",
    "plt.savefig('feature_correlations.png')"
   ]
  },
  {
   "cell_type": "code",
   "execution_count": 39,
   "metadata": {},
   "outputs": [
    {
     "name": "stdout",
     "output_type": "stream",
     "text": [
      "1\n",
      "2\n",
      "0.10725523000000976\n",
      "3.9243761399993673\n",
      "0.10725523000000976\n"
     ]
    },
    {
     "data": {
      "image/png": "[encoded data removed]",
      "text/plain": [
       "<Figure size 640x480 with 1 Axes>"
      ]
     },
     "metadata": {},
     "output_type": "display_data"
    }
   ],
   "source": [
    " from XGBoost import *\n",
    "\n",
    "xgb_predictions = run_xgboost(X_train, X_test, y_train)\n",
    "print(train_time)\n",
    "print(xgb_predictions)\n",
    "\n",
    "sns.barplot(x=[train_time, xgb_predictions], y=['Linear Regression', 'XGBoost'])\n",
    "\n",
    "plt.xlabel('Training Time (seconds)')\n",
    "\n",
    "plt.title('Model Training Runtime Comparison')\n",
    "\n",
    "sns.despine()"
   ]
  },
  {
   "cell_type": "code",
   "execution_count": null,
   "metadata": {},
   "outputs": [],
   "source": []
  }
 ],
 "metadata": {
  "kernelspec": {
   "display_name": "Python 3 (ipykernel)",
   "language": "python",
   "name": "python3"
  },
  "language_info": {
   "codemirror_mode": {
    "name": "ipython",
    "version": 3
   },
   "file_extension": ".py",
   "mimetype": "text/x-python",
   "name": "python",
   "nbconvert_exporter": "python",
   "pygments_lexer": "ipython3",
   "version": "3.11.3"
  }
 },
 "nbformat": 4,
 "nbformat_minor": 4
}
