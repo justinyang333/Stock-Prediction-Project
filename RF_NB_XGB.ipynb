{
 "cells": [
  {
   "cell_type": "code",
   "execution_count": 1,
   "metadata": {},
   "outputs": [],
   "source": [
    "import numpy as np\n",
    "import pandas as pd\n",
    "import matplotlib.pyplot as plt\n",
    "import matplotlib.dates as mdates"
   ]
  },
  {
   "cell_type": "code",
   "execution_count": 2,
   "metadata": {},
   "outputs": [],
   "source": [
    "pd.set_option('display.max_columns', None)\n",
    "pd.set_option('display.max_rows', None)"
   ]
  },
  {
   "attachments": {},
   "cell_type": "markdown",
   "metadata": {},
   "source": [
    "<h1>Load and Prep dataset</h1>"
   ]
  },
  {
   "cell_type": "code",
   "execution_count": 3,
   "metadata": {},
   "outputs": [
    {
     "data": {
      "text/html": [
       "<div>\n",
       "<style scoped>\n",
       "    .dataframe tbody tr th:only-of-type {\n",
       "        vertical-align: middle;\n",
       "    }\n",
       "\n",
       "    .dataframe tbody tr th {\n",
       "        vertical-align: top;\n",
       "    }\n",
       "\n",
       "    .dataframe thead th {\n",
       "        text-align: right;\n",
       "    }\n",
       "</style>\n",
       "<table border=\"1\" class=\"dataframe\">\n",
       "  <thead>\n",
       "    <tr style=\"text-align: right;\">\n",
       "      <th></th>\n",
       "      <th>Date</th>\n",
       "      <th>Symbol</th>\n",
       "      <th>Open</th>\n",
       "      <th>High</th>\n",
       "      <th>Low</th>\n",
       "      <th>Close</th>\n",
       "      <th>Volume</th>\n",
       "      <th>log_volume</th>\n",
       "      <th>Momentum_2Wk</th>\n",
       "    </tr>\n",
       "  </thead>\n",
       "  <tbody>\n",
       "    <tr>\n",
       "      <th>0</th>\n",
       "      <td>2009-04-06 04:00:00</td>\n",
       "      <td>A</td>\n",
       "      <td>11.67</td>\n",
       "      <td>11.67</td>\n",
       "      <td>11.26</td>\n",
       "      <td>11.43</td>\n",
       "      <td>4691592</td>\n",
       "      <td>15.361283</td>\n",
       "      <td>2.36</td>\n",
       "    </tr>\n",
       "    <tr>\n",
       "      <th>1</th>\n",
       "      <td>2009-04-14 04:00:00</td>\n",
       "      <td>A</td>\n",
       "      <td>11.92</td>\n",
       "      <td>12.00</td>\n",
       "      <td>11.73</td>\n",
       "      <td>11.82</td>\n",
       "      <td>3114079</td>\n",
       "      <td>14.951444</td>\n",
       "      <td>2.92</td>\n",
       "    </tr>\n",
       "    <tr>\n",
       "      <th>2</th>\n",
       "      <td>2009-04-21 04:00:00</td>\n",
       "      <td>A</td>\n",
       "      <td>11.80</td>\n",
       "      <td>12.04</td>\n",
       "      <td>11.67</td>\n",
       "      <td>11.87</td>\n",
       "      <td>4251390</td>\n",
       "      <td>15.262757</td>\n",
       "      <td>2.03</td>\n",
       "    </tr>\n",
       "    <tr>\n",
       "      <th>3</th>\n",
       "      <td>2009-04-28 04:00:00</td>\n",
       "      <td>A</td>\n",
       "      <td>11.96</td>\n",
       "      <td>12.37</td>\n",
       "      <td>11.77</td>\n",
       "      <td>12.19</td>\n",
       "      <td>4939050</td>\n",
       "      <td>15.412684</td>\n",
       "      <td>0.82</td>\n",
       "    </tr>\n",
       "    <tr>\n",
       "      <th>4</th>\n",
       "      <td>2009-05-05 04:00:00</td>\n",
       "      <td>A</td>\n",
       "      <td>13.85</td>\n",
       "      <td>13.88</td>\n",
       "      <td>13.28</td>\n",
       "      <td>13.40</td>\n",
       "      <td>4895647</td>\n",
       "      <td>15.403857</td>\n",
       "      <td>2.39</td>\n",
       "    </tr>\n",
       "  </tbody>\n",
       "</table>\n",
       "</div>"
      ],
      "text/plain": [
       "                  Date Symbol   Open   High    Low  Close   Volume   \n",
       "0  2009-04-06 04:00:00      A  11.67  11.67  11.26  11.43  4691592  \\\n",
       "1  2009-04-14 04:00:00      A  11.92  12.00  11.73  11.82  3114079   \n",
       "2  2009-04-21 04:00:00      A  11.80  12.04  11.67  11.87  4251390   \n",
       "3  2009-04-28 04:00:00      A  11.96  12.37  11.77  12.19  4939050   \n",
       "4  2009-05-05 04:00:00      A  13.85  13.88  13.28  13.40  4895647   \n",
       "\n",
       "   log_volume  Momentum_2Wk  \n",
       "0   15.361283          2.36  \n",
       "1   14.951444          2.92  \n",
       "2   15.262757          2.03  \n",
       "3   15.412684          0.82  \n",
       "4   15.403857          2.39  "
      ]
     },
     "execution_count": 3,
     "metadata": {},
     "output_type": "execute_result"
    }
   ],
   "source": [
    "data = pd.read_csv('dataset.csv')\n",
    "data.head()"
   ]
  },
  {
   "cell_type": "code",
   "execution_count": 4,
   "metadata": {},
   "outputs": [
    {
     "data": {
      "text/html": [
       "<div>\n",
       "<style scoped>\n",
       "    .dataframe tbody tr th:only-of-type {\n",
       "        vertical-align: middle;\n",
       "    }\n",
       "\n",
       "    .dataframe tbody tr th {\n",
       "        vertical-align: top;\n",
       "    }\n",
       "\n",
       "    .dataframe thead th {\n",
       "        text-align: right;\n",
       "    }\n",
       "</style>\n",
       "<table border=\"1\" class=\"dataframe\">\n",
       "  <thead>\n",
       "    <tr style=\"text-align: right;\">\n",
       "      <th></th>\n",
       "      <th>Symbol</th>\n",
       "      <th>Open</th>\n",
       "      <th>High</th>\n",
       "      <th>Low</th>\n",
       "      <th>Close</th>\n",
       "      <th>Volume</th>\n",
       "      <th>log_volume</th>\n",
       "      <th>Momentum_2Wk</th>\n",
       "    </tr>\n",
       "    <tr>\n",
       "      <th>Date</th>\n",
       "      <th></th>\n",
       "      <th></th>\n",
       "      <th></th>\n",
       "      <th></th>\n",
       "      <th></th>\n",
       "      <th></th>\n",
       "      <th></th>\n",
       "      <th></th>\n",
       "    </tr>\n",
       "  </thead>\n",
       "  <tbody>\n",
       "    <tr>\n",
       "      <th>2009-04-06 04:00:00</th>\n",
       "      <td>A</td>\n",
       "      <td>11.67</td>\n",
       "      <td>11.67</td>\n",
       "      <td>11.26</td>\n",
       "      <td>11.43</td>\n",
       "      <td>4691592</td>\n",
       "      <td>15.361283</td>\n",
       "      <td>2.36</td>\n",
       "    </tr>\n",
       "    <tr>\n",
       "      <th>2009-04-14 04:00:00</th>\n",
       "      <td>A</td>\n",
       "      <td>11.92</td>\n",
       "      <td>12.00</td>\n",
       "      <td>11.73</td>\n",
       "      <td>11.82</td>\n",
       "      <td>3114079</td>\n",
       "      <td>14.951444</td>\n",
       "      <td>2.92</td>\n",
       "    </tr>\n",
       "    <tr>\n",
       "      <th>2009-04-21 04:00:00</th>\n",
       "      <td>A</td>\n",
       "      <td>11.80</td>\n",
       "      <td>12.04</td>\n",
       "      <td>11.67</td>\n",
       "      <td>11.87</td>\n",
       "      <td>4251390</td>\n",
       "      <td>15.262757</td>\n",
       "      <td>2.03</td>\n",
       "    </tr>\n",
       "    <tr>\n",
       "      <th>2009-04-28 04:00:00</th>\n",
       "      <td>A</td>\n",
       "      <td>11.96</td>\n",
       "      <td>12.37</td>\n",
       "      <td>11.77</td>\n",
       "      <td>12.19</td>\n",
       "      <td>4939050</td>\n",
       "      <td>15.412684</td>\n",
       "      <td>0.82</td>\n",
       "    </tr>\n",
       "    <tr>\n",
       "      <th>2009-05-05 04:00:00</th>\n",
       "      <td>A</td>\n",
       "      <td>13.85</td>\n",
       "      <td>13.88</td>\n",
       "      <td>13.28</td>\n",
       "      <td>13.40</td>\n",
       "      <td>4895647</td>\n",
       "      <td>15.403857</td>\n",
       "      <td>2.39</td>\n",
       "    </tr>\n",
       "  </tbody>\n",
       "</table>\n",
       "</div>"
      ],
      "text/plain": [
       "                    Symbol   Open   High    Low  Close   Volume  log_volume   \n",
       "Date                                                                          \n",
       "2009-04-06 04:00:00      A  11.67  11.67  11.26  11.43  4691592   15.361283  \\\n",
       "2009-04-14 04:00:00      A  11.92  12.00  11.73  11.82  3114079   14.951444   \n",
       "2009-04-21 04:00:00      A  11.80  12.04  11.67  11.87  4251390   15.262757   \n",
       "2009-04-28 04:00:00      A  11.96  12.37  11.77  12.19  4939050   15.412684   \n",
       "2009-05-05 04:00:00      A  13.85  13.88  13.28  13.40  4895647   15.403857   \n",
       "\n",
       "                     Momentum_2Wk  \n",
       "Date                               \n",
       "2009-04-06 04:00:00          2.36  \n",
       "2009-04-14 04:00:00          2.92  \n",
       "2009-04-21 04:00:00          2.03  \n",
       "2009-04-28 04:00:00          0.82  \n",
       "2009-05-05 04:00:00          2.39  "
      ]
     },
     "execution_count": 4,
     "metadata": {},
     "output_type": "execute_result"
    }
   ],
   "source": [
    "# Copy the data and sort by symbol and date\n",
    "df = data\n",
    "df = data.copy().sort_values(by=[\"Symbol\", \"Date\"])\n",
    "df[\"Date\"] = pd.to_datetime(df[\"Date\"])\n",
    "df.set_index(\"Date\", drop=True, inplace=True)\n",
    "df.head()"
   ]
  },
  {
   "cell_type": "code",
   "execution_count": 5,
   "metadata": {},
   "outputs": [
    {
     "name": "stderr",
     "output_type": "stream",
     "text": [
      "C:\\Users\\bmcne\\AppData\\Local\\Packages\\PythonSoftwareFoundation.Python.3.11_qbz5n2kfra8p0\\LocalCache\\local-packages\\Python311\\site-packages\\numpy\\lib\\function_base.py:4573: RuntimeWarning: invalid value encountered in subtract\n",
      "  diff_b_a = subtract(b, a)\n",
      "C:\\Users\\bmcne\\AppData\\Local\\Packages\\PythonSoftwareFoundation.Python.3.11_qbz5n2kfra8p0\\LocalCache\\local-packages\\Python311\\site-packages\\numpy\\lib\\function_base.py:4573: RuntimeWarning: invalid value encountered in subtract\n",
      "  diff_b_a = subtract(b, a)\n"
     ]
    },
    {
     "data": {
      "text/html": [
       "<div>\n",
       "<style scoped>\n",
       "    .dataframe tbody tr th:only-of-type {\n",
       "        vertical-align: middle;\n",
       "    }\n",
       "\n",
       "    .dataframe tbody tr th {\n",
       "        vertical-align: top;\n",
       "    }\n",
       "\n",
       "    .dataframe thead tr th {\n",
       "        text-align: left;\n",
       "    }\n",
       "\n",
       "    .dataframe thead tr:last-of-type th {\n",
       "        text-align: right;\n",
       "    }\n",
       "</style>\n",
       "<table border=\"1\" class=\"dataframe\">\n",
       "  <thead>\n",
       "    <tr>\n",
       "      <th></th>\n",
       "      <th colspan=\"8\" halign=\"left\">Open</th>\n",
       "      <th colspan=\"8\" halign=\"left\">High</th>\n",
       "      <th colspan=\"8\" halign=\"left\">Low</th>\n",
       "      <th colspan=\"8\" halign=\"left\">Close</th>\n",
       "      <th colspan=\"8\" halign=\"left\">Volume</th>\n",
       "      <th colspan=\"8\" halign=\"left\">log_volume</th>\n",
       "      <th colspan=\"8\" halign=\"left\">Momentum_2Wk</th>\n",
       "    </tr>\n",
       "    <tr>\n",
       "      <th></th>\n",
       "      <th>count</th>\n",
       "      <th>mean</th>\n",
       "      <th>std</th>\n",
       "      <th>min</th>\n",
       "      <th>25%</th>\n",
       "      <th>50%</th>\n",
       "      <th>75%</th>\n",
       "      <th>max</th>\n",
       "      <th>count</th>\n",
       "      <th>mean</th>\n",
       "      <th>std</th>\n",
       "      <th>min</th>\n",
       "      <th>25%</th>\n",
       "      <th>50%</th>\n",
       "      <th>75%</th>\n",
       "      <th>max</th>\n",
       "      <th>count</th>\n",
       "      <th>mean</th>\n",
       "      <th>std</th>\n",
       "      <th>min</th>\n",
       "      <th>25%</th>\n",
       "      <th>50%</th>\n",
       "      <th>75%</th>\n",
       "      <th>max</th>\n",
       "      <th>count</th>\n",
       "      <th>mean</th>\n",
       "      <th>std</th>\n",
       "      <th>min</th>\n",
       "      <th>25%</th>\n",
       "      <th>50%</th>\n",
       "      <th>75%</th>\n",
       "      <th>max</th>\n",
       "      <th>count</th>\n",
       "      <th>mean</th>\n",
       "      <th>std</th>\n",
       "      <th>min</th>\n",
       "      <th>25%</th>\n",
       "      <th>50%</th>\n",
       "      <th>75%</th>\n",
       "      <th>max</th>\n",
       "      <th>count</th>\n",
       "      <th>mean</th>\n",
       "      <th>std</th>\n",
       "      <th>min</th>\n",
       "      <th>25%</th>\n",
       "      <th>50%</th>\n",
       "      <th>75%</th>\n",
       "      <th>max</th>\n",
       "      <th>count</th>\n",
       "      <th>mean</th>\n",
       "      <th>std</th>\n",
       "      <th>min</th>\n",
       "      <th>25%</th>\n",
       "      <th>50%</th>\n",
       "      <th>75%</th>\n",
       "      <th>max</th>\n",
       "    </tr>\n",
       "    <tr>\n",
       "      <th>Symbol</th>\n",
       "      <th></th>\n",
       "      <th></th>\n",
       "      <th></th>\n",
       "      <th></th>\n",
       "      <th></th>\n",
       "      <th></th>\n",
       "      <th></th>\n",
       "      <th></th>\n",
       "      <th></th>\n",
       "      <th></th>\n",
       "      <th></th>\n",
       "      <th></th>\n",
       "      <th></th>\n",
       "      <th></th>\n",
       "      <th></th>\n",
       "      <th></th>\n",
       "      <th></th>\n",
       "      <th></th>\n",
       "      <th></th>\n",
       "      <th></th>\n",
       "      <th></th>\n",
       "      <th></th>\n",
       "      <th></th>\n",
       "      <th></th>\n",
       "      <th></th>\n",
       "      <th></th>\n",
       "      <th></th>\n",
       "      <th></th>\n",
       "      <th></th>\n",
       "      <th></th>\n",
       "      <th></th>\n",
       "      <th></th>\n",
       "      <th></th>\n",
       "      <th></th>\n",
       "      <th></th>\n",
       "      <th></th>\n",
       "      <th></th>\n",
       "      <th></th>\n",
       "      <th></th>\n",
       "      <th></th>\n",
       "      <th></th>\n",
       "      <th></th>\n",
       "      <th></th>\n",
       "      <th></th>\n",
       "      <th></th>\n",
       "      <th></th>\n",
       "      <th></th>\n",
       "      <th></th>\n",
       "      <th></th>\n",
       "      <th></th>\n",
       "      <th></th>\n",
       "      <th></th>\n",
       "      <th></th>\n",
       "      <th></th>\n",
       "      <th></th>\n",
       "      <th></th>\n",
       "    </tr>\n",
       "  </thead>\n",
       "  <tbody>\n",
       "    <tr>\n",
       "      <th>A</th>\n",
       "      <td>549.0</td>\n",
       "      <td>42.670783</td>\n",
       "      <td>18.428922</td>\n",
       "      <td>11.67</td>\n",
       "      <td>28.89</td>\n",
       "      <td>39.43</td>\n",
       "      <td>59.23</td>\n",
       "      <td>89.97</td>\n",
       "      <td>549.0</td>\n",
       "      <td>43.080291</td>\n",
       "      <td>18.536023</td>\n",
       "      <td>11.67</td>\n",
       "      <td>29.32</td>\n",
       "      <td>39.58</td>\n",
       "      <td>59.72</td>\n",
       "      <td>90.28</td>\n",
       "      <td>549.0</td>\n",
       "      <td>42.268998</td>\n",
       "      <td>18.286247</td>\n",
       "      <td>11.26</td>\n",
       "      <td>28.40</td>\n",
       "      <td>39.03</td>\n",
       "      <td>59.04</td>\n",
       "      <td>89.20</td>\n",
       "      <td>549.0</td>\n",
       "      <td>42.700091</td>\n",
       "      <td>18.401620</td>\n",
       "      <td>11.43</td>\n",
       "      <td>28.58</td>\n",
       "      <td>39.34</td>\n",
       "      <td>59.13</td>\n",
       "      <td>90.12</td>\n",
       "      <td>549.0</td>\n",
       "      <td>3.403598e+06</td>\n",
       "      <td>1.952184e+06</td>\n",
       "      <td>649078.0</td>\n",
       "      <td>1919771.0</td>\n",
       "      <td>2933295.0</td>\n",
       "      <td>4468486.0</td>\n",
       "      <td>1.325393e+07</td>\n",
       "      <td>549.0</td>\n",
       "      <td>14.888074</td>\n",
       "      <td>0.556143</td>\n",
       "      <td>13.383308</td>\n",
       "      <td>14.467716</td>\n",
       "      <td>14.891637</td>\n",
       "      <td>15.312560</td>\n",
       "      <td>16.399805</td>\n",
       "      <td>549.0</td>\n",
       "      <td>0.666102</td>\n",
       "      <td>3.131480</td>\n",
       "      <td>-13.91</td>\n",
       "      <td>-0.95</td>\n",
       "      <td>0.80</td>\n",
       "      <td>2.50</td>\n",
       "      <td>10.35</td>\n",
       "    </tr>\n",
       "    <tr>\n",
       "      <th>AAON</th>\n",
       "      <td>549.0</td>\n",
       "      <td>22.137778</td>\n",
       "      <td>13.392906</td>\n",
       "      <td>5.52</td>\n",
       "      <td>9.02</td>\n",
       "      <td>20.60</td>\n",
       "      <td>33.45</td>\n",
       "      <td>56.70</td>\n",
       "      <td>549.0</td>\n",
       "      <td>22.443060</td>\n",
       "      <td>13.544826</td>\n",
       "      <td>5.91</td>\n",
       "      <td>9.10</td>\n",
       "      <td>20.80</td>\n",
       "      <td>34.10</td>\n",
       "      <td>57.26</td>\n",
       "      <td>549.0</td>\n",
       "      <td>21.834226</td>\n",
       "      <td>13.234219</td>\n",
       "      <td>5.36</td>\n",
       "      <td>8.83</td>\n",
       "      <td>20.28</td>\n",
       "      <td>33.05</td>\n",
       "      <td>55.66</td>\n",
       "      <td>549.0</td>\n",
       "      <td>22.147851</td>\n",
       "      <td>13.373923</td>\n",
       "      <td>5.41</td>\n",
       "      <td>8.99</td>\n",
       "      <td>20.47</td>\n",
       "      <td>33.90</td>\n",
       "      <td>55.74</td>\n",
       "      <td>549.0</td>\n",
       "      <td>1.658021e+05</td>\n",
       "      <td>9.280970e+04</td>\n",
       "      <td>0.0</td>\n",
       "      <td>102329.0</td>\n",
       "      <td>140299.0</td>\n",
       "      <td>197281.0</td>\n",
       "      <td>6.303330e+05</td>\n",
       "      <td>549.0</td>\n",
       "      <td>-inf</td>\n",
       "      <td>NaN</td>\n",
       "      <td>-inf</td>\n",
       "      <td>11.535948</td>\n",
       "      <td>11.851531</td>\n",
       "      <td>12.192384</td>\n",
       "      <td>13.354004</td>\n",
       "      <td>549.0</td>\n",
       "      <td>0.440820</td>\n",
       "      <td>2.509574</td>\n",
       "      <td>-13.34</td>\n",
       "      <td>-0.49</td>\n",
       "      <td>0.40</td>\n",
       "      <td>1.41</td>\n",
       "      <td>10.50</td>\n",
       "    </tr>\n",
       "    <tr>\n",
       "      <th>AAPL</th>\n",
       "      <td>549.0</td>\n",
       "      <td>26.770510</td>\n",
       "      <td>15.721889</td>\n",
       "      <td>4.11</td>\n",
       "      <td>14.47</td>\n",
       "      <td>23.97</td>\n",
       "      <td>36.69</td>\n",
       "      <td>79.07</td>\n",
       "      <td>549.0</td>\n",
       "      <td>27.017304</td>\n",
       "      <td>15.877974</td>\n",
       "      <td>4.24</td>\n",
       "      <td>14.57</td>\n",
       "      <td>24.19</td>\n",
       "      <td>37.07</td>\n",
       "      <td>80.39</td>\n",
       "      <td>549.0</td>\n",
       "      <td>26.541202</td>\n",
       "      <td>15.615109</td>\n",
       "      <td>4.05</td>\n",
       "      <td>14.30</td>\n",
       "      <td>23.72</td>\n",
       "      <td>36.34</td>\n",
       "      <td>78.75</td>\n",
       "      <td>549.0</td>\n",
       "      <td>26.789162</td>\n",
       "      <td>15.757701</td>\n",
       "      <td>4.23</td>\n",
       "      <td>14.47</td>\n",
       "      <td>24.01</td>\n",
       "      <td>36.58</td>\n",
       "      <td>80.39</td>\n",
       "      <td>549.0</td>\n",
       "      <td>3.111771e+08</td>\n",
       "      <td>2.332832e+08</td>\n",
       "      <td>45903688.0</td>\n",
       "      <td>127727776.0</td>\n",
       "      <td>237467656.0</td>\n",
       "      <td>435295700.0</td>\n",
       "      <td>1.880987e+09</td>\n",
       "      <td>549.0</td>\n",
       "      <td>19.297390</td>\n",
       "      <td>0.726651</td>\n",
       "      <td>17.642056</td>\n",
       "      <td>18.665412</td>\n",
       "      <td>19.285542</td>\n",
       "      <td>19.891536</td>\n",
       "      <td>21.355062</td>\n",
       "      <td>549.0</td>\n",
       "      <td>0.673005</td>\n",
       "      <td>2.650824</td>\n",
       "      <td>-11.30</td>\n",
       "      <td>-0.52</td>\n",
       "      <td>0.54</td>\n",
       "      <td>1.73</td>\n",
       "      <td>12.14</td>\n",
       "    </tr>\n",
       "    <tr>\n",
       "      <th>AB</th>\n",
       "      <td>549.0</td>\n",
       "      <td>23.853898</td>\n",
       "      <td>4.922727</td>\n",
       "      <td>11.92</td>\n",
       "      <td>21.61</td>\n",
       "      <td>24.30</td>\n",
       "      <td>27.45</td>\n",
       "      <td>34.76</td>\n",
       "      <td>549.0</td>\n",
       "      <td>24.161384</td>\n",
       "      <td>4.945973</td>\n",
       "      <td>11.97</td>\n",
       "      <td>21.89</td>\n",
       "      <td>24.60</td>\n",
       "      <td>27.70</td>\n",
       "      <td>35.61</td>\n",
       "      <td>549.0</td>\n",
       "      <td>23.534408</td>\n",
       "      <td>4.894776</td>\n",
       "      <td>11.74</td>\n",
       "      <td>21.20</td>\n",
       "      <td>24.00</td>\n",
       "      <td>26.91</td>\n",
       "      <td>34.57</td>\n",
       "      <td>549.0</td>\n",
       "      <td>23.841111</td>\n",
       "      <td>4.928274</td>\n",
       "      <td>11.81</td>\n",
       "      <td>21.52</td>\n",
       "      <td>24.28</td>\n",
       "      <td>27.37</td>\n",
       "      <td>35.34</td>\n",
       "      <td>549.0</td>\n",
       "      <td>3.589377e+05</td>\n",
       "      <td>2.350330e+05</td>\n",
       "      <td>98947.0</td>\n",
       "      <td>212542.0</td>\n",
       "      <td>296098.0</td>\n",
       "      <td>432736.0</td>\n",
       "      <td>2.312643e+06</td>\n",
       "      <td>549.0</td>\n",
       "      <td>12.639256</td>\n",
       "      <td>0.528870</td>\n",
       "      <td>11.502340</td>\n",
       "      <td>12.266895</td>\n",
       "      <td>12.598446</td>\n",
       "      <td>12.977883</td>\n",
       "      <td>14.653902</td>\n",
       "      <td>549.0</td>\n",
       "      <td>0.191658</td>\n",
       "      <td>2.024561</td>\n",
       "      <td>-6.62</td>\n",
       "      <td>-1.07</td>\n",
       "      <td>0.10</td>\n",
       "      <td>1.45</td>\n",
       "      <td>8.67</td>\n",
       "    </tr>\n",
       "    <tr>\n",
       "      <th>ABC</th>\n",
       "      <td>549.0</td>\n",
       "      <td>65.486612</td>\n",
       "      <td>26.902550</td>\n",
       "      <td>16.25</td>\n",
       "      <td>38.42</td>\n",
       "      <td>75.00</td>\n",
       "      <td>87.37</td>\n",
       "      <td>115.62</td>\n",
       "      <td>549.0</td>\n",
       "      <td>66.143497</td>\n",
       "      <td>27.160504</td>\n",
       "      <td>16.61</td>\n",
       "      <td>38.90</td>\n",
       "      <td>75.45</td>\n",
       "      <td>88.10</td>\n",
       "      <td>115.75</td>\n",
       "      <td>549.0</td>\n",
       "      <td>64.845282</td>\n",
       "      <td>26.620023</td>\n",
       "      <td>16.18</td>\n",
       "      <td>38.19</td>\n",
       "      <td>73.73</td>\n",
       "      <td>86.54</td>\n",
       "      <td>114.40</td>\n",
       "      <td>549.0</td>\n",
       "      <td>65.500055</td>\n",
       "      <td>26.874206</td>\n",
       "      <td>16.40</td>\n",
       "      <td>38.69</td>\n",
       "      <td>74.59</td>\n",
       "      <td>87.38</td>\n",
       "      <td>115.11</td>\n",
       "      <td>549.0</td>\n",
       "      <td>2.250123e+06</td>\n",
       "      <td>1.285222e+06</td>\n",
       "      <td>487220.0</td>\n",
       "      <td>1399772.0</td>\n",
       "      <td>1944692.0</td>\n",
       "      <td>2825868.0</td>\n",
       "      <td>9.725753e+06</td>\n",
       "      <td>549.0</td>\n",
       "      <td>14.491123</td>\n",
       "      <td>0.513785</td>\n",
       "      <td>13.096471</td>\n",
       "      <td>14.151820</td>\n",
       "      <td>14.480614</td>\n",
       "      <td>14.854326</td>\n",
       "      <td>16.090288</td>\n",
       "      <td>549.0</td>\n",
       "      <td>0.685574</td>\n",
       "      <td>5.153902</td>\n",
       "      <td>-20.37</td>\n",
       "      <td>-1.63</td>\n",
       "      <td>1.13</td>\n",
       "      <td>3.13</td>\n",
       "      <td>15.46</td>\n",
       "    </tr>\n",
       "  </tbody>\n",
       "</table>\n",
       "</div>"
      ],
      "text/plain": [
       "         Open                                                             \n",
       "        count       mean        std    min    25%    50%    75%     max   \n",
       "Symbol                                                                    \n",
       "A       549.0  42.670783  18.428922  11.67  28.89  39.43  59.23   89.97  \\\n",
       "AAON    549.0  22.137778  13.392906   5.52   9.02  20.60  33.45   56.70   \n",
       "AAPL    549.0  26.770510  15.721889   4.11  14.47  23.97  36.69   79.07   \n",
       "AB      549.0  23.853898   4.922727  11.92  21.61  24.30  27.45   34.76   \n",
       "ABC     549.0  65.486612  26.902550  16.25  38.42  75.00  87.37  115.62   \n",
       "\n",
       "         High                                                             \n",
       "        count       mean        std    min    25%    50%    75%     max   \n",
       "Symbol                                                                    \n",
       "A       549.0  43.080291  18.536023  11.67  29.32  39.58  59.72   90.28  \\\n",
       "AAON    549.0  22.443060  13.544826   5.91   9.10  20.80  34.10   57.26   \n",
       "AAPL    549.0  27.017304  15.877974   4.24  14.57  24.19  37.07   80.39   \n",
       "AB      549.0  24.161384   4.945973  11.97  21.89  24.60  27.70   35.61   \n",
       "ABC     549.0  66.143497  27.160504  16.61  38.90  75.45  88.10  115.75   \n",
       "\n",
       "          Low                                                             \n",
       "        count       mean        std    min    25%    50%    75%     max   \n",
       "Symbol                                                                    \n",
       "A       549.0  42.268998  18.286247  11.26  28.40  39.03  59.04   89.20  \\\n",
       "AAON    549.0  21.834226  13.234219   5.36   8.83  20.28  33.05   55.66   \n",
       "AAPL    549.0  26.541202  15.615109   4.05  14.30  23.72  36.34   78.75   \n",
       "AB      549.0  23.534408   4.894776  11.74  21.20  24.00  26.91   34.57   \n",
       "ABC     549.0  64.845282  26.620023  16.18  38.19  73.73  86.54  114.40   \n",
       "\n",
       "        Close                                                             \n",
       "        count       mean        std    min    25%    50%    75%     max   \n",
       "Symbol                                                                    \n",
       "A       549.0  42.700091  18.401620  11.43  28.58  39.34  59.13   90.12  \\\n",
       "AAON    549.0  22.147851  13.373923   5.41   8.99  20.47  33.90   55.74   \n",
       "AAPL    549.0  26.789162  15.757701   4.23  14.47  24.01  36.58   80.39   \n",
       "AB      549.0  23.841111   4.928274  11.81  21.52  24.28  27.37   35.34   \n",
       "ABC     549.0  65.500055  26.874206  16.40  38.69  74.59  87.38  115.11   \n",
       "\n",
       "       Volume                                                        \n",
       "        count          mean           std         min          25%   \n",
       "Symbol                                                               \n",
       "A       549.0  3.403598e+06  1.952184e+06    649078.0    1919771.0  \\\n",
       "AAON    549.0  1.658021e+05  9.280970e+04         0.0     102329.0   \n",
       "AAPL    549.0  3.111771e+08  2.332832e+08  45903688.0  127727776.0   \n",
       "AB      549.0  3.589377e+05  2.350330e+05     98947.0     212542.0   \n",
       "ABC     549.0  2.250123e+06  1.285222e+06    487220.0    1399772.0   \n",
       "\n",
       "                                               log_volume              \n",
       "                50%          75%           max      count       mean   \n",
       "Symbol                                                                 \n",
       "A         2933295.0    4468486.0  1.325393e+07      549.0  14.888074  \\\n",
       "AAON       140299.0     197281.0  6.303330e+05      549.0       -inf   \n",
       "AAPL    237467656.0  435295700.0  1.880987e+09      549.0  19.297390   \n",
       "AB         296098.0     432736.0  2.312643e+06      549.0  12.639256   \n",
       "ABC       1944692.0    2825868.0  9.725753e+06      549.0  14.491123   \n",
       "\n",
       "                                                                          \n",
       "             std        min        25%        50%        75%        max   \n",
       "Symbol                                                                    \n",
       "A       0.556143  13.383308  14.467716  14.891637  15.312560  16.399805  \\\n",
       "AAON         NaN       -inf  11.535948  11.851531  12.192384  13.354004   \n",
       "AAPL    0.726651  17.642056  18.665412  19.285542  19.891536  21.355062   \n",
       "AB      0.528870  11.502340  12.266895  12.598446  12.977883  14.653902   \n",
       "ABC     0.513785  13.096471  14.151820  14.480614  14.854326  16.090288   \n",
       "\n",
       "       Momentum_2Wk                                                      \n",
       "              count      mean       std    min   25%   50%   75%    max  \n",
       "Symbol                                                                   \n",
       "A             549.0  0.666102  3.131480 -13.91 -0.95  0.80  2.50  10.35  \n",
       "AAON          549.0  0.440820  2.509574 -13.34 -0.49  0.40  1.41  10.50  \n",
       "AAPL          549.0  0.673005  2.650824 -11.30 -0.52  0.54  1.73  12.14  \n",
       "AB            549.0  0.191658  2.024561  -6.62 -1.07  0.10  1.45   8.67  \n",
       "ABC           549.0  0.685574  5.153902 -20.37 -1.63  1.13  3.13  15.46  "
      ]
     },
     "execution_count": 5,
     "metadata": {},
     "output_type": "execute_result"
    }
   ],
   "source": [
    "# Group by symbol and describe the data\n",
    "stats_by_stock:pd.DataFrame = df.groupby(\"Symbol\").describe()\n",
    "stats_by_stock.head()\n",
    "# Uncomment to save the stats to a file\n",
    "# stats_by_stock.to_excel(\"./stats_by_stock.xlsx\")"
   ]
  },
  {
   "cell_type": "code",
   "execution_count": 6,
   "metadata": {},
   "outputs": [
    {
     "name": "stdout",
     "output_type": "stream",
     "text": [
      "(948672, 8)\n"
     ]
    },
    {
     "data": {
      "text/html": [
       "<div>\n",
       "<style scoped>\n",
       "    .dataframe tbody tr th:only-of-type {\n",
       "        vertical-align: middle;\n",
       "    }\n",
       "\n",
       "    .dataframe tbody tr th {\n",
       "        vertical-align: top;\n",
       "    }\n",
       "\n",
       "    .dataframe thead th {\n",
       "        text-align: right;\n",
       "    }\n",
       "</style>\n",
       "<table border=\"1\" class=\"dataframe\">\n",
       "  <thead>\n",
       "    <tr style=\"text-align: right;\">\n",
       "      <th></th>\n",
       "      <th>Symbol</th>\n",
       "      <th>Open</th>\n",
       "      <th>High</th>\n",
       "      <th>Low</th>\n",
       "      <th>Close</th>\n",
       "      <th>Volume</th>\n",
       "      <th>log_volume</th>\n",
       "      <th>Momentum_2Wk</th>\n",
       "    </tr>\n",
       "    <tr>\n",
       "      <th>Date</th>\n",
       "      <th></th>\n",
       "      <th></th>\n",
       "      <th></th>\n",
       "      <th></th>\n",
       "      <th></th>\n",
       "      <th></th>\n",
       "      <th></th>\n",
       "      <th></th>\n",
       "    </tr>\n",
       "  </thead>\n",
       "  <tbody>\n",
       "    <tr>\n",
       "      <th>2009-04-06 04:00:00</th>\n",
       "      <td>A</td>\n",
       "      <td>11.67</td>\n",
       "      <td>11.67</td>\n",
       "      <td>11.26</td>\n",
       "      <td>11.43</td>\n",
       "      <td>4691592</td>\n",
       "      <td>15.361283</td>\n",
       "      <td>2.36</td>\n",
       "    </tr>\n",
       "    <tr>\n",
       "      <th>2009-04-14 04:00:00</th>\n",
       "      <td>A</td>\n",
       "      <td>11.92</td>\n",
       "      <td>12.00</td>\n",
       "      <td>11.73</td>\n",
       "      <td>11.82</td>\n",
       "      <td>3114079</td>\n",
       "      <td>14.951444</td>\n",
       "      <td>2.92</td>\n",
       "    </tr>\n",
       "    <tr>\n",
       "      <th>2009-04-21 04:00:00</th>\n",
       "      <td>A</td>\n",
       "      <td>11.80</td>\n",
       "      <td>12.04</td>\n",
       "      <td>11.67</td>\n",
       "      <td>11.87</td>\n",
       "      <td>4251390</td>\n",
       "      <td>15.262757</td>\n",
       "      <td>2.03</td>\n",
       "    </tr>\n",
       "    <tr>\n",
       "      <th>2009-04-28 04:00:00</th>\n",
       "      <td>A</td>\n",
       "      <td>11.96</td>\n",
       "      <td>12.37</td>\n",
       "      <td>11.77</td>\n",
       "      <td>12.19</td>\n",
       "      <td>4939050</td>\n",
       "      <td>15.412684</td>\n",
       "      <td>0.82</td>\n",
       "    </tr>\n",
       "    <tr>\n",
       "      <th>2009-05-05 04:00:00</th>\n",
       "      <td>A</td>\n",
       "      <td>13.85</td>\n",
       "      <td>13.88</td>\n",
       "      <td>13.28</td>\n",
       "      <td>13.40</td>\n",
       "      <td>4895647</td>\n",
       "      <td>15.403857</td>\n",
       "      <td>2.39</td>\n",
       "    </tr>\n",
       "  </tbody>\n",
       "</table>\n",
       "</div>"
      ],
      "text/plain": [
       "                    Symbol   Open   High    Low  Close   Volume  log_volume   \n",
       "Date                                                                          \n",
       "2009-04-06 04:00:00      A  11.67  11.67  11.26  11.43  4691592   15.361283  \\\n",
       "2009-04-14 04:00:00      A  11.92  12.00  11.73  11.82  3114079   14.951444   \n",
       "2009-04-21 04:00:00      A  11.80  12.04  11.67  11.87  4251390   15.262757   \n",
       "2009-04-28 04:00:00      A  11.96  12.37  11.77  12.19  4939050   15.412684   \n",
       "2009-05-05 04:00:00      A  13.85  13.88  13.28  13.40  4895647   15.403857   \n",
       "\n",
       "                     Momentum_2Wk  \n",
       "Date                               \n",
       "2009-04-06 04:00:00          2.36  \n",
       "2009-04-14 04:00:00          2.92  \n",
       "2009-04-21 04:00:00          2.03  \n",
       "2009-04-28 04:00:00          0.82  \n",
       "2009-05-05 04:00:00          2.39  "
      ]
     },
     "execution_count": 6,
     "metadata": {},
     "output_type": "execute_result"
    }
   ],
   "source": [
    "# Select valid symbols\n",
    "upper_bound = stats_by_stock[\"Open\"][\"max\"] < 500\n",
    "lower_bound = stats_by_stock[\"Open\"][\"min\"] > 1\n",
    "outliers_removed = stats_by_stock[upper_bound & lower_bound]\n",
    "valid_symbols = outliers_removed.index.to_list()\n",
    "\n",
    "# Remove outliers from the data\n",
    "mask = df[\"Symbol\"].isin(valid_symbols)\n",
    "df = df[mask]\n",
    "print(df.shape)\n",
    "df.head()"
   ]
  },
  {
   "cell_type": "code",
   "execution_count": 7,
   "metadata": {},
   "outputs": [
    {
     "data": {
      "text/plain": [
       "Symbol\n",
       "AAPL     Axes(0.125,0.2;0.775x0.68)\n",
       "ADBE     Axes(0.125,0.2;0.775x0.68)\n",
       "AMD      Axes(0.125,0.2;0.775x0.68)\n",
       "AMZN     Axes(0.125,0.2;0.775x0.68)\n",
       "GOOGL    Axes(0.125,0.2;0.775x0.68)\n",
       "INTC     Axes(0.125,0.2;0.775x0.68)\n",
       "MSFT     Axes(0.125,0.2;0.775x0.68)\n",
       "NFLX     Axes(0.125,0.2;0.775x0.68)\n",
       "NVDA     Axes(0.125,0.2;0.775x0.68)\n",
       "T        Axes(0.125,0.2;0.775x0.68)\n",
       "Name: Open, dtype: object"
      ]
     },
     "execution_count": 7,
     "metadata": {},
     "output_type": "execute_result"
    },
    {
     "data": {
      "image/png": "[encoded data removed]",
      "text/plain": [
       "<Figure size 1200x600 with 1 Axes>"
      ]
     },
     "metadata": {},
     "output_type": "display_data"
    }
   ],
   "source": [
    "# Plot the open price by symbol for all stocks\n",
    "# df.groupby(\"Symbol\")[\"Open\"].plot(figsize=(20, 10), legend=False, title=\"Open Price by Symbol [All Stocks]\")\n",
    "# Plot the open price by symbol for 10 tech stocks\n",
    "select_stocks = [\"AAPL\", \"ADBE\", \"AMD\", \"AMZN\", \"GOOGL\", \"INTC\", \"MSFT\", \"NVDA\", \"NFLX\", \"T\"]\n",
    "df[df[\"Symbol\"].isin(select_stocks)].groupby(\"Symbol\")[\"Open\"].plot(figsize=(12, 6), legend=True, title=\"Open Price by Symbol [10 Common Tech Stocks]\", ylabel=\"Open Price ($)\", grid=True)"
   ]
  },
  {
   "cell_type": "code",
   "execution_count": 8,
   "metadata": {},
   "outputs": [
    {
     "data": {
      "text/html": [
       "<div>\n",
       "<style scoped>\n",
       "    .dataframe tbody tr th:only-of-type {\n",
       "        vertical-align: middle;\n",
       "    }\n",
       "\n",
       "    .dataframe tbody tr th {\n",
       "        vertical-align: top;\n",
       "    }\n",
       "\n",
       "    .dataframe thead th {\n",
       "        text-align: right;\n",
       "    }\n",
       "</style>\n",
       "<table border=\"1\" class=\"dataframe\">\n",
       "  <thead>\n",
       "    <tr style=\"text-align: right;\">\n",
       "      <th></th>\n",
       "      <th>Symbol</th>\n",
       "      <th>Open</th>\n",
       "      <th>High</th>\n",
       "      <th>Low</th>\n",
       "      <th>Close</th>\n",
       "      <th>Volume</th>\n",
       "      <th>log_volume</th>\n",
       "      <th>Momentum_2Wk</th>\n",
       "    </tr>\n",
       "    <tr>\n",
       "      <th>Date</th>\n",
       "      <th></th>\n",
       "      <th></th>\n",
       "      <th></th>\n",
       "      <th></th>\n",
       "      <th></th>\n",
       "      <th></th>\n",
       "      <th></th>\n",
       "      <th></th>\n",
       "    </tr>\n",
       "  </thead>\n",
       "  <tbody>\n",
       "    <tr>\n",
       "      <th>2009-04-06 04:00:00</th>\n",
       "      <td>AAPL</td>\n",
       "      <td>4.11</td>\n",
       "      <td>4.24</td>\n",
       "      <td>4.05</td>\n",
       "      <td>4.23</td>\n",
       "      <td>658062480</td>\n",
       "      <td>20.304810</td>\n",
       "      <td>1.09</td>\n",
       "    </tr>\n",
       "    <tr>\n",
       "      <th>2009-04-14 04:00:00</th>\n",
       "      <td>AAPL</td>\n",
       "      <td>4.27</td>\n",
       "      <td>4.29</td>\n",
       "      <td>4.19</td>\n",
       "      <td>4.23</td>\n",
       "      <td>454755700</td>\n",
       "      <td>19.935271</td>\n",
       "      <td>1.26</td>\n",
       "    </tr>\n",
       "    <tr>\n",
       "      <th>2009-04-21 04:00:00</th>\n",
       "      <td>AAPL</td>\n",
       "      <td>4.25</td>\n",
       "      <td>4.36</td>\n",
       "      <td>4.24</td>\n",
       "      <td>4.35</td>\n",
       "      <td>470684032</td>\n",
       "      <td>19.969698</td>\n",
       "      <td>0.94</td>\n",
       "    </tr>\n",
       "    <tr>\n",
       "      <th>2009-04-28 04:00:00</th>\n",
       "      <td>AAPL</td>\n",
       "      <td>4.41</td>\n",
       "      <td>4.51</td>\n",
       "      <td>4.40</td>\n",
       "      <td>4.43</td>\n",
       "      <td>455856632</td>\n",
       "      <td>19.937689</td>\n",
       "      <td>0.59</td>\n",
       "    </tr>\n",
       "    <tr>\n",
       "      <th>2009-05-05 04:00:00</th>\n",
       "      <td>AAPL</td>\n",
       "      <td>4.71</td>\n",
       "      <td>4.74</td>\n",
       "      <td>4.68</td>\n",
       "      <td>4.74</td>\n",
       "      <td>398401248</td>\n",
       "      <td>19.802970</td>\n",
       "      <td>1.01</td>\n",
       "    </tr>\n",
       "    <tr>\n",
       "      <th>2009-05-12 04:00:00</th>\n",
       "      <td>AAPL</td>\n",
       "      <td>4.63</td>\n",
       "      <td>4.63</td>\n",
       "      <td>4.40</td>\n",
       "      <td>4.44</td>\n",
       "      <td>609479240</td>\n",
       "      <td>20.228115</td>\n",
       "      <td>0.21</td>\n",
       "    </tr>\n",
       "    <tr>\n",
       "      <th>2009-05-19 04:00:00</th>\n",
       "      <td>AAPL</td>\n",
       "      <td>4.53</td>\n",
       "      <td>4.62</td>\n",
       "      <td>4.49</td>\n",
       "      <td>4.55</td>\n",
       "      <td>372422036</td>\n",
       "      <td>19.735538</td>\n",
       "      <td>0.32</td>\n",
       "    </tr>\n",
       "    <tr>\n",
       "      <th>2009-05-27 04:00:00</th>\n",
       "      <td>AAPL</td>\n",
       "      <td>4.71</td>\n",
       "      <td>4.82</td>\n",
       "      <td>4.68</td>\n",
       "      <td>4.75</td>\n",
       "      <td>646962680</td>\n",
       "      <td>20.287799</td>\n",
       "      <td>0.40</td>\n",
       "    </tr>\n",
       "    <tr>\n",
       "      <th>2009-06-03 04:00:00</th>\n",
       "      <td>AAPL</td>\n",
       "      <td>5.00</td>\n",
       "      <td>5.04</td>\n",
       "      <td>4.97</td>\n",
       "      <td>5.03</td>\n",
       "      <td>565198360</td>\n",
       "      <td>20.152687</td>\n",
       "      <td>0.60</td>\n",
       "    </tr>\n",
       "    <tr>\n",
       "      <th>2009-06-10 04:00:00</th>\n",
       "      <td>AAPL</td>\n",
       "      <td>5.08</td>\n",
       "      <td>5.08</td>\n",
       "      <td>4.94</td>\n",
       "      <td>5.01</td>\n",
       "      <td>688798920</td>\n",
       "      <td>20.350460</td>\n",
       "      <td>0.27</td>\n",
       "    </tr>\n",
       "    <tr>\n",
       "      <th>2009-04-06 04:00:00</th>\n",
       "      <td>ADBE</td>\n",
       "      <td>23.85</td>\n",
       "      <td>24.00</td>\n",
       "      <td>22.78</td>\n",
       "      <td>23.19</td>\n",
       "      <td>8072352</td>\n",
       "      <td>15.903955</td>\n",
       "      <td>7.15</td>\n",
       "    </tr>\n",
       "    <tr>\n",
       "      <th>2009-04-14 04:00:00</th>\n",
       "      <td>ADBE</td>\n",
       "      <td>24.38</td>\n",
       "      <td>24.49</td>\n",
       "      <td>23.84</td>\n",
       "      <td>24.01</td>\n",
       "      <td>6544931</td>\n",
       "      <td>15.694201</td>\n",
       "      <td>7.23</td>\n",
       "    </tr>\n",
       "    <tr>\n",
       "      <th>2009-04-21 04:00:00</th>\n",
       "      <td>ADBE</td>\n",
       "      <td>23.35</td>\n",
       "      <td>24.13</td>\n",
       "      <td>23.25</td>\n",
       "      <td>23.75</td>\n",
       "      <td>7442989</td>\n",
       "      <td>15.822783</td>\n",
       "      <td>5.30</td>\n",
       "    </tr>\n",
       "    <tr>\n",
       "      <th>2009-04-28 04:00:00</th>\n",
       "      <td>ADBE</td>\n",
       "      <td>25.70</td>\n",
       "      <td>25.95</td>\n",
       "      <td>25.25</td>\n",
       "      <td>25.70</td>\n",
       "      <td>8099823</td>\n",
       "      <td>15.907353</td>\n",
       "      <td>3.01</td>\n",
       "    </tr>\n",
       "    <tr>\n",
       "      <th>2009-05-05 04:00:00</th>\n",
       "      <td>ADBE</td>\n",
       "      <td>26.74</td>\n",
       "      <td>26.91</td>\n",
       "      <td>26.20</td>\n",
       "      <td>26.89</td>\n",
       "      <td>8157398</td>\n",
       "      <td>15.914436</td>\n",
       "      <td>6.07</td>\n",
       "    </tr>\n",
       "    <tr>\n",
       "      <th>2009-05-12 04:00:00</th>\n",
       "      <td>ADBE</td>\n",
       "      <td>26.32</td>\n",
       "      <td>26.34</td>\n",
       "      <td>25.67</td>\n",
       "      <td>25.99</td>\n",
       "      <td>5077853</td>\n",
       "      <td>15.440399</td>\n",
       "      <td>2.80</td>\n",
       "    </tr>\n",
       "    <tr>\n",
       "      <th>2009-05-19 04:00:00</th>\n",
       "      <td>ADBE</td>\n",
       "      <td>26.25</td>\n",
       "      <td>26.81</td>\n",
       "      <td>26.01</td>\n",
       "      <td>26.56</td>\n",
       "      <td>3509486</td>\n",
       "      <td>15.070980</td>\n",
       "      <td>2.55</td>\n",
       "    </tr>\n",
       "    <tr>\n",
       "      <th>2009-05-27 04:00:00</th>\n",
       "      <td>ADBE</td>\n",
       "      <td>27.67</td>\n",
       "      <td>28.07</td>\n",
       "      <td>27.15</td>\n",
       "      <td>27.25</td>\n",
       "      <td>5013697</td>\n",
       "      <td>15.427684</td>\n",
       "      <td>3.50</td>\n",
       "    </tr>\n",
       "    <tr>\n",
       "      <th>2009-06-03 04:00:00</th>\n",
       "      <td>ADBE</td>\n",
       "      <td>29.05</td>\n",
       "      <td>29.49</td>\n",
       "      <td>28.30</td>\n",
       "      <td>29.06</td>\n",
       "      <td>8572649</td>\n",
       "      <td>15.964087</td>\n",
       "      <td>3.36</td>\n",
       "    </tr>\n",
       "    <tr>\n",
       "      <th>2009-06-10 04:00:00</th>\n",
       "      <td>ADBE</td>\n",
       "      <td>29.88</td>\n",
       "      <td>30.43</td>\n",
       "      <td>29.63</td>\n",
       "      <td>30.17</td>\n",
       "      <td>8515301</td>\n",
       "      <td>15.957375</td>\n",
       "      <td>3.28</td>\n",
       "    </tr>\n",
       "    <tr>\n",
       "      <th>2009-04-06 04:00:00</th>\n",
       "      <td>AMD</td>\n",
       "      <td>3.30</td>\n",
       "      <td>3.56</td>\n",
       "      <td>3.25</td>\n",
       "      <td>3.53</td>\n",
       "      <td>15237607</td>\n",
       "      <td>16.539277</td>\n",
       "      <td>1.52</td>\n",
       "    </tr>\n",
       "    <tr>\n",
       "      <th>2009-04-14 04:00:00</th>\n",
       "      <td>AMD</td>\n",
       "      <td>3.59</td>\n",
       "      <td>3.85</td>\n",
       "      <td>3.53</td>\n",
       "      <td>3.63</td>\n",
       "      <td>14713741</td>\n",
       "      <td>16.504292</td>\n",
       "      <td>1.49</td>\n",
       "    </tr>\n",
       "    <tr>\n",
       "      <th>2009-04-21 04:00:00</th>\n",
       "      <td>AMD</td>\n",
       "      <td>3.23</td>\n",
       "      <td>3.36</td>\n",
       "      <td>3.20</td>\n",
       "      <td>3.36</td>\n",
       "      <td>14244496</td>\n",
       "      <td>16.471881</td>\n",
       "      <td>0.88</td>\n",
       "    </tr>\n",
       "    <tr>\n",
       "      <th>2009-04-28 04:00:00</th>\n",
       "      <td>AMD</td>\n",
       "      <td>3.41</td>\n",
       "      <td>3.55</td>\n",
       "      <td>3.35</td>\n",
       "      <td>3.41</td>\n",
       "      <td>12109634</td>\n",
       "      <td>16.309512</td>\n",
       "      <td>0.39</td>\n",
       "    </tr>\n",
       "    <tr>\n",
       "      <th>2009-05-05 04:00:00</th>\n",
       "      <td>AMD</td>\n",
       "      <td>4.36</td>\n",
       "      <td>4.39</td>\n",
       "      <td>4.11</td>\n",
       "      <td>4.32</td>\n",
       "      <td>16371122</td>\n",
       "      <td>16.611029</td>\n",
       "      <td>1.13</td>\n",
       "    </tr>\n",
       "    <tr>\n",
       "      <th>2009-05-12 04:00:00</th>\n",
       "      <td>AMD</td>\n",
       "      <td>4.41</td>\n",
       "      <td>4.50</td>\n",
       "      <td>4.13</td>\n",
       "      <td>4.35</td>\n",
       "      <td>29756636</td>\n",
       "      <td>17.208563</td>\n",
       "      <td>0.82</td>\n",
       "    </tr>\n",
       "    <tr>\n",
       "      <th>2009-05-19 04:00:00</th>\n",
       "      <td>AMD</td>\n",
       "      <td>4.30</td>\n",
       "      <td>4.50</td>\n",
       "      <td>4.24</td>\n",
       "      <td>4.39</td>\n",
       "      <td>23195951</td>\n",
       "      <td>16.959488</td>\n",
       "      <td>0.76</td>\n",
       "    </tr>\n",
       "    <tr>\n",
       "      <th>2009-05-27 04:00:00</th>\n",
       "      <td>AMD</td>\n",
       "      <td>4.57</td>\n",
       "      <td>4.80</td>\n",
       "      <td>4.55</td>\n",
       "      <td>4.71</td>\n",
       "      <td>21521553</td>\n",
       "      <td>16.884565</td>\n",
       "      <td>1.35</td>\n",
       "    </tr>\n",
       "    <tr>\n",
       "      <th>2009-06-03 04:00:00</th>\n",
       "      <td>AMD</td>\n",
       "      <td>4.55</td>\n",
       "      <td>4.60</td>\n",
       "      <td>4.34</td>\n",
       "      <td>4.48</td>\n",
       "      <td>19096525</td>\n",
       "      <td>16.765017</td>\n",
       "      <td>1.07</td>\n",
       "    </tr>\n",
       "    <tr>\n",
       "      <th>2009-06-10 04:00:00</th>\n",
       "      <td>AMD</td>\n",
       "      <td>4.81</td>\n",
       "      <td>4.86</td>\n",
       "      <td>4.70</td>\n",
       "      <td>4.82</td>\n",
       "      <td>18331721</td>\n",
       "      <td>16.724144</td>\n",
       "      <td>0.50</td>\n",
       "    </tr>\n",
       "    <tr>\n",
       "      <th>2009-04-06 04:00:00</th>\n",
       "      <td>AMZN</td>\n",
       "      <td>3.86</td>\n",
       "      <td>3.92</td>\n",
       "      <td>3.80</td>\n",
       "      <td>3.90</td>\n",
       "      <td>115163360</td>\n",
       "      <td>18.561862</td>\n",
       "      <td>0.80</td>\n",
       "    </tr>\n",
       "    <tr>\n",
       "      <th>2009-04-14 04:00:00</th>\n",
       "      <td>AMZN</td>\n",
       "      <td>3.90</td>\n",
       "      <td>3.97</td>\n",
       "      <td>3.85</td>\n",
       "      <td>3.86</td>\n",
       "      <td>123310600</td>\n",
       "      <td>18.630217</td>\n",
       "      <td>0.84</td>\n",
       "    </tr>\n",
       "    <tr>\n",
       "      <th>2009-04-21 04:00:00</th>\n",
       "      <td>AMZN</td>\n",
       "      <td>3.87</td>\n",
       "      <td>3.96</td>\n",
       "      <td>3.86</td>\n",
       "      <td>3.94</td>\n",
       "      <td>143262420</td>\n",
       "      <td>18.780189</td>\n",
       "      <td>0.59</td>\n",
       "    </tr>\n",
       "    <tr>\n",
       "      <th>2009-04-28 04:00:00</th>\n",
       "      <td>AMZN</td>\n",
       "      <td>4.13</td>\n",
       "      <td>4.27</td>\n",
       "      <td>4.12</td>\n",
       "      <td>4.12</td>\n",
       "      <td>158525460</td>\n",
       "      <td>18.881426</td>\n",
       "      <td>0.34</td>\n",
       "    </tr>\n",
       "    <tr>\n",
       "      <th>2009-05-05 04:00:00</th>\n",
       "      <td>AMZN</td>\n",
       "      <td>4.05</td>\n",
       "      <td>4.10</td>\n",
       "      <td>4.01</td>\n",
       "      <td>4.10</td>\n",
       "      <td>117492400</td>\n",
       "      <td>18.581884</td>\n",
       "      <td>0.53</td>\n",
       "    </tr>\n",
       "    <tr>\n",
       "      <th>2009-05-12 04:00:00</th>\n",
       "      <td>AMZN</td>\n",
       "      <td>3.94</td>\n",
       "      <td>3.95</td>\n",
       "      <td>3.83</td>\n",
       "      <td>3.90</td>\n",
       "      <td>111023440</td>\n",
       "      <td>18.525252</td>\n",
       "      <td>0.00</td>\n",
       "    </tr>\n",
       "    <tr>\n",
       "      <th>2009-05-19 04:00:00</th>\n",
       "      <td>AMZN</td>\n",
       "      <td>3.77</td>\n",
       "      <td>3.95</td>\n",
       "      <td>3.76</td>\n",
       "      <td>3.89</td>\n",
       "      <td>160576380</td>\n",
       "      <td>18.894280</td>\n",
       "      <td>0.03</td>\n",
       "    </tr>\n",
       "    <tr>\n",
       "      <th>2009-05-27 04:00:00</th>\n",
       "      <td>AMZN</td>\n",
       "      <td>3.93</td>\n",
       "      <td>3.98</td>\n",
       "      <td>3.84</td>\n",
       "      <td>3.86</td>\n",
       "      <td>111375620</td>\n",
       "      <td>18.528419</td>\n",
       "      <td>-0.08</td>\n",
       "    </tr>\n",
       "    <tr>\n",
       "      <th>2009-06-03 04:00:00</th>\n",
       "      <td>AMZN</td>\n",
       "      <td>4.17</td>\n",
       "      <td>4.29</td>\n",
       "      <td>4.16</td>\n",
       "      <td>4.28</td>\n",
       "      <td>152096380</td>\n",
       "      <td>18.840025</td>\n",
       "      <td>0.16</td>\n",
       "    </tr>\n",
       "    <tr>\n",
       "      <th>2009-06-10 04:00:00</th>\n",
       "      <td>AMZN</td>\n",
       "      <td>4.38</td>\n",
       "      <td>4.43</td>\n",
       "      <td>4.24</td>\n",
       "      <td>4.33</td>\n",
       "      <td>121475280</td>\n",
       "      <td>18.615221</td>\n",
       "      <td>0.23</td>\n",
       "    </tr>\n",
       "    <tr>\n",
       "      <th>2009-04-06 04:00:00</th>\n",
       "      <td>GOOGL</td>\n",
       "      <td>9.18</td>\n",
       "      <td>9.25</td>\n",
       "      <td>9.04</td>\n",
       "      <td>9.21</td>\n",
       "      <td>131143300</td>\n",
       "      <td>18.691801</td>\n",
       "      <td>1.02</td>\n",
       "    </tr>\n",
       "    <tr>\n",
       "      <th>2009-04-14 04:00:00</th>\n",
       "      <td>GOOGL</td>\n",
       "      <td>9.43</td>\n",
       "      <td>9.43</td>\n",
       "      <td>9.15</td>\n",
       "      <td>9.23</td>\n",
       "      <td>137041540</td>\n",
       "      <td>18.735795</td>\n",
       "      <td>1.95</td>\n",
       "    </tr>\n",
       "    <tr>\n",
       "      <th>2009-04-21 04:00:00</th>\n",
       "      <td>GOOGL</td>\n",
       "      <td>9.41</td>\n",
       "      <td>9.62</td>\n",
       "      <td>9.41</td>\n",
       "      <td>9.55</td>\n",
       "      <td>147748840</td>\n",
       "      <td>18.811024</td>\n",
       "      <td>1.55</td>\n",
       "    </tr>\n",
       "    <tr>\n",
       "      <th>2009-04-28 04:00:00</th>\n",
       "      <td>GOOGL</td>\n",
       "      <td>9.60</td>\n",
       "      <td>9.74</td>\n",
       "      <td>9.55</td>\n",
       "      <td>9.60</td>\n",
       "      <td>117643500</td>\n",
       "      <td>18.583169</td>\n",
       "      <td>0.88</td>\n",
       "    </tr>\n",
       "    <tr>\n",
       "      <th>2009-05-05 04:00:00</th>\n",
       "      <td>GOOGL</td>\n",
       "      <td>10.01</td>\n",
       "      <td>10.13</td>\n",
       "      <td>9.94</td>\n",
       "      <td>10.08</td>\n",
       "      <td>95950840</td>\n",
       "      <td>18.379347</td>\n",
       "      <td>1.50</td>\n",
       "    </tr>\n",
       "    <tr>\n",
       "      <th>2009-05-12 04:00:00</th>\n",
       "      <td>GOOGL</td>\n",
       "      <td>10.26</td>\n",
       "      <td>10.28</td>\n",
       "      <td>9.89</td>\n",
       "      <td>9.98</td>\n",
       "      <td>151711100</td>\n",
       "      <td>18.837489</td>\n",
       "      <td>0.77</td>\n",
       "    </tr>\n",
       "    <tr>\n",
       "      <th>2009-05-19 04:00:00</th>\n",
       "      <td>GOOGL</td>\n",
       "      <td>9.91</td>\n",
       "      <td>10.05</td>\n",
       "      <td>9.83</td>\n",
       "      <td>9.98</td>\n",
       "      <td>113403020</td>\n",
       "      <td>18.546459</td>\n",
       "      <td>0.75</td>\n",
       "    </tr>\n",
       "    <tr>\n",
       "      <th>2009-05-27 04:00:00</th>\n",
       "      <td>GOOGL</td>\n",
       "      <td>10.15</td>\n",
       "      <td>10.31</td>\n",
       "      <td>10.13</td>\n",
       "      <td>10.15</td>\n",
       "      <td>121318100</td>\n",
       "      <td>18.613927</td>\n",
       "      <td>0.60</td>\n",
       "    </tr>\n",
       "    <tr>\n",
       "      <th>2009-06-03 04:00:00</th>\n",
       "      <td>GOOGL</td>\n",
       "      <td>10.66</td>\n",
       "      <td>10.82</td>\n",
       "      <td>10.61</td>\n",
       "      <td>10.80</td>\n",
       "      <td>141286800</td>\n",
       "      <td>18.766302</td>\n",
       "      <td>1.20</td>\n",
       "    </tr>\n",
       "    <tr>\n",
       "      <th>2009-06-10 04:00:00</th>\n",
       "      <td>GOOGL</td>\n",
       "      <td>10.92</td>\n",
       "      <td>10.96</td>\n",
       "      <td>10.68</td>\n",
       "      <td>10.83</td>\n",
       "      <td>134224720</td>\n",
       "      <td>18.715026</td>\n",
       "      <td>0.75</td>\n",
       "    </tr>\n",
       "    <tr>\n",
       "      <th>2009-04-06 04:00:00</th>\n",
       "      <td>INTC</td>\n",
       "      <td>15.65</td>\n",
       "      <td>15.87</td>\n",
       "      <td>15.45</td>\n",
       "      <td>15.86</td>\n",
       "      <td>47656242</td>\n",
       "      <td>17.679524</td>\n",
       "      <td>3.55</td>\n",
       "    </tr>\n",
       "    <tr>\n",
       "      <th>2009-04-14 04:00:00</th>\n",
       "      <td>INTC</td>\n",
       "      <td>15.98</td>\n",
       "      <td>16.39</td>\n",
       "      <td>15.80</td>\n",
       "      <td>16.01</td>\n",
       "      <td>92083528</td>\n",
       "      <td>18.338207</td>\n",
       "      <td>3.46</td>\n",
       "    </tr>\n",
       "    <tr>\n",
       "      <th>2009-04-21 04:00:00</th>\n",
       "      <td>INTC</td>\n",
       "      <td>14.98</td>\n",
       "      <td>15.52</td>\n",
       "      <td>14.96</td>\n",
       "      <td>15.36</td>\n",
       "      <td>85204162</td>\n",
       "      <td>18.260561</td>\n",
       "      <td>1.11</td>\n",
       "    </tr>\n",
       "    <tr>\n",
       "      <th>2009-04-28 04:00:00</th>\n",
       "      <td>INTC</td>\n",
       "      <td>15.12</td>\n",
       "      <td>15.41</td>\n",
       "      <td>15.04</td>\n",
       "      <td>15.05</td>\n",
       "      <td>55531586</td>\n",
       "      <td>17.832463</td>\n",
       "      <td>-0.47</td>\n",
       "    </tr>\n",
       "    <tr>\n",
       "      <th>2009-05-05 04:00:00</th>\n",
       "      <td>INTC</td>\n",
       "      <td>16.53</td>\n",
       "      <td>16.53</td>\n",
       "      <td>15.93</td>\n",
       "      <td>16.16</td>\n",
       "      <td>67908966</td>\n",
       "      <td>18.033679</td>\n",
       "      <td>1.44</td>\n",
       "    </tr>\n",
       "    <tr>\n",
       "      <th>2009-05-12 04:00:00</th>\n",
       "      <td>INTC</td>\n",
       "      <td>15.49</td>\n",
       "      <td>15.53</td>\n",
       "      <td>15.00</td>\n",
       "      <td>15.21</td>\n",
       "      <td>73713948</td>\n",
       "      <td>18.115703</td>\n",
       "      <td>-0.65</td>\n",
       "    </tr>\n",
       "    <tr>\n",
       "      <th>2009-05-19 04:00:00</th>\n",
       "      <td>INTC</td>\n",
       "      <td>15.47</td>\n",
       "      <td>15.91</td>\n",
       "      <td>15.27</td>\n",
       "      <td>15.65</td>\n",
       "      <td>59048111</td>\n",
       "      <td>17.893863</td>\n",
       "      <td>-0.36</td>\n",
       "    </tr>\n",
       "    <tr>\n",
       "      <th>2009-05-27 04:00:00</th>\n",
       "      <td>INTC</td>\n",
       "      <td>15.50</td>\n",
       "      <td>15.86</td>\n",
       "      <td>15.34</td>\n",
       "      <td>15.46</td>\n",
       "      <td>60491053</td>\n",
       "      <td>17.918006</td>\n",
       "      <td>0.10</td>\n",
       "    </tr>\n",
       "    <tr>\n",
       "      <th>2009-06-03 04:00:00</th>\n",
       "      <td>INTC</td>\n",
       "      <td>15.97</td>\n",
       "      <td>16.04</td>\n",
       "      <td>15.72</td>\n",
       "      <td>15.94</td>\n",
       "      <td>49798904</td>\n",
       "      <td>17.723504</td>\n",
       "      <td>0.89</td>\n",
       "    </tr>\n",
       "    <tr>\n",
       "      <th>2009-06-10 04:00:00</th>\n",
       "      <td>INTC</td>\n",
       "      <td>16.58</td>\n",
       "      <td>16.61</td>\n",
       "      <td>16.15</td>\n",
       "      <td>16.46</td>\n",
       "      <td>48785313</td>\n",
       "      <td>17.702940</td>\n",
       "      <td>0.30</td>\n",
       "    </tr>\n",
       "    <tr>\n",
       "      <th>2009-04-06 04:00:00</th>\n",
       "      <td>MSFT</td>\n",
       "      <td>18.54</td>\n",
       "      <td>18.76</td>\n",
       "      <td>18.26</td>\n",
       "      <td>18.76</td>\n",
       "      <td>47478684</td>\n",
       "      <td>17.675791</td>\n",
       "      <td>2.97</td>\n",
       "    </tr>\n",
       "    <tr>\n",
       "      <th>2009-04-14 04:00:00</th>\n",
       "      <td>MSFT</td>\n",
       "      <td>19.44</td>\n",
       "      <td>19.55</td>\n",
       "      <td>19.00</td>\n",
       "      <td>19.35</td>\n",
       "      <td>63796243</td>\n",
       "      <td>17.971205</td>\n",
       "      <td>4.20</td>\n",
       "    </tr>\n",
       "    <tr>\n",
       "      <th>2009-04-21 04:00:00</th>\n",
       "      <td>MSFT</td>\n",
       "      <td>18.59</td>\n",
       "      <td>19.08</td>\n",
       "      <td>18.57</td>\n",
       "      <td>18.97</td>\n",
       "      <td>60928280</td>\n",
       "      <td>17.925208</td>\n",
       "      <td>2.72</td>\n",
       "    </tr>\n",
       "    <tr>\n",
       "      <th>2009-04-28 04:00:00</th>\n",
       "      <td>MSFT</td>\n",
       "      <td>20.25</td>\n",
       "      <td>20.27</td>\n",
       "      <td>19.79</td>\n",
       "      <td>19.93</td>\n",
       "      <td>76688300</td>\n",
       "      <td>18.155260</td>\n",
       "      <td>1.60</td>\n",
       "    </tr>\n",
       "    <tr>\n",
       "      <th>2009-05-05 04:00:00</th>\n",
       "      <td>MSFT</td>\n",
       "      <td>20.14</td>\n",
       "      <td>20.24</td>\n",
       "      <td>19.64</td>\n",
       "      <td>19.79</td>\n",
       "      <td>67242977</td>\n",
       "      <td>18.023823</td>\n",
       "      <td>2.31</td>\n",
       "    </tr>\n",
       "    <tr>\n",
       "      <th>2009-05-12 04:00:00</th>\n",
       "      <td>MSFT</td>\n",
       "      <td>19.51</td>\n",
       "      <td>20.06</td>\n",
       "      <td>19.47</td>\n",
       "      <td>19.89</td>\n",
       "      <td>71966786</td>\n",
       "      <td>18.091715</td>\n",
       "      <td>1.13</td>\n",
       "    </tr>\n",
       "    <tr>\n",
       "      <th>2009-05-19 04:00:00</th>\n",
       "      <td>MSFT</td>\n",
       "      <td>20.51</td>\n",
       "      <td>20.74</td>\n",
       "      <td>20.25</td>\n",
       "      <td>20.31</td>\n",
       "      <td>51368251</td>\n",
       "      <td>17.754531</td>\n",
       "      <td>0.96</td>\n",
       "    </tr>\n",
       "    <tr>\n",
       "      <th>2009-05-27 04:00:00</th>\n",
       "      <td>MSFT</td>\n",
       "      <td>20.25</td>\n",
       "      <td>20.60</td>\n",
       "      <td>20.07</td>\n",
       "      <td>20.13</td>\n",
       "      <td>42898438</td>\n",
       "      <td>17.574346</td>\n",
       "      <td>1.16</td>\n",
       "    </tr>\n",
       "    <tr>\n",
       "      <th>2009-06-03 04:00:00</th>\n",
       "      <td>MSFT</td>\n",
       "      <td>21.31</td>\n",
       "      <td>21.76</td>\n",
       "      <td>21.29</td>\n",
       "      <td>21.73</td>\n",
       "      <td>56047439</td>\n",
       "      <td>17.841709</td>\n",
       "      <td>1.80</td>\n",
       "    </tr>\n",
       "    <tr>\n",
       "      <th>2009-06-10 04:00:00</th>\n",
       "      <td>MSFT</td>\n",
       "      <td>22.17</td>\n",
       "      <td>22.62</td>\n",
       "      <td>22.12</td>\n",
       "      <td>22.55</td>\n",
       "      <td>61297117</td>\n",
       "      <td>17.931243</td>\n",
       "      <td>2.76</td>\n",
       "    </tr>\n",
       "    <tr>\n",
       "      <th>2009-04-06 04:00:00</th>\n",
       "      <td>NFLX</td>\n",
       "      <td>6.14</td>\n",
       "      <td>6.38</td>\n",
       "      <td>6.10</td>\n",
       "      <td>6.36</td>\n",
       "      <td>12520634</td>\n",
       "      <td>16.342889</td>\n",
       "      <td>1.45</td>\n",
       "    </tr>\n",
       "    <tr>\n",
       "      <th>2009-04-14 04:00:00</th>\n",
       "      <td>NFLX</td>\n",
       "      <td>6.95</td>\n",
       "      <td>6.97</td>\n",
       "      <td>6.78</td>\n",
       "      <td>6.83</td>\n",
       "      <td>16958060</td>\n",
       "      <td>16.646254</td>\n",
       "      <td>1.33</td>\n",
       "    </tr>\n",
       "    <tr>\n",
       "      <th>2009-04-21 04:00:00</th>\n",
       "      <td>NFLX</td>\n",
       "      <td>7.06</td>\n",
       "      <td>7.07</td>\n",
       "      <td>6.40</td>\n",
       "      <td>6.66</td>\n",
       "      <td>24562762</td>\n",
       "      <td>17.016742</td>\n",
       "      <td>1.14</td>\n",
       "    </tr>\n",
       "    <tr>\n",
       "      <th>2009-04-28 04:00:00</th>\n",
       "      <td>NFLX</td>\n",
       "      <td>6.54</td>\n",
       "      <td>6.80</td>\n",
       "      <td>6.43</td>\n",
       "      <td>6.60</td>\n",
       "      <td>16545277</td>\n",
       "      <td>16.621611</td>\n",
       "      <td>0.40</td>\n",
       "    </tr>\n",
       "    <tr>\n",
       "      <th>2009-05-05 04:00:00</th>\n",
       "      <td>NFLX</td>\n",
       "      <td>6.42</td>\n",
       "      <td>6.50</td>\n",
       "      <td>6.36</td>\n",
       "      <td>6.44</td>\n",
       "      <td>7007686</td>\n",
       "      <td>15.762518</td>\n",
       "      <td>0.44</td>\n",
       "    </tr>\n",
       "    <tr>\n",
       "      <th>2009-05-12 04:00:00</th>\n",
       "      <td>NFLX</td>\n",
       "      <td>5.66</td>\n",
       "      <td>5.81</td>\n",
       "      <td>5.54</td>\n",
       "      <td>5.76</td>\n",
       "      <td>13068118</td>\n",
       "      <td>16.385686</td>\n",
       "      <td>-0.60</td>\n",
       "    </tr>\n",
       "    <tr>\n",
       "      <th>2009-05-19 04:00:00</th>\n",
       "      <td>NFLX</td>\n",
       "      <td>5.59</td>\n",
       "      <td>5.76</td>\n",
       "      <td>5.55</td>\n",
       "      <td>5.66</td>\n",
       "      <td>13829249</td>\n",
       "      <td>16.442296</td>\n",
       "      <td>-1.17</td>\n",
       "    </tr>\n",
       "    <tr>\n",
       "      <th>2009-05-27 04:00:00</th>\n",
       "      <td>NFLX</td>\n",
       "      <td>5.72</td>\n",
       "      <td>5.77</td>\n",
       "      <td>5.55</td>\n",
       "      <td>5.56</td>\n",
       "      <td>9294180</td>\n",
       "      <td>16.044899</td>\n",
       "      <td>-1.10</td>\n",
       "    </tr>\n",
       "    <tr>\n",
       "      <th>2009-06-03 04:00:00</th>\n",
       "      <td>NFLX</td>\n",
       "      <td>5.84</td>\n",
       "      <td>5.89</td>\n",
       "      <td>5.69</td>\n",
       "      <td>5.79</td>\n",
       "      <td>7412174</td>\n",
       "      <td>15.818634</td>\n",
       "      <td>-0.81</td>\n",
       "    </tr>\n",
       "    <tr>\n",
       "      <th>2009-06-10 04:00:00</th>\n",
       "      <td>NFLX</td>\n",
       "      <td>5.65</td>\n",
       "      <td>5.66</td>\n",
       "      <td>5.37</td>\n",
       "      <td>5.41</td>\n",
       "      <td>13949152</td>\n",
       "      <td>16.450929</td>\n",
       "      <td>-1.03</td>\n",
       "    </tr>\n",
       "    <tr>\n",
       "      <th>2009-04-06 04:00:00</th>\n",
       "      <td>NVDA</td>\n",
       "      <td>2.78</td>\n",
       "      <td>2.86</td>\n",
       "      <td>2.74</td>\n",
       "      <td>2.84</td>\n",
       "      <td>88748612</td>\n",
       "      <td>18.301318</td>\n",
       "      <td>0.94</td>\n",
       "    </tr>\n",
       "    <tr>\n",
       "      <th>2009-04-14 04:00:00</th>\n",
       "      <td>NVDA</td>\n",
       "      <td>2.87</td>\n",
       "      <td>3.00</td>\n",
       "      <td>2.86</td>\n",
       "      <td>2.93</td>\n",
       "      <td>71234600</td>\n",
       "      <td>18.081489</td>\n",
       "      <td>0.85</td>\n",
       "    </tr>\n",
       "    <tr>\n",
       "      <th>2009-04-21 04:00:00</th>\n",
       "      <td>NVDA</td>\n",
       "      <td>2.72</td>\n",
       "      <td>2.87</td>\n",
       "      <td>2.68</td>\n",
       "      <td>2.76</td>\n",
       "      <td>93219320</td>\n",
       "      <td>18.350466</td>\n",
       "      <td>0.40</td>\n",
       "    </tr>\n",
       "    <tr>\n",
       "      <th>2009-04-28 04:00:00</th>\n",
       "      <td>NVDA</td>\n",
       "      <td>2.72</td>\n",
       "      <td>2.82</td>\n",
       "      <td>2.70</td>\n",
       "      <td>2.76</td>\n",
       "      <td>63450192</td>\n",
       "      <td>17.965766</td>\n",
       "      <td>0.20</td>\n",
       "    </tr>\n",
       "    <tr>\n",
       "      <th>2009-05-05 04:00:00</th>\n",
       "      <td>NVDA</td>\n",
       "      <td>3.01</td>\n",
       "      <td>3.03</td>\n",
       "      <td>2.89</td>\n",
       "      <td>2.95</td>\n",
       "      <td>83721396</td>\n",
       "      <td>18.243005</td>\n",
       "      <td>0.50</td>\n",
       "    </tr>\n",
       "    <tr>\n",
       "      <th>2009-05-12 04:00:00</th>\n",
       "      <td>NVDA</td>\n",
       "      <td>2.41</td>\n",
       "      <td>2.41</td>\n",
       "      <td>2.20</td>\n",
       "      <td>2.24</td>\n",
       "      <td>120138104</td>\n",
       "      <td>18.604153</td>\n",
       "      <td>-0.60</td>\n",
       "    </tr>\n",
       "    <tr>\n",
       "      <th>2009-05-19 04:00:00</th>\n",
       "      <td>NVDA</td>\n",
       "      <td>2.33</td>\n",
       "      <td>2.39</td>\n",
       "      <td>2.30</td>\n",
       "      <td>2.36</td>\n",
       "      <td>86005728</td>\n",
       "      <td>18.269924</td>\n",
       "      <td>-0.57</td>\n",
       "    </tr>\n",
       "    <tr>\n",
       "      <th>2009-05-27 04:00:00</th>\n",
       "      <td>NVDA</td>\n",
       "      <td>2.58</td>\n",
       "      <td>2.67</td>\n",
       "      <td>2.55</td>\n",
       "      <td>2.59</td>\n",
       "      <td>81421648</td>\n",
       "      <td>18.215152</td>\n",
       "      <td>-0.17</td>\n",
       "    </tr>\n",
       "    <tr>\n",
       "      <th>2009-06-03 04:00:00</th>\n",
       "      <td>NVDA</td>\n",
       "      <td>2.68</td>\n",
       "      <td>2.69</td>\n",
       "      <td>2.56</td>\n",
       "      <td>2.63</td>\n",
       "      <td>73568452</td>\n",
       "      <td>18.113727</td>\n",
       "      <td>-0.13</td>\n",
       "    </tr>\n",
       "    <tr>\n",
       "      <th>2009-06-10 04:00:00</th>\n",
       "      <td>NVDA</td>\n",
       "      <td>2.86</td>\n",
       "      <td>2.95</td>\n",
       "      <td>2.79</td>\n",
       "      <td>2.93</td>\n",
       "      <td>83342524</td>\n",
       "      <td>18.238469</td>\n",
       "      <td>-0.02</td>\n",
       "    </tr>\n",
       "    <tr>\n",
       "      <th>2009-04-06 04:00:00</th>\n",
       "      <td>T</td>\n",
       "      <td>19.94</td>\n",
       "      <td>20.13</td>\n",
       "      <td>19.68</td>\n",
       "      <td>20.08</td>\n",
       "      <td>35296979</td>\n",
       "      <td>17.379308</td>\n",
       "      <td>2.68</td>\n",
       "    </tr>\n",
       "    <tr>\n",
       "      <th>2009-04-14 04:00:00</th>\n",
       "      <td>T</td>\n",
       "      <td>19.49</td>\n",
       "      <td>19.49</td>\n",
       "      <td>19.06</td>\n",
       "      <td>19.09</td>\n",
       "      <td>38343928</td>\n",
       "      <td>17.462107</td>\n",
       "      <td>2.69</td>\n",
       "    </tr>\n",
       "    <tr>\n",
       "      <th>2009-04-21 04:00:00</th>\n",
       "      <td>T</td>\n",
       "      <td>19.03</td>\n",
       "      <td>19.21</td>\n",
       "      <td>18.87</td>\n",
       "      <td>19.09</td>\n",
       "      <td>41792502</td>\n",
       "      <td>17.548228</td>\n",
       "      <td>0.69</td>\n",
       "    </tr>\n",
       "    <tr>\n",
       "      <th>2009-04-28 04:00:00</th>\n",
       "      <td>T</td>\n",
       "      <td>19.03</td>\n",
       "      <td>19.62</td>\n",
       "      <td>18.88</td>\n",
       "      <td>19.37</td>\n",
       "      <td>34550161</td>\n",
       "      <td>17.357923</td>\n",
       "      <td>-0.96</td>\n",
       "    </tr>\n",
       "    <tr>\n",
       "      <th>2009-05-05 04:00:00</th>\n",
       "      <td>T</td>\n",
       "      <td>20.02</td>\n",
       "      <td>20.20</td>\n",
       "      <td>19.90</td>\n",
       "      <td>20.02</td>\n",
       "      <td>25543597</td>\n",
       "      <td>17.055897</td>\n",
       "      <td>1.02</td>\n",
       "    </tr>\n",
       "    <tr>\n",
       "      <th>2009-05-12 04:00:00</th>\n",
       "      <td>T</td>\n",
       "      <td>19.25</td>\n",
       "      <td>19.56</td>\n",
       "      <td>19.12</td>\n",
       "      <td>19.43</td>\n",
       "      <td>30821855</td>\n",
       "      <td>17.243735</td>\n",
       "      <td>-0.65</td>\n",
       "    </tr>\n",
       "    <tr>\n",
       "      <th>2009-05-19 04:00:00</th>\n",
       "      <td>T</td>\n",
       "      <td>18.69</td>\n",
       "      <td>18.76</td>\n",
       "      <td>18.60</td>\n",
       "      <td>18.63</td>\n",
       "      <td>32989014</td>\n",
       "      <td>17.311685</td>\n",
       "      <td>-0.46</td>\n",
       "    </tr>\n",
       "    <tr>\n",
       "      <th>2009-05-27 04:00:00</th>\n",
       "      <td>T</td>\n",
       "      <td>18.46</td>\n",
       "      <td>18.69</td>\n",
       "      <td>18.10</td>\n",
       "      <td>18.18</td>\n",
       "      <td>34255021</td>\n",
       "      <td>17.349344</td>\n",
       "      <td>-0.91</td>\n",
       "    </tr>\n",
       "    <tr>\n",
       "      <th>2009-06-03 04:00:00</th>\n",
       "      <td>T</td>\n",
       "      <td>18.63</td>\n",
       "      <td>18.84</td>\n",
       "      <td>18.34</td>\n",
       "      <td>18.47</td>\n",
       "      <td>45552206</td>\n",
       "      <td>17.634370</td>\n",
       "      <td>-0.90</td>\n",
       "    </tr>\n",
       "    <tr>\n",
       "      <th>2009-06-10 04:00:00</th>\n",
       "      <td>T</td>\n",
       "      <td>18.37</td>\n",
       "      <td>18.46</td>\n",
       "      <td>18.23</td>\n",
       "      <td>18.34</td>\n",
       "      <td>44239146</td>\n",
       "      <td>17.605121</td>\n",
       "      <td>-1.68</td>\n",
       "    </tr>\n",
       "  </tbody>\n",
       "</table>\n",
       "</div>"
      ],
      "text/plain": [
       "                    Symbol   Open   High    Low  Close     Volume  log_volume   \n",
       "Date                                                                            \n",
       "2009-04-06 04:00:00   AAPL   4.11   4.24   4.05   4.23  658062480   20.304810  \\\n",
       "2009-04-14 04:00:00   AAPL   4.27   4.29   4.19   4.23  454755700   19.935271   \n",
       "2009-04-21 04:00:00   AAPL   4.25   4.36   4.24   4.35  470684032   19.969698   \n",
       "2009-04-28 04:00:00   AAPL   4.41   4.51   4.40   4.43  455856632   19.937689   \n",
       "2009-05-05 04:00:00   AAPL   4.71   4.74   4.68   4.74  398401248   19.802970   \n",
       "2009-05-12 04:00:00   AAPL   4.63   4.63   4.40   4.44  609479240   20.228115   \n",
       "2009-05-19 04:00:00   AAPL   4.53   4.62   4.49   4.55  372422036   19.735538   \n",
       "2009-05-27 04:00:00   AAPL   4.71   4.82   4.68   4.75  646962680   20.287799   \n",
       "2009-06-03 04:00:00   AAPL   5.00   5.04   4.97   5.03  565198360   20.152687   \n",
       "2009-06-10 04:00:00   AAPL   5.08   5.08   4.94   5.01  688798920   20.350460   \n",
       "2009-04-06 04:00:00   ADBE  23.85  24.00  22.78  23.19    8072352   15.903955   \n",
       "2009-04-14 04:00:00   ADBE  24.38  24.49  23.84  24.01    6544931   15.694201   \n",
       "2009-04-21 04:00:00   ADBE  23.35  24.13  23.25  23.75    7442989   15.822783   \n",
       "2009-04-28 04:00:00   ADBE  25.70  25.95  25.25  25.70    8099823   15.907353   \n",
       "2009-05-05 04:00:00   ADBE  26.74  26.91  26.20  26.89    8157398   15.914436   \n",
       "2009-05-12 04:00:00   ADBE  26.32  26.34  25.67  25.99    5077853   15.440399   \n",
       "2009-05-19 04:00:00   ADBE  26.25  26.81  26.01  26.56    3509486   15.070980   \n",
       "2009-05-27 04:00:00   ADBE  27.67  28.07  27.15  27.25    5013697   15.427684   \n",
       "2009-06-03 04:00:00   ADBE  29.05  29.49  28.30  29.06    8572649   15.964087   \n",
       "2009-06-10 04:00:00   ADBE  29.88  30.43  29.63  30.17    8515301   15.957375   \n",
       "2009-04-06 04:00:00    AMD   3.30   3.56   3.25   3.53   15237607   16.539277   \n",
       "2009-04-14 04:00:00    AMD   3.59   3.85   3.53   3.63   14713741   16.504292   \n",
       "2009-04-21 04:00:00    AMD   3.23   3.36   3.20   3.36   14244496   16.471881   \n",
       "2009-04-28 04:00:00    AMD   3.41   3.55   3.35   3.41   12109634   16.309512   \n",
       "2009-05-05 04:00:00    AMD   4.36   4.39   4.11   4.32   16371122   16.611029   \n",
       "2009-05-12 04:00:00    AMD   4.41   4.50   4.13   4.35   29756636   17.208563   \n",
       "2009-05-19 04:00:00    AMD   4.30   4.50   4.24   4.39   23195951   16.959488   \n",
       "2009-05-27 04:00:00    AMD   4.57   4.80   4.55   4.71   21521553   16.884565   \n",
       "2009-06-03 04:00:00    AMD   4.55   4.60   4.34   4.48   19096525   16.765017   \n",
       "2009-06-10 04:00:00    AMD   4.81   4.86   4.70   4.82   18331721   16.724144   \n",
       "2009-04-06 04:00:00   AMZN   3.86   3.92   3.80   3.90  115163360   18.561862   \n",
       "2009-04-14 04:00:00   AMZN   3.90   3.97   3.85   3.86  123310600   18.630217   \n",
       "2009-04-21 04:00:00   AMZN   3.87   3.96   3.86   3.94  143262420   18.780189   \n",
       "2009-04-28 04:00:00   AMZN   4.13   4.27   4.12   4.12  158525460   18.881426   \n",
       "2009-05-05 04:00:00   AMZN   4.05   4.10   4.01   4.10  117492400   18.581884   \n",
       "2009-05-12 04:00:00   AMZN   3.94   3.95   3.83   3.90  111023440   18.525252   \n",
       "2009-05-19 04:00:00   AMZN   3.77   3.95   3.76   3.89  160576380   18.894280   \n",
       "2009-05-27 04:00:00   AMZN   3.93   3.98   3.84   3.86  111375620   18.528419   \n",
       "2009-06-03 04:00:00   AMZN   4.17   4.29   4.16   4.28  152096380   18.840025   \n",
       "2009-06-10 04:00:00   AMZN   4.38   4.43   4.24   4.33  121475280   18.615221   \n",
       "2009-04-06 04:00:00  GOOGL   9.18   9.25   9.04   9.21  131143300   18.691801   \n",
       "2009-04-14 04:00:00  GOOGL   9.43   9.43   9.15   9.23  137041540   18.735795   \n",
       "2009-04-21 04:00:00  GOOGL   9.41   9.62   9.41   9.55  147748840   18.811024   \n",
       "2009-04-28 04:00:00  GOOGL   9.60   9.74   9.55   9.60  117643500   18.583169   \n",
       "2009-05-05 04:00:00  GOOGL  10.01  10.13   9.94  10.08   95950840   18.379347   \n",
       "2009-05-12 04:00:00  GOOGL  10.26  10.28   9.89   9.98  151711100   18.837489   \n",
       "2009-05-19 04:00:00  GOOGL   9.91  10.05   9.83   9.98  113403020   18.546459   \n",
       "2009-05-27 04:00:00  GOOGL  10.15  10.31  10.13  10.15  121318100   18.613927   \n",
       "2009-06-03 04:00:00  GOOGL  10.66  10.82  10.61  10.80  141286800   18.766302   \n",
       "2009-06-10 04:00:00  GOOGL  10.92  10.96  10.68  10.83  134224720   18.715026   \n",
       "2009-04-06 04:00:00   INTC  15.65  15.87  15.45  15.86   47656242   17.679524   \n",
       "2009-04-14 04:00:00   INTC  15.98  16.39  15.80  16.01   92083528   18.338207   \n",
       "2009-04-21 04:00:00   INTC  14.98  15.52  14.96  15.36   85204162   18.260561   \n",
       "2009-04-28 04:00:00   INTC  15.12  15.41  15.04  15.05   55531586   17.832463   \n",
       "2009-05-05 04:00:00   INTC  16.53  16.53  15.93  16.16   67908966   18.033679   \n",
       "2009-05-12 04:00:00   INTC  15.49  15.53  15.00  15.21   73713948   18.115703   \n",
       "2009-05-19 04:00:00   INTC  15.47  15.91  15.27  15.65   59048111   17.893863   \n",
       "2009-05-27 04:00:00   INTC  15.50  15.86  15.34  15.46   60491053   17.918006   \n",
       "2009-06-03 04:00:00   INTC  15.97  16.04  15.72  15.94   49798904   17.723504   \n",
       "2009-06-10 04:00:00   INTC  16.58  16.61  16.15  16.46   48785313   17.702940   \n",
       "2009-04-06 04:00:00   MSFT  18.54  18.76  18.26  18.76   47478684   17.675791   \n",
       "2009-04-14 04:00:00   MSFT  19.44  19.55  19.00  19.35   63796243   17.971205   \n",
       "2009-04-21 04:00:00   MSFT  18.59  19.08  18.57  18.97   60928280   17.925208   \n",
       "2009-04-28 04:00:00   MSFT  20.25  20.27  19.79  19.93   76688300   18.155260   \n",
       "2009-05-05 04:00:00   MSFT  20.14  20.24  19.64  19.79   67242977   18.023823   \n",
       "2009-05-12 04:00:00   MSFT  19.51  20.06  19.47  19.89   71966786   18.091715   \n",
       "2009-05-19 04:00:00   MSFT  20.51  20.74  20.25  20.31   51368251   17.754531   \n",
       "2009-05-27 04:00:00   MSFT  20.25  20.60  20.07  20.13   42898438   17.574346   \n",
       "2009-06-03 04:00:00   MSFT  21.31  21.76  21.29  21.73   56047439   17.841709   \n",
       "2009-06-10 04:00:00   MSFT  22.17  22.62  22.12  22.55   61297117   17.931243   \n",
       "2009-04-06 04:00:00   NFLX   6.14   6.38   6.10   6.36   12520634   16.342889   \n",
       "2009-04-14 04:00:00   NFLX   6.95   6.97   6.78   6.83   16958060   16.646254   \n",
       "2009-04-21 04:00:00   NFLX   7.06   7.07   6.40   6.66   24562762   17.016742   \n",
       "2009-04-28 04:00:00   NFLX   6.54   6.80   6.43   6.60   16545277   16.621611   \n",
       "2009-05-05 04:00:00   NFLX   6.42   6.50   6.36   6.44    7007686   15.762518   \n",
       "2009-05-12 04:00:00   NFLX   5.66   5.81   5.54   5.76   13068118   16.385686   \n",
       "2009-05-19 04:00:00   NFLX   5.59   5.76   5.55   5.66   13829249   16.442296   \n",
       "2009-05-27 04:00:00   NFLX   5.72   5.77   5.55   5.56    9294180   16.044899   \n",
       "2009-06-03 04:00:00   NFLX   5.84   5.89   5.69   5.79    7412174   15.818634   \n",
       "2009-06-10 04:00:00   NFLX   5.65   5.66   5.37   5.41   13949152   16.450929   \n",
       "2009-04-06 04:00:00   NVDA   2.78   2.86   2.74   2.84   88748612   18.301318   \n",
       "2009-04-14 04:00:00   NVDA   2.87   3.00   2.86   2.93   71234600   18.081489   \n",
       "2009-04-21 04:00:00   NVDA   2.72   2.87   2.68   2.76   93219320   18.350466   \n",
       "2009-04-28 04:00:00   NVDA   2.72   2.82   2.70   2.76   63450192   17.965766   \n",
       "2009-05-05 04:00:00   NVDA   3.01   3.03   2.89   2.95   83721396   18.243005   \n",
       "2009-05-12 04:00:00   NVDA   2.41   2.41   2.20   2.24  120138104   18.604153   \n",
       "2009-05-19 04:00:00   NVDA   2.33   2.39   2.30   2.36   86005728   18.269924   \n",
       "2009-05-27 04:00:00   NVDA   2.58   2.67   2.55   2.59   81421648   18.215152   \n",
       "2009-06-03 04:00:00   NVDA   2.68   2.69   2.56   2.63   73568452   18.113727   \n",
       "2009-06-10 04:00:00   NVDA   2.86   2.95   2.79   2.93   83342524   18.238469   \n",
       "2009-04-06 04:00:00      T  19.94  20.13  19.68  20.08   35296979   17.379308   \n",
       "2009-04-14 04:00:00      T  19.49  19.49  19.06  19.09   38343928   17.462107   \n",
       "2009-04-21 04:00:00      T  19.03  19.21  18.87  19.09   41792502   17.548228   \n",
       "2009-04-28 04:00:00      T  19.03  19.62  18.88  19.37   34550161   17.357923   \n",
       "2009-05-05 04:00:00      T  20.02  20.20  19.90  20.02   25543597   17.055897   \n",
       "2009-05-12 04:00:00      T  19.25  19.56  19.12  19.43   30821855   17.243735   \n",
       "2009-05-19 04:00:00      T  18.69  18.76  18.60  18.63   32989014   17.311685   \n",
       "2009-05-27 04:00:00      T  18.46  18.69  18.10  18.18   34255021   17.349344   \n",
       "2009-06-03 04:00:00      T  18.63  18.84  18.34  18.47   45552206   17.634370   \n",
       "2009-06-10 04:00:00      T  18.37  18.46  18.23  18.34   44239146   17.605121   \n",
       "\n",
       "                     Momentum_2Wk  \n",
       "Date                               \n",
       "2009-04-06 04:00:00          1.09  \n",
       "2009-04-14 04:00:00          1.26  \n",
       "2009-04-21 04:00:00          0.94  \n",
       "2009-04-28 04:00:00          0.59  \n",
       "2009-05-05 04:00:00          1.01  \n",
       "2009-05-12 04:00:00          0.21  \n",
       "2009-05-19 04:00:00          0.32  \n",
       "2009-05-27 04:00:00          0.40  \n",
       "2009-06-03 04:00:00          0.60  \n",
       "2009-06-10 04:00:00          0.27  \n",
       "2009-04-06 04:00:00          7.15  \n",
       "2009-04-14 04:00:00          7.23  \n",
       "2009-04-21 04:00:00          5.30  \n",
       "2009-04-28 04:00:00          3.01  \n",
       "2009-05-05 04:00:00          6.07  \n",
       "2009-05-12 04:00:00          2.80  \n",
       "2009-05-19 04:00:00          2.55  \n",
       "2009-05-27 04:00:00          3.50  \n",
       "2009-06-03 04:00:00          3.36  \n",
       "2009-06-10 04:00:00          3.28  \n",
       "2009-04-06 04:00:00          1.52  \n",
       "2009-04-14 04:00:00          1.49  \n",
       "2009-04-21 04:00:00          0.88  \n",
       "2009-04-28 04:00:00          0.39  \n",
       "2009-05-05 04:00:00          1.13  \n",
       "2009-05-12 04:00:00          0.82  \n",
       "2009-05-19 04:00:00          0.76  \n",
       "2009-05-27 04:00:00          1.35  \n",
       "2009-06-03 04:00:00          1.07  \n",
       "2009-06-10 04:00:00          0.50  \n",
       "2009-04-06 04:00:00          0.80  \n",
       "2009-04-14 04:00:00          0.84  \n",
       "2009-04-21 04:00:00          0.59  \n",
       "2009-04-28 04:00:00          0.34  \n",
       "2009-05-05 04:00:00          0.53  \n",
       "2009-05-12 04:00:00          0.00  \n",
       "2009-05-19 04:00:00          0.03  \n",
       "2009-05-27 04:00:00         -0.08  \n",
       "2009-06-03 04:00:00          0.16  \n",
       "2009-06-10 04:00:00          0.23  \n",
       "2009-04-06 04:00:00          1.02  \n",
       "2009-04-14 04:00:00          1.95  \n",
       "2009-04-21 04:00:00          1.55  \n",
       "2009-04-28 04:00:00          0.88  \n",
       "2009-05-05 04:00:00          1.50  \n",
       "2009-05-12 04:00:00          0.77  \n",
       "2009-05-19 04:00:00          0.75  \n",
       "2009-05-27 04:00:00          0.60  \n",
       "2009-06-03 04:00:00          1.20  \n",
       "2009-06-10 04:00:00          0.75  \n",
       "2009-04-06 04:00:00          3.55  \n",
       "2009-04-14 04:00:00          3.46  \n",
       "2009-04-21 04:00:00          1.11  \n",
       "2009-04-28 04:00:00         -0.47  \n",
       "2009-05-05 04:00:00          1.44  \n",
       "2009-05-12 04:00:00         -0.65  \n",
       "2009-05-19 04:00:00         -0.36  \n",
       "2009-05-27 04:00:00          0.10  \n",
       "2009-06-03 04:00:00          0.89  \n",
       "2009-06-10 04:00:00          0.30  \n",
       "2009-04-06 04:00:00          2.97  \n",
       "2009-04-14 04:00:00          4.20  \n",
       "2009-04-21 04:00:00          2.72  \n",
       "2009-04-28 04:00:00          1.60  \n",
       "2009-05-05 04:00:00          2.31  \n",
       "2009-05-12 04:00:00          1.13  \n",
       "2009-05-19 04:00:00          0.96  \n",
       "2009-05-27 04:00:00          1.16  \n",
       "2009-06-03 04:00:00          1.80  \n",
       "2009-06-10 04:00:00          2.76  \n",
       "2009-04-06 04:00:00          1.45  \n",
       "2009-04-14 04:00:00          1.33  \n",
       "2009-04-21 04:00:00          1.14  \n",
       "2009-04-28 04:00:00          0.40  \n",
       "2009-05-05 04:00:00          0.44  \n",
       "2009-05-12 04:00:00         -0.60  \n",
       "2009-05-19 04:00:00         -1.17  \n",
       "2009-05-27 04:00:00         -1.10  \n",
       "2009-06-03 04:00:00         -0.81  \n",
       "2009-06-10 04:00:00         -1.03  \n",
       "2009-04-06 04:00:00          0.94  \n",
       "2009-04-14 04:00:00          0.85  \n",
       "2009-04-21 04:00:00          0.40  \n",
       "2009-04-28 04:00:00          0.20  \n",
       "2009-05-05 04:00:00          0.50  \n",
       "2009-05-12 04:00:00         -0.60  \n",
       "2009-05-19 04:00:00         -0.57  \n",
       "2009-05-27 04:00:00         -0.17  \n",
       "2009-06-03 04:00:00         -0.13  \n",
       "2009-06-10 04:00:00         -0.02  \n",
       "2009-04-06 04:00:00          2.68  \n",
       "2009-04-14 04:00:00          2.69  \n",
       "2009-04-21 04:00:00          0.69  \n",
       "2009-04-28 04:00:00         -0.96  \n",
       "2009-05-05 04:00:00          1.02  \n",
       "2009-05-12 04:00:00         -0.65  \n",
       "2009-05-19 04:00:00         -0.46  \n",
       "2009-05-27 04:00:00         -0.91  \n",
       "2009-06-03 04:00:00         -0.90  \n",
       "2009-06-10 04:00:00         -1.68  "
      ]
     },
     "execution_count": 8,
     "metadata": {},
     "output_type": "execute_result"
    }
   ],
   "source": [
    "df[df[\"Symbol\"].isin(select_stocks)].groupby(\"Symbol\").head(10)"
   ]
  },
  {
   "attachments": {},
   "cell_type": "markdown",
   "metadata": {},
   "source": [
    "<h1>Feature Engineering</h1>"
   ]
  },
  {
   "cell_type": "code",
   "execution_count": 9,
   "metadata": {},
   "outputs": [
    {
     "data": {
      "text/html": [
       "<div>\n",
       "<style scoped>\n",
       "    .dataframe tbody tr th:only-of-type {\n",
       "        vertical-align: middle;\n",
       "    }\n",
       "\n",
       "    .dataframe tbody tr th {\n",
       "        vertical-align: top;\n",
       "    }\n",
       "\n",
       "    .dataframe thead th {\n",
       "        text-align: right;\n",
       "    }\n",
       "</style>\n",
       "<table border=\"1\" class=\"dataframe\">\n",
       "  <thead>\n",
       "    <tr style=\"text-align: right;\">\n",
       "      <th></th>\n",
       "      <th>Symbol</th>\n",
       "      <th>Open</th>\n",
       "      <th>High</th>\n",
       "      <th>Low</th>\n",
       "      <th>Close</th>\n",
       "      <th>Volume</th>\n",
       "      <th>log_volume</th>\n",
       "      <th>Momentum_2Wk</th>\n",
       "    </tr>\n",
       "    <tr>\n",
       "      <th>Date</th>\n",
       "      <th></th>\n",
       "      <th></th>\n",
       "      <th></th>\n",
       "      <th></th>\n",
       "      <th></th>\n",
       "      <th></th>\n",
       "      <th></th>\n",
       "      <th></th>\n",
       "    </tr>\n",
       "  </thead>\n",
       "  <tbody>\n",
       "    <tr>\n",
       "      <th>2020-02-02</th>\n",
       "      <td>AAPL</td>\n",
       "      <td>77.52</td>\n",
       "      <td>77.94</td>\n",
       "      <td>76.22</td>\n",
       "      <td>77.24</td>\n",
       "      <td>161940020.0</td>\n",
       "      <td>18.902737</td>\n",
       "      <td>7.30</td>\n",
       "    </tr>\n",
       "    <tr>\n",
       "      <th>2020-02-09</th>\n",
       "      <td>AAPL</td>\n",
       "      <td>76.08</td>\n",
       "      <td>78.37</td>\n",
       "      <td>75.56</td>\n",
       "      <td>77.17</td>\n",
       "      <td>173985604.0</td>\n",
       "      <td>18.974483</td>\n",
       "      <td>4.69</td>\n",
       "    </tr>\n",
       "    <tr>\n",
       "      <th>2020-02-16</th>\n",
       "      <td>AAPL</td>\n",
       "      <td>78.54</td>\n",
       "      <td>80.39</td>\n",
       "      <td>78.46</td>\n",
       "      <td>80.39</td>\n",
       "      <td>109348860.0</td>\n",
       "      <td>18.510054</td>\n",
       "      <td>6.03</td>\n",
       "    </tr>\n",
       "    <tr>\n",
       "      <th>2020-02-23</th>\n",
       "      <td>AAPL</td>\n",
       "      <td>78.84</td>\n",
       "      <td>79.94</td>\n",
       "      <td>78.65</td>\n",
       "      <td>79.75</td>\n",
       "      <td>152762180.0</td>\n",
       "      <td>18.844393</td>\n",
       "      <td>2.17</td>\n",
       "    </tr>\n",
       "    <tr>\n",
       "      <th>2020-03-01</th>\n",
       "      <td>AAPL</td>\n",
       "      <td>75.24</td>\n",
       "      <td>75.63</td>\n",
       "      <td>71.53</td>\n",
       "      <td>72.02</td>\n",
       "      <td>230673456.0</td>\n",
       "      <td>19.256514</td>\n",
       "      <td>-7.66</td>\n",
       "    </tr>\n",
       "  </tbody>\n",
       "</table>\n",
       "</div>"
      ],
      "text/plain": [
       "           Symbol   Open   High    Low  Close       Volume  log_volume   \n",
       "Date                                                                     \n",
       "2020-02-02   AAPL  77.52  77.94  76.22  77.24  161940020.0   18.902737  \\\n",
       "2020-02-09   AAPL  76.08  78.37  75.56  77.17  173985604.0   18.974483   \n",
       "2020-02-16   AAPL  78.54  80.39  78.46  80.39  109348860.0   18.510054   \n",
       "2020-02-23   AAPL  78.84  79.94  78.65  79.75  152762180.0   18.844393   \n",
       "2020-03-01   AAPL  75.24  75.63  71.53  72.02  230673456.0   19.256514   \n",
       "\n",
       "            Momentum_2Wk  \n",
       "Date                      \n",
       "2020-02-02          7.30  \n",
       "2020-02-09          4.69  \n",
       "2020-02-16          6.03  \n",
       "2020-02-23          2.17  \n",
       "2020-03-01         -7.66  "
      ]
     },
     "execution_count": 9,
     "metadata": {},
     "output_type": "execute_result"
    }
   ],
   "source": [
    "#Adding Log Volume, as suggested on this site:https://alphascientist.com/feature_engineering.html\n",
    "from pandas.tseries.frequencies import to_offset\n",
    "\n",
    "df['log_volume'] = df['Volume'].apply(np.log)\n",
    "\n",
    "df = df[df[\"Symbol\"].isin(select_stocks)]\n",
    "df = df.resample('W').first()\n",
    "\n",
    "df.tail()"
   ]
  },
  {
   "cell_type": "code",
   "execution_count": 10,
   "metadata": {},
   "outputs": [
    {
     "data": {
      "text/html": [
       "<div>\n",
       "<style scoped>\n",
       "    .dataframe tbody tr th:only-of-type {\n",
       "        vertical-align: middle;\n",
       "    }\n",
       "\n",
       "    .dataframe tbody tr th {\n",
       "        vertical-align: top;\n",
       "    }\n",
       "\n",
       "    .dataframe thead th {\n",
       "        text-align: right;\n",
       "    }\n",
       "</style>\n",
       "<table border=\"1\" class=\"dataframe\">\n",
       "  <thead>\n",
       "    <tr style=\"text-align: right;\">\n",
       "      <th></th>\n",
       "      <th>Symbol</th>\n",
       "      <th>Open</th>\n",
       "      <th>High</th>\n",
       "      <th>Low</th>\n",
       "      <th>Close</th>\n",
       "      <th>Volume</th>\n",
       "      <th>log_volume</th>\n",
       "      <th>Momentum_2Wk</th>\n",
       "    </tr>\n",
       "    <tr>\n",
       "      <th>Date</th>\n",
       "      <th></th>\n",
       "      <th></th>\n",
       "      <th></th>\n",
       "      <th></th>\n",
       "      <th></th>\n",
       "      <th></th>\n",
       "      <th></th>\n",
       "      <th></th>\n",
       "    </tr>\n",
       "  </thead>\n",
       "  <tbody>\n",
       "    <tr>\n",
       "      <th>2020-02-02</th>\n",
       "      <td>AAPL</td>\n",
       "      <td>77.52</td>\n",
       "      <td>77.94</td>\n",
       "      <td>76.22</td>\n",
       "      <td>77.24</td>\n",
       "      <td>161940020.0</td>\n",
       "      <td>18.902737</td>\n",
       "      <td>-2.44</td>\n",
       "    </tr>\n",
       "    <tr>\n",
       "      <th>2020-02-09</th>\n",
       "      <td>AAPL</td>\n",
       "      <td>76.08</td>\n",
       "      <td>78.37</td>\n",
       "      <td>75.56</td>\n",
       "      <td>77.17</td>\n",
       "      <td>173985604.0</td>\n",
       "      <td>18.974483</td>\n",
       "      <td>NaN</td>\n",
       "    </tr>\n",
       "    <tr>\n",
       "      <th>2020-02-16</th>\n",
       "      <td>AAPL</td>\n",
       "      <td>78.54</td>\n",
       "      <td>80.39</td>\n",
       "      <td>78.46</td>\n",
       "      <td>80.39</td>\n",
       "      <td>109348860.0</td>\n",
       "      <td>18.510054</td>\n",
       "      <td>3.15</td>\n",
       "    </tr>\n",
       "    <tr>\n",
       "      <th>2020-02-23</th>\n",
       "      <td>AAPL</td>\n",
       "      <td>78.84</td>\n",
       "      <td>79.94</td>\n",
       "      <td>78.65</td>\n",
       "      <td>79.75</td>\n",
       "      <td>152762180.0</td>\n",
       "      <td>18.844393</td>\n",
       "      <td>2.58</td>\n",
       "    </tr>\n",
       "    <tr>\n",
       "      <th>2020-03-01</th>\n",
       "      <td>AAPL</td>\n",
       "      <td>75.24</td>\n",
       "      <td>75.63</td>\n",
       "      <td>71.53</td>\n",
       "      <td>72.02</td>\n",
       "      <td>230673456.0</td>\n",
       "      <td>19.256514</td>\n",
       "      <td>-8.37</td>\n",
       "    </tr>\n",
       "  </tbody>\n",
       "</table>\n",
       "</div>"
      ],
      "text/plain": [
       "           Symbol   Open   High    Low  Close       Volume  log_volume   \n",
       "Date                                                                     \n",
       "2020-02-02   AAPL  77.52  77.94  76.22  77.24  161940020.0   18.902737  \\\n",
       "2020-02-09   AAPL  76.08  78.37  75.56  77.17  173985604.0   18.974483   \n",
       "2020-02-16   AAPL  78.54  80.39  78.46  80.39  109348860.0   18.510054   \n",
       "2020-02-23   AAPL  78.84  79.94  78.65  79.75  152762180.0   18.844393   \n",
       "2020-03-01   AAPL  75.24  75.63  71.53  72.02  230673456.0   19.256514   \n",
       "\n",
       "            Momentum_2Wk  \n",
       "Date                      \n",
       "2020-02-02         -2.44  \n",
       "2020-02-09           NaN  \n",
       "2020-02-16          3.15  \n",
       "2020-02-23          2.58  \n",
       "2020-03-01         -8.37  "
      ]
     },
     "execution_count": 10,
     "metadata": {},
     "output_type": "execute_result"
    }
   ],
   "source": [
    "#Introduce a common financial statistic, 10 or 30 day momentum\n",
    "#shift pulls the close for a stock 10 days prior\n",
    "df['Momentum_2Wk'] = df['Close'] - df['Close'].shift(2)\n",
    "df.tail()"
   ]
  },
  {
   "cell_type": "code",
   "execution_count": 11,
   "metadata": {},
   "outputs": [
    {
     "data": {
      "text/html": [
       "<div>\n",
       "<style scoped>\n",
       "    .dataframe tbody tr th:only-of-type {\n",
       "        vertical-align: middle;\n",
       "    }\n",
       "\n",
       "    .dataframe tbody tr th {\n",
       "        vertical-align: top;\n",
       "    }\n",
       "\n",
       "    .dataframe thead th {\n",
       "        text-align: right;\n",
       "    }\n",
       "</style>\n",
       "<table border=\"1\" class=\"dataframe\">\n",
       "  <thead>\n",
       "    <tr style=\"text-align: right;\">\n",
       "      <th></th>\n",
       "      <th>Symbol</th>\n",
       "      <th>Open</th>\n",
       "      <th>High</th>\n",
       "      <th>Low</th>\n",
       "      <th>Close</th>\n",
       "      <th>Volume</th>\n",
       "      <th>log_volume</th>\n",
       "      <th>Momentum_2Wk</th>\n",
       "      <th>Momentum_5Wk</th>\n",
       "    </tr>\n",
       "    <tr>\n",
       "      <th>Date</th>\n",
       "      <th></th>\n",
       "      <th></th>\n",
       "      <th></th>\n",
       "      <th></th>\n",
       "      <th></th>\n",
       "      <th></th>\n",
       "      <th></th>\n",
       "      <th></th>\n",
       "      <th></th>\n",
       "    </tr>\n",
       "  </thead>\n",
       "  <tbody>\n",
       "    <tr>\n",
       "      <th>2020-02-02</th>\n",
       "      <td>AAPL</td>\n",
       "      <td>77.52</td>\n",
       "      <td>77.94</td>\n",
       "      <td>76.22</td>\n",
       "      <td>77.24</td>\n",
       "      <td>161940020.0</td>\n",
       "      <td>18.902737</td>\n",
       "      <td>-2.44</td>\n",
       "      <td>4.76</td>\n",
       "    </tr>\n",
       "    <tr>\n",
       "      <th>2020-02-09</th>\n",
       "      <td>AAPL</td>\n",
       "      <td>76.08</td>\n",
       "      <td>78.37</td>\n",
       "      <td>75.56</td>\n",
       "      <td>77.17</td>\n",
       "      <td>173985604.0</td>\n",
       "      <td>18.974483</td>\n",
       "      <td>NaN</td>\n",
       "      <td>2.81</td>\n",
       "    </tr>\n",
       "    <tr>\n",
       "      <th>2020-02-16</th>\n",
       "      <td>AAPL</td>\n",
       "      <td>78.54</td>\n",
       "      <td>80.39</td>\n",
       "      <td>78.46</td>\n",
       "      <td>80.39</td>\n",
       "      <td>109348860.0</td>\n",
       "      <td>18.510054</td>\n",
       "      <td>3.15</td>\n",
       "      <td>2.81</td>\n",
       "    </tr>\n",
       "    <tr>\n",
       "      <th>2020-02-23</th>\n",
       "      <td>AAPL</td>\n",
       "      <td>78.84</td>\n",
       "      <td>79.94</td>\n",
       "      <td>78.65</td>\n",
       "      <td>79.75</td>\n",
       "      <td>152762180.0</td>\n",
       "      <td>18.844393</td>\n",
       "      <td>2.58</td>\n",
       "      <td>0.07</td>\n",
       "    </tr>\n",
       "    <tr>\n",
       "      <th>2020-03-01</th>\n",
       "      <td>AAPL</td>\n",
       "      <td>75.24</td>\n",
       "      <td>75.63</td>\n",
       "      <td>71.53</td>\n",
       "      <td>72.02</td>\n",
       "      <td>230673456.0</td>\n",
       "      <td>19.256514</td>\n",
       "      <td>-8.37</td>\n",
       "      <td>NaN</td>\n",
       "    </tr>\n",
       "  </tbody>\n",
       "</table>\n",
       "</div>"
      ],
      "text/plain": [
       "           Symbol   Open   High    Low  Close       Volume  log_volume   \n",
       "Date                                                                     \n",
       "2020-02-02   AAPL  77.52  77.94  76.22  77.24  161940020.0   18.902737  \\\n",
       "2020-02-09   AAPL  76.08  78.37  75.56  77.17  173985604.0   18.974483   \n",
       "2020-02-16   AAPL  78.54  80.39  78.46  80.39  109348860.0   18.510054   \n",
       "2020-02-23   AAPL  78.84  79.94  78.65  79.75  152762180.0   18.844393   \n",
       "2020-03-01   AAPL  75.24  75.63  71.53  72.02  230673456.0   19.256514   \n",
       "\n",
       "            Momentum_2Wk  Momentum_5Wk  \n",
       "Date                                    \n",
       "2020-02-02         -2.44          4.76  \n",
       "2020-02-09           NaN          2.81  \n",
       "2020-02-16          3.15          2.81  \n",
       "2020-02-23          2.58          0.07  \n",
       "2020-03-01         -8.37           NaN  "
      ]
     },
     "execution_count": 11,
     "metadata": {},
     "output_type": "execute_result"
    }
   ],
   "source": [
    "df['Momentum_5Wk'] = df['Close'] - df['Close'].shift(5)\n",
    "df.tail()"
   ]
  },
  {
   "cell_type": "code",
   "execution_count": 12,
   "metadata": {},
   "outputs": [
    {
     "data": {
      "text/html": [
       "<div>\n",
       "<style scoped>\n",
       "    .dataframe tbody tr th:only-of-type {\n",
       "        vertical-align: middle;\n",
       "    }\n",
       "\n",
       "    .dataframe tbody tr th {\n",
       "        vertical-align: top;\n",
       "    }\n",
       "\n",
       "    .dataframe thead th {\n",
       "        text-align: right;\n",
       "    }\n",
       "</style>\n",
       "<table border=\"1\" class=\"dataframe\">\n",
       "  <thead>\n",
       "    <tr style=\"text-align: right;\">\n",
       "      <th></th>\n",
       "      <th>Symbol</th>\n",
       "      <th>Open</th>\n",
       "      <th>High</th>\n",
       "      <th>Low</th>\n",
       "      <th>Close</th>\n",
       "      <th>Volume</th>\n",
       "      <th>log_volume</th>\n",
       "      <th>Momentum_2Wk</th>\n",
       "      <th>Momentum_5Wk</th>\n",
       "    </tr>\n",
       "    <tr>\n",
       "      <th>Date</th>\n",
       "      <th></th>\n",
       "      <th></th>\n",
       "      <th></th>\n",
       "      <th></th>\n",
       "      <th></th>\n",
       "      <th></th>\n",
       "      <th></th>\n",
       "      <th></th>\n",
       "      <th></th>\n",
       "    </tr>\n",
       "  </thead>\n",
       "  <tbody>\n",
       "    <tr>\n",
       "      <th>2009-11-08</th>\n",
       "      <td>AAPL</td>\n",
       "      <td>6.88</td>\n",
       "      <td>6.97</td>\n",
       "      <td>6.87</td>\n",
       "      <td>6.94</td>\n",
       "      <td>295229452.0</td>\n",
       "      <td>19.503263</td>\n",
       "      <td>-0.34</td>\n",
       "      <td>0.34</td>\n",
       "    </tr>\n",
       "    <tr>\n",
       "      <th>2009-11-15</th>\n",
       "      <td>AAPL</td>\n",
       "      <td>7.25</td>\n",
       "      <td>7.32</td>\n",
       "      <td>7.22</td>\n",
       "      <td>7.30</td>\n",
       "      <td>343331044.0</td>\n",
       "      <td>19.654206</td>\n",
       "      <td>0.57</td>\n",
       "      <td>0.50</td>\n",
       "    </tr>\n",
       "    <tr>\n",
       "      <th>2009-11-22</th>\n",
       "      <td>AAPL</td>\n",
       "      <td>7.11</td>\n",
       "      <td>7.16</td>\n",
       "      <td>7.06</td>\n",
       "      <td>7.14</td>\n",
       "      <td>406890260.0</td>\n",
       "      <td>19.824054</td>\n",
       "      <td>0.20</td>\n",
       "      <td>0.42</td>\n",
       "    </tr>\n",
       "    <tr>\n",
       "      <th>2009-12-06</th>\n",
       "      <td>AAPL</td>\n",
       "      <td>7.18</td>\n",
       "      <td>7.20</td>\n",
       "      <td>7.10</td>\n",
       "      <td>7.14</td>\n",
       "      <td>424855704.0</td>\n",
       "      <td>19.867260</td>\n",
       "      <td>0.00</td>\n",
       "      <td>0.41</td>\n",
       "    </tr>\n",
       "    <tr>\n",
       "      <th>2009-12-13</th>\n",
       "      <td>AAPL</td>\n",
       "      <td>6.90</td>\n",
       "      <td>6.92</td>\n",
       "      <td>6.74</td>\n",
       "      <td>6.75</td>\n",
       "      <td>714758640.0</td>\n",
       "      <td>20.387455</td>\n",
       "      <td>NaN</td>\n",
       "      <td>-0.19</td>\n",
       "    </tr>\n",
       "  </tbody>\n",
       "</table>\n",
       "</div>"
      ],
      "text/plain": [
       "           Symbol  Open  High   Low  Close       Volume  log_volume   \n",
       "Date                                                                  \n",
       "2009-11-08   AAPL  6.88  6.97  6.87   6.94  295229452.0   19.503263  \\\n",
       "2009-11-15   AAPL  7.25  7.32  7.22   7.30  343331044.0   19.654206   \n",
       "2009-11-22   AAPL  7.11  7.16  7.06   7.14  406890260.0   19.824054   \n",
       "2009-12-06   AAPL  7.18  7.20  7.10   7.14  424855704.0   19.867260   \n",
       "2009-12-13   AAPL  6.90  6.92  6.74   6.75  714758640.0   20.387455   \n",
       "\n",
       "            Momentum_2Wk  Momentum_5Wk  \n",
       "Date                                    \n",
       "2009-11-08         -0.34          0.34  \n",
       "2009-11-15          0.57          0.50  \n",
       "2009-11-22          0.20          0.42  \n",
       "2009-12-06          0.00          0.41  \n",
       "2009-12-13           NaN         -0.19  "
      ]
     },
     "execution_count": 12,
     "metadata": {},
     "output_type": "execute_result"
    }
   ],
   "source": [
    "#Removing the first month of data for each symbol that would only have zeroes for 30 day momentum\n",
    "df_grouped = df.groupby('Symbol')\n",
    "\n",
    "df = df_grouped.apply(lambda x: x.iloc[30:])\n",
    "\n",
    "df.reset_index(level=0, drop=True, inplace=True)\n",
    "\n",
    "df.head()"
   ]
  },
  {
   "cell_type": "code",
   "execution_count": 13,
   "metadata": {},
   "outputs": [],
   "source": [
    "def clean_dataset(df):\n",
    "    df.dropna(inplace=True)\n",
    "    indices_to_keep = ~df.isin([np.nan, np.inf, -np.inf]).any(axis=1)\n",
    "    return df[indices_to_keep].astype(np.float64)"
   ]
  },
  {
   "cell_type": "code",
   "execution_count": 14,
   "metadata": {},
   "outputs": [
    {
     "name": "stdout",
     "output_type": "stream",
     "text": [
      "(479,)\n",
      "(479, 5)\n"
     ]
    },
    {
     "data": {
      "text/html": [
       "<div>\n",
       "<style scoped>\n",
       "    .dataframe tbody tr th:only-of-type {\n",
       "        vertical-align: middle;\n",
       "    }\n",
       "\n",
       "    .dataframe tbody tr th {\n",
       "        vertical-align: top;\n",
       "    }\n",
       "\n",
       "    .dataframe thead th {\n",
       "        text-align: right;\n",
       "    }\n",
       "</style>\n",
       "<table border=\"1\" class=\"dataframe\">\n",
       "  <thead>\n",
       "    <tr style=\"text-align: right;\">\n",
       "      <th></th>\n",
       "      <th>Close</th>\n",
       "      <th>Volume</th>\n",
       "      <th>log_volume</th>\n",
       "      <th>Momentum_2Wk</th>\n",
       "      <th>Momentum_5Wk</th>\n",
       "    </tr>\n",
       "    <tr>\n",
       "      <th>Date</th>\n",
       "      <th></th>\n",
       "      <th></th>\n",
       "      <th></th>\n",
       "      <th></th>\n",
       "      <th></th>\n",
       "    </tr>\n",
       "  </thead>\n",
       "  <tbody>\n",
       "    <tr>\n",
       "      <th>2019-12-08</th>\n",
       "      <td>65.44</td>\n",
       "      <td>67241552.0</td>\n",
       "      <td>18.023802</td>\n",
       "      <td>-1.13</td>\n",
       "      <td>4.62</td>\n",
       "    </tr>\n",
       "    <tr>\n",
       "      <th>2019-12-15</th>\n",
       "      <td>67.69</td>\n",
       "      <td>78893564.0</td>\n",
       "      <td>18.183610</td>\n",
       "      <td>1.62</td>\n",
       "      <td>3.41</td>\n",
       "    </tr>\n",
       "    <tr>\n",
       "      <th>2019-12-22</th>\n",
       "      <td>69.94</td>\n",
       "      <td>116098748.0</td>\n",
       "      <td>18.569952</td>\n",
       "      <td>4.50</td>\n",
       "      <td>4.45</td>\n",
       "    </tr>\n",
       "    <tr>\n",
       "      <th>2019-12-29</th>\n",
       "      <td>72.48</td>\n",
       "      <td>93336016.0</td>\n",
       "      <td>18.351717</td>\n",
       "      <td>4.79</td>\n",
       "      <td>5.91</td>\n",
       "    </tr>\n",
       "    <tr>\n",
       "      <th>2020-01-05</th>\n",
       "      <td>74.36</td>\n",
       "      <td>146535512.0</td>\n",
       "      <td>18.802778</td>\n",
       "      <td>4.42</td>\n",
       "      <td>8.29</td>\n",
       "    </tr>\n",
       "    <tr>\n",
       "      <th>2020-01-12</th>\n",
       "      <td>77.58</td>\n",
       "      <td>140869088.0</td>\n",
       "      <td>18.763342</td>\n",
       "      <td>5.10</td>\n",
       "      <td>12.14</td>\n",
       "    </tr>\n",
       "    <tr>\n",
       "      <th>2020-01-19</th>\n",
       "      <td>79.68</td>\n",
       "      <td>137816468.0</td>\n",
       "      <td>18.741433</td>\n",
       "      <td>5.32</td>\n",
       "      <td>11.99</td>\n",
       "    </tr>\n",
       "    <tr>\n",
       "      <th>2020-02-02</th>\n",
       "      <td>77.24</td>\n",
       "      <td>161940020.0</td>\n",
       "      <td>18.902737</td>\n",
       "      <td>-2.44</td>\n",
       "      <td>4.76</td>\n",
       "    </tr>\n",
       "    <tr>\n",
       "      <th>2020-02-16</th>\n",
       "      <td>80.39</td>\n",
       "      <td>109348860.0</td>\n",
       "      <td>18.510054</td>\n",
       "      <td>3.15</td>\n",
       "      <td>2.81</td>\n",
       "    </tr>\n",
       "    <tr>\n",
       "      <th>2020-02-23</th>\n",
       "      <td>79.75</td>\n",
       "      <td>152762180.0</td>\n",
       "      <td>18.844393</td>\n",
       "      <td>2.58</td>\n",
       "      <td>0.07</td>\n",
       "    </tr>\n",
       "  </tbody>\n",
       "</table>\n",
       "</div>"
      ],
      "text/plain": [
       "            Close       Volume  log_volume  Momentum_2Wk  Momentum_5Wk\n",
       "Date                                                                  \n",
       "2019-12-08  65.44   67241552.0   18.023802         -1.13          4.62\n",
       "2019-12-15  67.69   78893564.0   18.183610          1.62          3.41\n",
       "2019-12-22  69.94  116098748.0   18.569952          4.50          4.45\n",
       "2019-12-29  72.48   93336016.0   18.351717          4.79          5.91\n",
       "2020-01-05  74.36  146535512.0   18.802778          4.42          8.29\n",
       "2020-01-12  77.58  140869088.0   18.763342          5.10         12.14\n",
       "2020-01-19  79.68  137816468.0   18.741433          5.32         11.99\n",
       "2020-02-02  77.24  161940020.0   18.902737         -2.44          4.76\n",
       "2020-02-16  80.39  109348860.0   18.510054          3.15          2.81\n",
       "2020-02-23  79.75  152762180.0   18.844393          2.58          0.07"
      ]
     },
     "execution_count": 14,
     "metadata": {},
     "output_type": "execute_result"
    }
   ],
   "source": [
    "#Listing the variance in open price explained by each feature we have, using SKLearn\n",
    "features = df.drop(['Symbol', 'High','Low','Open'], axis = 1)\n",
    "features = clean_dataset(features)\n",
    "new_df = df.loc[features.index]\n",
    "target = new_df['Open']\n",
    "print(target.shape)\n",
    "print(features.shape)\n",
    "features.tail(10)"
   ]
  },
  {
   "cell_type": "code",
   "execution_count": 15,
   "metadata": {},
   "outputs": [],
   "source": [
    "# Perform PCA\n",
    "from sklearn.decomposition import PCA\n",
    "pca = PCA(n_components=4)\n",
    "principalComponents = pca.fit_transform(features)"
   ]
  },
  {
   "cell_type": "code",
   "execution_count": 16,
   "metadata": {},
   "outputs": [
    {
     "name": "stdout",
     "output_type": "stream",
     "text": [
      "Mean Absolute Error: 1.11 degrees.\n",
      "Mean Squared Error: 3.51\n"
     ]
    }
   ],
   "source": [
    "from sklearn.model_selection import train_test_split\n",
    "from sklearn.ensemble import RandomForestRegressor\n",
    "from sklearn.metrics import mean_squared_error\n",
    "\n",
    "# Suppose 'Open' is what we want to predict\n",
    "\n",
    "# Split the data into training and test sets\n",
    "X_train, X_test, y_train, y_test = train_test_split(principalComponents, target, test_size=0.2, random_state=42)\n",
    "\n",
    "# Instantiate model with 1000 decision trees\n",
    "rf = RandomForestRegressor(n_estimators=1000, random_state=42)\n",
    "\n",
    "# Train the model on training data\n",
    "rf.fit(X_train, y_train)\n",
    "\n",
    "# Use the forest's predict method on the test data\n",
    "predictions = rf.predict(X_test)\n",
    "\n",
    "# Calculate the absolute errors\n",
    "errors = abs(predictions - y_test)\n",
    "\n",
    "# Print out the mean absolute error (mae)\n",
    "print('Mean Absolute Error:', round(np.mean(errors), 2), 'degrees.')\n",
    "\n",
    "# We could also use mean squared error for loss calculation\n",
    "mse = mean_squared_error(y_test, predictions)\n",
    "print('Mean Squared Error:', round(mse, 2))\n"
   ]
  },
  {
   "cell_type": "code",
   "execution_count": 17,
   "metadata": {},
   "outputs": [],
   "source": [
    "import numpy as np\n",
    "import pandas as pd\n",
    "import matplotlib.pyplot as plt\n",
    "from sklearn.datasets import load_iris\n",
    "from sklearn.model_selection import train_test_split\n",
    "from sklearn.naive_bayes import GaussianNB\n",
    "from sklearn.metrics import accuracy_score"
   ]
  },
  {
   "cell_type": "code",
   "execution_count": 18,
   "metadata": {},
   "outputs": [
    {
     "name": "stdout",
     "output_type": "stream",
     "text": [
      "0.010416666666666666\n"
     ]
    }
   ],
   "source": [
    "\n",
    "gnb = GaussianNB()\n",
    "\n",
    "y_pred =gnb.fit(X_train, y_train.astype(int)).predict(X_test)\n",
    "# mean_squared_error(y_test, predictions)\n",
    "print(accuracy_score(y_test.astype(int), y_pred))"
   ]
  },
  {
   "cell_type": "code",
   "execution_count": 19,
   "metadata": {},
   "outputs": [
    {
     "name": "stdout",
     "output_type": "stream",
     "text": [
      "Average training time:  7.4579213000019084\n"
     ]
    }
   ],
   "source": [
    "from timeit import Timer\n",
    "\n",
    "t = Timer(lambda: rf.fit(X_train, y_train))\n",
    "train_time = t.timeit(number=10) / 10\n",
    "\n",
    "print(\"Average training time: \", train_time)"
   ]
  },
  {
   "cell_type": "code",
   "execution_count": null,
   "metadata": {},
   "outputs": [],
   "source": []
  },
  {
   "cell_type": "code",
   "execution_count": 20,
   "metadata": {},
   "outputs": [],
   "source": [
    "import matplotlib.pyplot as plt\n",
    "\n",
    "# Plot predicted vs actual\n",
    "# plt.scatter(y_test, predictions)\n",
    "# plt.xlabel(\"Actual Values\")\n",
    "# plt.ylabel(\"Predicted Values\")\n",
    "# plt.title(\"Actual vs Predicted\")\n"
   ]
  },
  {
   "cell_type": "code",
   "execution_count": 21,
   "metadata": {},
   "outputs": [],
   "source": [
    "\n",
    "# Plot residuals \n",
    "residuals = y_test - predictions\n",
    "# plt.hist(residuals, bins=25)\n",
    "# plt.xlabel(\"Residuals\")\n",
    "# plt.ylabel(\"Frequency\")\n",
    "# plt.title(\"Residual Distribution\")"
   ]
  },
  {
   "cell_type": "code",
   "execution_count": 22,
   "metadata": {},
   "outputs": [
    {
     "name": "stdout",
     "output_type": "stream",
     "text": [
      "MAE: 1.11\n",
      "MSE: 3.5078644451000756\n"
     ]
    }
   ],
   "source": [
    "# Summary metrics\n",
    "print(\"MAE:\", round(np.mean(errors), 2)) \n",
    "print(\"MSE:\", mean_squared_error(y_test, predictions))\n",
    "\n",
    "# Plot feature importance\n",
    "importances = rf.feature_importances_\n",
    "indices = np.argsort(importances)\n",
    "# plt.barh(range(len(indices)), importances[indices], color='b', align='center')\n",
    "# plt.yticks(range(len(indices)), [features.columns[i] for i in indices])\n",
    "# plt.title(\"Feature Importance\")\n",
    "# print(importances)"
   ]
  },
  {
   "cell_type": "code",
   "execution_count": 23,
   "metadata": {},
   "outputs": [
    {
     "data": {
      "text/plain": [
       "<Axes: xlabel='Open'>"
      ]
     },
     "execution_count": 23,
     "metadata": {},
     "output_type": "execute_result"
    },
    {
     "data": {
      "image/png": "[encoded data removed]",
      "text/plain": [
       "<Figure size 640x480 with 1 Axes>"
      ]
     },
     "metadata": {},
     "output_type": "display_data"
    }
   ],
   "source": [
    "import seaborn as sns\n",
    "import plotly.express as px\n",
    "\n",
    "# Use seaborn styling \n",
    "sns.set_style('darkgrid') \n",
    "\n",
    "# Scatter plot with seaborn\n",
    "sns.scatterplot(x=y_test, y=predictions)\n"
   ]
  },
  {
   "cell_type": "code",
   "execution_count": 24,
   "metadata": {},
   "outputs": [
    {
     "name": "stderr",
     "output_type": "stream",
     "text": [
      "C:\\Users\\bmcne\\AppData\\Local\\Temp\\ipykernel_12476\\466109762.py:1: UserWarning: \n",
      "\n",
      "`distplot` is a deprecated function and will be removed in seaborn v0.14.0.\n",
      "\n",
      "Please adapt your code to use either `displot` (a figure-level function with\n",
      "similar flexibility) or `histplot` (an axes-level function for histograms).\n",
      "\n",
      "For a guide to updating your code to use the new functions, please see\n",
      "https://gist.github.com/mwaskom/de44147ed2974457ad6372750bbe5751\n",
      "\n",
      "  sns.distplot(residuals, bins=25, kde=True)\n"
     ]
    },
    {
     "data": {
      "text/plain": [
       "Text(0, 0.5, 'Density')"
      ]
     },
     "execution_count": 24,
     "metadata": {},
     "output_type": "execute_result"
    },
    {
     "data": {
      "image/png": "[encoded data removed]",
      "text/plain": [
       "<Figure size 640x480 with 1 Axes>"
      ]
     },
     "metadata": {},
     "output_type": "display_data"
    }
   ],
   "source": [
    "\n",
    "sns.distplot(residuals, bins=25, kde=True)\n",
    "\n",
    "# Add plot title\n",
    "plt.title(\"Distribution of Residuals\")\n",
    "\n",
    "# Label axes\n",
    "plt.xlabel(\"Residuals\")  \n",
    "plt.ylabel(\"Density\")"
   ]
  },
  {
   "cell_type": "code",
   "execution_count": 25,
   "metadata": {},
   "outputs": [
    {
     "data": {
      "application/vnd.plotly.v1+json": {
       "config": {
        "plotlyServerURL": "https://plot.ly"
       },
       "data": [
        {
         "alignmentgroup": "True",
         "hovertemplate": "x=%{x}<br>y=%{y}<extra></extra>",
         "legendgroup": "",
         "marker": {
          "color": "#636efa",
          "pattern": {
           "shape": ""
          }
         },
         "name": "",
         "offsetgroup": "",
         "orientation": "h",
         "showlegend": false,
         "textposition": "auto",
         "type": "bar",
         "x": [
          0.6179207000682786,
          0.368006087399638,
          0.009296039231791361,
          0.004777173300292083
         ],
         "xaxis": "x",
         "y": [
          "Momentum_2Wk",
          "log_volume",
          "Volume",
          "Close"
         ],
         "yaxis": "y"
        }
       ],
       "layout": {
        "barmode": "relative",
        "legend": {
         "tracegroupgap": 0
        },
        "template": {
         "data": {
          "bar": [
           {
            "error_x": {
             "color": "#2a3f5f"
            },
            "error_y": {
             "color": "#2a3f5f"
            },
            "marker": {
             "line": {
              "color": "#E5ECF6",
              "width": 0.5
             },
             "pattern": {
              "fillmode": "overlay",
              "size": 10,
              "solidity": 0.2
             }
            },
            "type": "bar"
           }
          ],
          "barpolar": [
           {
            "marker": {
             "line": {
              "color": "#E5ECF6",
              "width": 0.5
             },
             "pattern": {
              "fillmode": "overlay",
              "size": 10,
              "solidity": 0.2
             }
            },
            "type": "barpolar"
           }
          ],
          "carpet": [
           {
            "aaxis": {
             "endlinecolor": "#2a3f5f",
             "gridcolor": "white",
             "linecolor": "white",
             "minorgridcolor": "white",
             "startlinecolor": "#2a3f5f"
            },
            "baxis": {
             "endlinecolor": "#2a3f5f",
             "gridcolor": "white",
             "linecolor": "white",
             "minorgridcolor": "white",
             "startlinecolor": "#2a3f5f"
            },
            "type": "carpet"
           }
          ],
          "choropleth": [
           {
            "colorbar": {
             "outlinewidth": 0,
             "ticks": ""
            },
            "type": "choropleth"
           }
          ],
          "contour": [
           {
            "colorbar": {
             "outlinewidth": 0,
             "ticks": ""
            },
            "colorscale": [
             [
              0,
              "#0d0887"
             ],
             [
              0.1111111111111111,
              "#46039f"
             ],
             [
              0.2222222222222222,
              "#7201a8"
             ],
             [
              0.3333333333333333,
              "#9c179e"
             ],
             [
              0.4444444444444444,
              "#bd3786"
             ],
             [
              0.5555555555555556,
              "#d8576b"
             ],
             [
              0.6666666666666666,
              "#ed7953"
             ],
             [
              0.7777777777777778,
              "#fb9f3a"
             ],
             [
              0.8888888888888888,
              "#fdca26"
             ],
             [
              1,
              "#f0f921"
             ]
            ],
            "type": "contour"
           }
          ],
          "contourcarpet": [
           {
            "colorbar": {
             "outlinewidth": 0,
             "ticks": ""
            },
            "type": "contourcarpet"
           }
          ],
          "heatmap": [
           {
            "colorbar": {
             "outlinewidth": 0,
             "ticks": ""
            },
            "colorscale": [
             [
              0,
              "#0d0887"
             ],
             [
              0.1111111111111111,
              "#46039f"
             ],
             [
              0.2222222222222222,
              "#7201a8"
             ],
             [
              0.3333333333333333,
              "#9c179e"
             ],
             [
              0.4444444444444444,
              "#bd3786"
             ],
             [
              0.5555555555555556,
              "#d8576b"
             ],
             [
              0.6666666666666666,
              "#ed7953"
             ],
             [
              0.7777777777777778,
              "#fb9f3a"
             ],
             [
              0.8888888888888888,
              "#fdca26"
             ],
             [
              1,
              "#f0f921"
             ]
            ],
            "type": "heatmap"
           }
          ],
          "heatmapgl": [
           {
            "colorbar": {
             "outlinewidth": 0,
             "ticks": ""
            },
            "colorscale": [
             [
              0,
              "#0d0887"
             ],
             [
              0.1111111111111111,
              "#46039f"
             ],
             [
              0.2222222222222222,
              "#7201a8"
             ],
             [
              0.3333333333333333,
              "#9c179e"
             ],
             [
              0.4444444444444444,
              "#bd3786"
             ],
             [
              0.5555555555555556,
              "#d8576b"
             ],
             [
              0.6666666666666666,
              "#ed7953"
             ],
             [
              0.7777777777777778,
              "#fb9f3a"
             ],
             [
              0.8888888888888888,
              "#fdca26"
             ],
             [
              1,
              "#f0f921"
             ]
            ],
            "type": "heatmapgl"
           }
          ],
          "histogram": [
           {
            "marker": {
             "pattern": {
              "fillmode": "overlay",
              "size": 10,
              "solidity": 0.2
             }
            },
            "type": "histogram"
           }
          ],
          "histogram2d": [
           {
            "colorbar": {
             "outlinewidth": 0,
             "ticks": ""
            },
            "colorscale": [
             [
              0,
              "#0d0887"
             ],
             [
              0.1111111111111111,
              "#46039f"
             ],
             [
              0.2222222222222222,
              "#7201a8"
             ],
             [
              0.3333333333333333,
              "#9c179e"
             ],
             [
              0.4444444444444444,
              "#bd3786"
             ],
             [
              0.5555555555555556,
              "#d8576b"
             ],
             [
              0.6666666666666666,
              "#ed7953"
             ],
             [
              0.7777777777777778,
              "#fb9f3a"
             ],
             [
              0.8888888888888888,
              "#fdca26"
             ],
             [
              1,
              "#f0f921"
             ]
            ],
            "type": "histogram2d"
           }
          ],
          "histogram2dcontour": [
           {
            "colorbar": {
             "outlinewidth": 0,
             "ticks": ""
            },
            "colorscale": [
             [
              0,
              "#0d0887"
             ],
             [
              0.1111111111111111,
              "#46039f"
             ],
             [
              0.2222222222222222,
              "#7201a8"
             ],
             [
              0.3333333333333333,
              "#9c179e"
             ],
             [
              0.4444444444444444,
              "#bd3786"
             ],
             [
              0.5555555555555556,
              "#d8576b"
             ],
             [
              0.6666666666666666,
              "#ed7953"
             ],
             [
              0.7777777777777778,
              "#fb9f3a"
             ],
             [
              0.8888888888888888,
              "#fdca26"
             ],
             [
              1,
              "#f0f921"
             ]
            ],
            "type": "histogram2dcontour"
           }
          ],
          "mesh3d": [
           {
            "colorbar": {
             "outlinewidth": 0,
             "ticks": ""
            },
            "type": "mesh3d"
           }
          ],
          "parcoords": [
           {
            "line": {
             "colorbar": {
              "outlinewidth": 0,
              "ticks": ""
             }
            },
            "type": "parcoords"
           }
          ],
          "pie": [
           {
            "automargin": true,
            "type": "pie"
           }
          ],
          "scatter": [
           {
            "fillpattern": {
             "fillmode": "overlay",
             "size": 10,
             "solidity": 0.2
            },
            "type": "scatter"
           }
          ],
          "scatter3d": [
           {
            "line": {
             "colorbar": {
              "outlinewidth": 0,
              "ticks": ""
             }
            },
            "marker": {
             "colorbar": {
              "outlinewidth": 0,
              "ticks": ""
             }
            },
            "type": "scatter3d"
           }
          ],
          "scattercarpet": [
           {
            "marker": {
             "colorbar": {
              "outlinewidth": 0,
              "ticks": ""
             }
            },
            "type": "scattercarpet"
           }
          ],
          "scattergeo": [
           {
            "marker": {
             "colorbar": {
              "outlinewidth": 0,
              "ticks": ""
             }
            },
            "type": "scattergeo"
           }
          ],
          "scattergl": [
           {
            "marker": {
             "colorbar": {
              "outlinewidth": 0,
              "ticks": ""
             }
            },
            "type": "scattergl"
           }
          ],
          "scattermapbox": [
           {
            "marker": {
             "colorbar": {
              "outlinewidth": 0,
              "ticks": ""
             }
            },
            "type": "scattermapbox"
           }
          ],
          "scatterpolar": [
           {
            "marker": {
             "colorbar": {
              "outlinewidth": 0,
              "ticks": ""
             }
            },
            "type": "scatterpolar"
           }
          ],
          "scatterpolargl": [
           {
            "marker": {
             "colorbar": {
              "outlinewidth": 0,
              "ticks": ""
             }
            },
            "type": "scatterpolargl"
           }
          ],
          "scatterternary": [
           {
            "marker": {
             "colorbar": {
              "outlinewidth": 0,
              "ticks": ""
             }
            },
            "type": "scatterternary"
           }
          ],
          "surface": [
           {
            "colorbar": {
             "outlinewidth": 0,
             "ticks": ""
            },
            "colorscale": [
             [
              0,
              "#0d0887"
             ],
             [
              0.1111111111111111,
              "#46039f"
             ],
             [
              0.2222222222222222,
              "#7201a8"
             ],
             [
              0.3333333333333333,
              "#9c179e"
             ],
             [
              0.4444444444444444,
              "#bd3786"
             ],
             [
              0.5555555555555556,
              "#d8576b"
             ],
             [
              0.6666666666666666,
              "#ed7953"
             ],
             [
              0.7777777777777778,
              "#fb9f3a"
             ],
             [
              0.8888888888888888,
              "#fdca26"
             ],
             [
              1,
              "#f0f921"
             ]
            ],
            "type": "surface"
           }
          ],
          "table": [
           {
            "cells": {
             "fill": {
              "color": "#EBF0F8"
             },
             "line": {
              "color": "white"
             }
            },
            "header": {
             "fill": {
              "color": "#C8D4E3"
             },
             "line": {
              "color": "white"
             }
            },
            "type": "table"
           }
          ]
         },
         "layout": {
          "annotationdefaults": {
           "arrowcolor": "#2a3f5f",
           "arrowhead": 0,
           "arrowwidth": 1
          },
          "autotypenumbers": "strict",
          "coloraxis": {
           "colorbar": {
            "outlinewidth": 0,
            "ticks": ""
           }
          },
          "colorscale": {
           "diverging": [
            [
             0,
             "#8e0152"
            ],
            [
             0.1,
             "#c51b7d"
            ],
            [
             0.2,
             "#de77ae"
            ],
            [
             0.3,
             "#f1b6da"
            ],
            [
             0.4,
             "#fde0ef"
            ],
            [
             0.5,
             "#f7f7f7"
            ],
            [
             0.6,
             "#e6f5d0"
            ],
            [
             0.7,
             "#b8e186"
            ],
            [
             0.8,
             "#7fbc41"
            ],
            [
             0.9,
             "#4d9221"
            ],
            [
             1,
             "#276419"
            ]
           ],
           "sequential": [
            [
             0,
             "#0d0887"
            ],
            [
             0.1111111111111111,
             "#46039f"
            ],
            [
             0.2222222222222222,
             "#7201a8"
            ],
            [
             0.3333333333333333,
             "#9c179e"
            ],
            [
             0.4444444444444444,
             "#bd3786"
            ],
            [
             0.5555555555555556,
             "#d8576b"
            ],
            [
             0.6666666666666666,
             "#ed7953"
            ],
            [
             0.7777777777777778,
             "#fb9f3a"
            ],
            [
             0.8888888888888888,
             "#fdca26"
            ],
            [
             1,
             "#f0f921"
            ]
           ],
           "sequentialminus": [
            [
             0,
             "#0d0887"
            ],
            [
             0.1111111111111111,
             "#46039f"
            ],
            [
             0.2222222222222222,
             "#7201a8"
            ],
            [
             0.3333333333333333,
             "#9c179e"
            ],
            [
             0.4444444444444444,
             "#bd3786"
            ],
            [
             0.5555555555555556,
             "#d8576b"
            ],
            [
             0.6666666666666666,
             "#ed7953"
            ],
            [
             0.7777777777777778,
             "#fb9f3a"
            ],
            [
             0.8888888888888888,
             "#fdca26"
            ],
            [
             1,
             "#f0f921"
            ]
           ]
          },
          "colorway": [
           "#636efa",
           "#EF553B",
           "#00cc96",
           "#ab63fa",
           "#FFA15A",
           "#19d3f3",
           "#FF6692",
           "#B6E880",
           "#FF97FF",
           "#FECB52"
          ],
          "font": {
           "color": "#2a3f5f"
          },
          "geo": {
           "bgcolor": "white",
           "lakecolor": "white",
           "landcolor": "#E5ECF6",
           "showlakes": true,
           "showland": true,
           "subunitcolor": "white"
          },
          "hoverlabel": {
           "align": "left"
          },
          "hovermode": "closest",
          "mapbox": {
           "style": "light"
          },
          "paper_bgcolor": "white",
          "plot_bgcolor": "#E5ECF6",
          "polar": {
           "angularaxis": {
            "gridcolor": "white",
            "linecolor": "white",
            "ticks": ""
           },
           "bgcolor": "#E5ECF6",
           "radialaxis": {
            "gridcolor": "white",
            "linecolor": "white",
            "ticks": ""
           }
          },
          "scene": {
           "xaxis": {
            "backgroundcolor": "#E5ECF6",
            "gridcolor": "white",
            "gridwidth": 2,
            "linecolor": "white",
            "showbackground": true,
            "ticks": "",
            "zerolinecolor": "white"
           },
           "yaxis": {
            "backgroundcolor": "#E5ECF6",
            "gridcolor": "white",
            "gridwidth": 2,
            "linecolor": "white",
            "showbackground": true,
            "ticks": "",
            "zerolinecolor": "white"
           },
           "zaxis": {
            "backgroundcolor": "#E5ECF6",
            "gridcolor": "white",
            "gridwidth": 2,
            "linecolor": "white",
            "showbackground": true,
            "ticks": "",
            "zerolinecolor": "white"
           }
          },
          "shapedefaults": {
           "line": {
            "color": "#2a3f5f"
           }
          },
          "ternary": {
           "aaxis": {
            "gridcolor": "white",
            "linecolor": "white",
            "ticks": ""
           },
           "baxis": {
            "gridcolor": "white",
            "linecolor": "white",
            "ticks": ""
           },
           "bgcolor": "#E5ECF6",
           "caxis": {
            "gridcolor": "white",
            "linecolor": "white",
            "ticks": ""
           }
          },
          "title": {
           "x": 0.05
          },
          "xaxis": {
           "automargin": true,
           "gridcolor": "white",
           "linecolor": "white",
           "ticks": "",
           "title": {
            "standoff": 15
           },
           "zerolinecolor": "white",
           "zerolinewidth": 2
          },
          "yaxis": {
           "automargin": true,
           "gridcolor": "white",
           "linecolor": "white",
           "ticks": "",
           "title": {
            "standoff": 15
           },
           "zerolinecolor": "white",
           "zerolinewidth": 2
          }
         }
        },
        "title": {
         "text": "Feature Importance"
        },
        "xaxis": {
         "anchor": "y",
         "domain": [
          0,
          1
         ],
         "title": {
          "text": "x"
         }
        },
        "yaxis": {
         "anchor": "x",
         "domain": [
          0,
          1
         ],
         "title": {
          "text": "Features"
         }
        }
       }
      }
     },
     "metadata": {},
     "output_type": "display_data"
    }
   ],
   "source": [
    "\n",
    "# Feature importance horizontal bar chart\n",
    "feature_names = [features.columns[i] for i in indices]\n",
    "labels={'y': feature_names}\n",
    "fig = px.bar(x=importances, y=feature_names, orientation='h',\n",
    "             title='Feature Importance')\n",
    "fig.update_layout(yaxis_title=\"Features\")\n",
    "fig.show()\n"
   ]
  },
  {
   "cell_type": "code",
   "execution_count": 26,
   "metadata": {},
   "outputs": [
    {
     "data": {
      "application/vnd.plotly.v1+json": {
       "config": {
        "plotlyServerURL": "https://plot.ly"
       },
       "data": [
        {
         "hovertemplate": "x=%{x}<br>y=%{y}<extra></extra>",
         "legendgroup": "",
         "marker": {
          "color": "#636efa",
          "symbol": "circle"
         },
         "mode": "markers",
         "name": "",
         "orientation": "v",
         "showlegend": false,
         "type": "scatter",
         "x": [
          14.36,
          28.59,
          11.77,
          8.91,
          49.67,
          51.61,
          43.67,
          11.83,
          28.12,
          7.32,
          28.31,
          62.24,
          16.37,
          30.28,
          26.5,
          13.02,
          29.18,
          50.48,
          28.08,
          46.57,
          37.3,
          28.29,
          59.1,
          12.12,
          17.5,
          6.88,
          24.81,
          6.96,
          24.58,
          67.2,
          47.19,
          23.4,
          9.39,
          15.06,
          18.96,
          15.52,
          42.26,
          8.39,
          12.36,
          16.34,
          12,
          9.65,
          47.79,
          41.03,
          12,
          16.32,
          52.46,
          19.48,
          30.58,
          33.88,
          28.42,
          24.9,
          12.73,
          23.83,
          23.55,
          18.74,
          17.09,
          29.2,
          25,
          52.66,
          24.66,
          30.92,
          12.26,
          13.94,
          33.61,
          15.3,
          47,
          74.29,
          21.57,
          44.18,
          71.2,
          65.27,
          21.92,
          14.99,
          28.9,
          11.75,
          47.91,
          8.12,
          77.52,
          39.23,
          8.82,
          24.35,
          42.8,
          12.19,
          22.42,
          21.68,
          26.81,
          77.65,
          42.49,
          51.92,
          9.04,
          31.01,
          43.74,
          40.1,
          10.37,
          25.33
         ],
         "xaxis": "x",
         "y": [
          14.974960000000015,
          28.814900000000094,
          13.689369999999855,
          10.551110000000044,
          50.20678999999938,
          51.23560999999984,
          43.467310000000126,
          11.485989999999997,
          27.038600000000137,
          10.812319999999993,
          27.432090000000247,
          67.85508999999992,
          16.878360000000033,
          29.956279999999758,
          25.480860000000074,
          13.646180000000086,
          30.529009999999886,
          50.225679999999876,
          29.301759999999824,
          44.81330999999997,
          36.78027000000025,
          28.840009999999957,
          56.71541999999953,
          12.788889999999872,
          17.35404000000003,
          11.192640000000045,
          24.397369999999807,
          9.14270999999995,
          24.232460000000014,
          67.83821999999995,
          46.75593999999984,
          23.413020000000074,
          9.871749999999974,
          15.679570000000005,
          18.680970000000087,
          15.277040000000142,
          42.6397399999997,
          9.636660000000067,
          12.799929999999971,
          16.182890000000018,
          11.926380000000014,
          11.065020000000086,
          47.11899000000005,
          39.47671999999997,
          12.931120000000044,
          16.689499999999942,
          51.92765999999961,
          19.193520000000024,
          30.087779999999796,
          33.26366999999988,
          28.540300000000197,
          25.381329999999846,
          11.918220000000092,
          23.649199999999883,
          22.281950000000123,
          18.452130000000107,
          17.335199999999983,
          29.417189999999806,
          24.795239999999943,
          51.168619999999876,
          24.32746000000006,
          31.449279999999792,
          13.19557000000006,
          16.201600000000013,
          23.24339999999995,
          15.08861000000003,
          47.46691000000002,
          75.84871999999973,
          21.819629999999968,
          44.687229999999836,
          67.6872499999997,
          67.2206600000001,
          14.17796999999994,
          14.533510000000044,
          27.14343999999987,
          13.663110000000023,
          46.89197999999982,
          9.71433999999999,
          75.09435999999955,
          38.78756000000015,
          8.76316999999998,
          24.150549999999843,
          43.22986999999993,
          11.742730000000035,
          21.903829999999942,
          20.004609999999992,
          26.09732000000024,
          76.22200999999991,
          43.243510000000015,
          51.12165999999983,
          12.009910000000067,
          31.321549999999956,
          43.153929999999825,
          38.36397999999979,
          11.27864999999998,
          25.190110000000313
         ],
         "yaxis": "y"
        },
        {
         "hovertemplate": "<b>OLS trendline</b><br>y = 0.975436 * x + 0.657984<br>R<sup>2</sup>=0.989035<br><br>x=%{x}<br>y=%{y} <b>(trend)</b><extra></extra>",
         "legendgroup": "",
         "marker": {
          "color": "#636efa",
          "symbol": "circle"
         },
         "mode": "lines",
         "name": "",
         "showlegend": false,
         "type": "scatter",
         "x": [
          6.88,
          6.96,
          7.32,
          8.12,
          8.39,
          8.82,
          8.91,
          9.04,
          9.39,
          9.65,
          10.37,
          11.75,
          11.77,
          11.83,
          12,
          12,
          12.12,
          12.19,
          12.26,
          12.36,
          12.73,
          13.02,
          13.94,
          14.36,
          14.99,
          15.06,
          15.3,
          15.52,
          16.32,
          16.34,
          16.37,
          17.09,
          17.5,
          18.74,
          18.96,
          19.48,
          21.57,
          21.68,
          21.92,
          22.42,
          23.4,
          23.55,
          23.83,
          24.35,
          24.58,
          24.66,
          24.81,
          24.9,
          25,
          25.33,
          26.5,
          26.81,
          28.08,
          28.12,
          28.29,
          28.31,
          28.42,
          28.59,
          28.9,
          29.18,
          29.2,
          30.28,
          30.58,
          30.92,
          31.01,
          33.61,
          33.88,
          37.3,
          39.23,
          40.1,
          41.03,
          42.26,
          42.49,
          42.8,
          43.67,
          43.74,
          44.18,
          46.57,
          47,
          47.19,
          47.79,
          47.91,
          49.67,
          50.48,
          51.61,
          51.92,
          52.46,
          52.66,
          59.1,
          62.24,
          65.27,
          67.2,
          71.2,
          74.29,
          77.52,
          77.65
         ],
         "xaxis": "x",
         "y": [
          7.368986443336343,
          7.447021350637808,
          7.798178433494396,
          8.578527506509035,
          8.841895318651478,
          9.261332945396845,
          9.349122216110992,
          9.47592894047587,
          9.817331659919777,
          10.070945108649534,
          10.773259274362708,
          12.119361425312961,
          12.138870152138328,
          12.197396332614426,
          12.363220510630038,
          12.363220510630038,
          12.480272871582232,
          12.548553415471014,
          12.616833959359795,
          12.714377593486624,
          13.075289039755896,
          13.358165578723701,
          14.255567012690538,
          14.665250276023222,
          15.279775171022253,
          15.348055714911034,
          15.582160436815427,
          15.796756431894451,
          16.57710550490909,
          16.596614231734456,
          16.625877321972506,
          17.32819148768568,
          17.72812038760568,
          18.93766145077837,
          19.1522574458574,
          19.659484343316915,
          21.69814629656766,
          21.805444294107172,
          22.039549016011566,
          22.527267186645716,
          23.483194801088647,
          23.629510252278894,
          23.902632427834014,
          24.409859325293535,
          24.63420968378524,
          24.712244591086705,
          24.85856004227695,
          24.946349312991096,
          25.04389294711793,
          25.365786939736463,
          26.507047459020377,
          26.809432724813547,
          28.048236878224287,
          28.087254331875023,
          28.25307850989063,
          28.272587236715996,
          28.37988523425551,
          28.545709412271123,
          28.848094678064292,
          29.12121685361942,
          29.140725580444784,
          30.194196829014547,
          30.486827731395035,
          30.818476087426262,
          30.90626535814041,
          33.44239984543799,
          33.70576765758043,
          37.04175994471801,
          38.924352083365825,
          39.772981700269256,
          40.68013749764877,
          41.879924197408776,
          42.10427455590049,
          42.40665982169366,
          43.25528943859708,
          43.323569982485864,
          43.75276197264391,
          46.08405482827515,
          46.50349245502051,
          46.68882535986149,
          47.27408716462247,
          47.391139525574665,
          49.10790748620688,
          49.89801092263419,
          51.000253988267374,
          51.30263925406055,
          51.82937487834543,
          52.024462146599085,
          58.30627218436694,
          61.3691422959494,
          64.32471440999234,
          66.20730654864016,
          70.10905191371336,
          73.1231502082324,
          76.273809590529,
          76.4006163148939
         ],
         "yaxis": "y"
        }
       ],
       "layout": {
        "legend": {
         "tracegroupgap": 0
        },
        "margin": {
         "t": 60
        },
        "template": {
         "data": {
          "bar": [
           {
            "error_x": {
             "color": "#2a3f5f"
            },
            "error_y": {
             "color": "#2a3f5f"
            },
            "marker": {
             "line": {
              "color": "#E5ECF6",
              "width": 0.5
             },
             "pattern": {
              "fillmode": "overlay",
              "size": 10,
              "solidity": 0.2
             }
            },
            "type": "bar"
           }
          ],
          "barpolar": [
           {
            "marker": {
             "line": {
              "color": "#E5ECF6",
              "width": 0.5
             },
             "pattern": {
              "fillmode": "overlay",
              "size": 10,
              "solidity": 0.2
             }
            },
            "type": "barpolar"
           }
          ],
          "carpet": [
           {
            "aaxis": {
             "endlinecolor": "#2a3f5f",
             "gridcolor": "white",
             "linecolor": "white",
             "minorgridcolor": "white",
             "startlinecolor": "#2a3f5f"
            },
            "baxis": {
             "endlinecolor": "#2a3f5f",
             "gridcolor": "white",
             "linecolor": "white",
             "minorgridcolor": "white",
             "startlinecolor": "#2a3f5f"
            },
            "type": "carpet"
           }
          ],
          "choropleth": [
           {
            "colorbar": {
             "outlinewidth": 0,
             "ticks": ""
            },
            "type": "choropleth"
           }
          ],
          "contour": [
           {
            "colorbar": {
             "outlinewidth": 0,
             "ticks": ""
            },
            "colorscale": [
             [
              0,
              "#0d0887"
             ],
             [
              0.1111111111111111,
              "#46039f"
             ],
             [
              0.2222222222222222,
              "#7201a8"
             ],
             [
              0.3333333333333333,
              "#9c179e"
             ],
             [
              0.4444444444444444,
              "#bd3786"
             ],
             [
              0.5555555555555556,
              "#d8576b"
             ],
             [
              0.6666666666666666,
              "#ed7953"
             ],
             [
              0.7777777777777778,
              "#fb9f3a"
             ],
             [
              0.8888888888888888,
              "#fdca26"
             ],
             [
              1,
              "#f0f921"
             ]
            ],
            "type": "contour"
           }
          ],
          "contourcarpet": [
           {
            "colorbar": {
             "outlinewidth": 0,
             "ticks": ""
            },
            "type": "contourcarpet"
           }
          ],
          "heatmap": [
           {
            "colorbar": {
             "outlinewidth": 0,
             "ticks": ""
            },
            "colorscale": [
             [
              0,
              "#0d0887"
             ],
             [
              0.1111111111111111,
              "#46039f"
             ],
             [
              0.2222222222222222,
              "#7201a8"
             ],
             [
              0.3333333333333333,
              "#9c179e"
             ],
             [
              0.4444444444444444,
              "#bd3786"
             ],
             [
              0.5555555555555556,
              "#d8576b"
             ],
             [
              0.6666666666666666,
              "#ed7953"
             ],
             [
              0.7777777777777778,
              "#fb9f3a"
             ],
             [
              0.8888888888888888,
              "#fdca26"
             ],
             [
              1,
              "#f0f921"
             ]
            ],
            "type": "heatmap"
           }
          ],
          "heatmapgl": [
           {
            "colorbar": {
             "outlinewidth": 0,
             "ticks": ""
            },
            "colorscale": [
             [
              0,
              "#0d0887"
             ],
             [
              0.1111111111111111,
              "#46039f"
             ],
             [
              0.2222222222222222,
              "#7201a8"
             ],
             [
              0.3333333333333333,
              "#9c179e"
             ],
             [
              0.4444444444444444,
              "#bd3786"
             ],
             [
              0.5555555555555556,
              "#d8576b"
             ],
             [
              0.6666666666666666,
              "#ed7953"
             ],
             [
              0.7777777777777778,
              "#fb9f3a"
             ],
             [
              0.8888888888888888,
              "#fdca26"
             ],
             [
              1,
              "#f0f921"
             ]
            ],
            "type": "heatmapgl"
           }
          ],
          "histogram": [
           {
            "marker": {
             "pattern": {
              "fillmode": "overlay",
              "size": 10,
              "solidity": 0.2
             }
            },
            "type": "histogram"
           }
          ],
          "histogram2d": [
           {
            "colorbar": {
             "outlinewidth": 0,
             "ticks": ""
            },
            "colorscale": [
             [
              0,
              "#0d0887"
             ],
             [
              0.1111111111111111,
              "#46039f"
             ],
             [
              0.2222222222222222,
              "#7201a8"
             ],
             [
              0.3333333333333333,
              "#9c179e"
             ],
             [
              0.4444444444444444,
              "#bd3786"
             ],
             [
              0.5555555555555556,
              "#d8576b"
             ],
             [
              0.6666666666666666,
              "#ed7953"
             ],
             [
              0.7777777777777778,
              "#fb9f3a"
             ],
             [
              0.8888888888888888,
              "#fdca26"
             ],
             [
              1,
              "#f0f921"
             ]
            ],
            "type": "histogram2d"
           }
          ],
          "histogram2dcontour": [
           {
            "colorbar": {
             "outlinewidth": 0,
             "ticks": ""
            },
            "colorscale": [
             [
              0,
              "#0d0887"
             ],
             [
              0.1111111111111111,
              "#46039f"
             ],
             [
              0.2222222222222222,
              "#7201a8"
             ],
             [
              0.3333333333333333,
              "#9c179e"
             ],
             [
              0.4444444444444444,
              "#bd3786"
             ],
             [
              0.5555555555555556,
              "#d8576b"
             ],
             [
              0.6666666666666666,
              "#ed7953"
             ],
             [
              0.7777777777777778,
              "#fb9f3a"
             ],
             [
              0.8888888888888888,
              "#fdca26"
             ],
             [
              1,
              "#f0f921"
             ]
            ],
            "type": "histogram2dcontour"
           }
          ],
          "mesh3d": [
           {
            "colorbar": {
             "outlinewidth": 0,
             "ticks": ""
            },
            "type": "mesh3d"
           }
          ],
          "parcoords": [
           {
            "line": {
             "colorbar": {
              "outlinewidth": 0,
              "ticks": ""
             }
            },
            "type": "parcoords"
           }
          ],
          "pie": [
           {
            "automargin": true,
            "type": "pie"
           }
          ],
          "scatter": [
           {
            "fillpattern": {
             "fillmode": "overlay",
             "size": 10,
             "solidity": 0.2
            },
            "type": "scatter"
           }
          ],
          "scatter3d": [
           {
            "line": {
             "colorbar": {
              "outlinewidth": 0,
              "ticks": ""
             }
            },
            "marker": {
             "colorbar": {
              "outlinewidth": 0,
              "ticks": ""
             }
            },
            "type": "scatter3d"
           }
          ],
          "scattercarpet": [
           {
            "marker": {
             "colorbar": {
              "outlinewidth": 0,
              "ticks": ""
             }
            },
            "type": "scattercarpet"
           }
          ],
          "scattergeo": [
           {
            "marker": {
             "colorbar": {
              "outlinewidth": 0,
              "ticks": ""
             }
            },
            "type": "scattergeo"
           }
          ],
          "scattergl": [
           {
            "marker": {
             "colorbar": {
              "outlinewidth": 0,
              "ticks": ""
             }
            },
            "type": "scattergl"
           }
          ],
          "scattermapbox": [
           {
            "marker": {
             "colorbar": {
              "outlinewidth": 0,
              "ticks": ""
             }
            },
            "type": "scattermapbox"
           }
          ],
          "scatterpolar": [
           {
            "marker": {
             "colorbar": {
              "outlinewidth": 0,
              "ticks": ""
             }
            },
            "type": "scatterpolar"
           }
          ],
          "scatterpolargl": [
           {
            "marker": {
             "colorbar": {
              "outlinewidth": 0,
              "ticks": ""
             }
            },
            "type": "scatterpolargl"
           }
          ],
          "scatterternary": [
           {
            "marker": {
             "colorbar": {
              "outlinewidth": 0,
              "ticks": ""
             }
            },
            "type": "scatterternary"
           }
          ],
          "surface": [
           {
            "colorbar": {
             "outlinewidth": 0,
             "ticks": ""
            },
            "colorscale": [
             [
              0,
              "#0d0887"
             ],
             [
              0.1111111111111111,
              "#46039f"
             ],
             [
              0.2222222222222222,
              "#7201a8"
             ],
             [
              0.3333333333333333,
              "#9c179e"
             ],
             [
              0.4444444444444444,
              "#bd3786"
             ],
             [
              0.5555555555555556,
              "#d8576b"
             ],
             [
              0.6666666666666666,
              "#ed7953"
             ],
             [
              0.7777777777777778,
              "#fb9f3a"
             ],
             [
              0.8888888888888888,
              "#fdca26"
             ],
             [
              1,
              "#f0f921"
             ]
            ],
            "type": "surface"
           }
          ],
          "table": [
           {
            "cells": {
             "fill": {
              "color": "#EBF0F8"
             },
             "line": {
              "color": "white"
             }
            },
            "header": {
             "fill": {
              "color": "#C8D4E3"
             },
             "line": {
              "color": "white"
             }
            },
            "type": "table"
           }
          ]
         },
         "layout": {
          "annotationdefaults": {
           "arrowcolor": "#2a3f5f",
           "arrowhead": 0,
           "arrowwidth": 1
          },
          "autotypenumbers": "strict",
          "coloraxis": {
           "colorbar": {
            "outlinewidth": 0,
            "ticks": ""
           }
          },
          "colorscale": {
           "diverging": [
            [
             0,
             "#8e0152"
            ],
            [
             0.1,
             "#c51b7d"
            ],
            [
             0.2,
             "#de77ae"
            ],
            [
             0.3,
             "#f1b6da"
            ],
            [
             0.4,
             "#fde0ef"
            ],
            [
             0.5,
             "#f7f7f7"
            ],
            [
             0.6,
             "#e6f5d0"
            ],
            [
             0.7,
             "#b8e186"
            ],
            [
             0.8,
             "#7fbc41"
            ],
            [
             0.9,
             "#4d9221"
            ],
            [
             1,
             "#276419"
            ]
           ],
           "sequential": [
            [
             0,
             "#0d0887"
            ],
            [
             0.1111111111111111,
             "#46039f"
            ],
            [
             0.2222222222222222,
             "#7201a8"
            ],
            [
             0.3333333333333333,
             "#9c179e"
            ],
            [
             0.4444444444444444,
             "#bd3786"
            ],
            [
             0.5555555555555556,
             "#d8576b"
            ],
            [
             0.6666666666666666,
             "#ed7953"
            ],
            [
             0.7777777777777778,
             "#fb9f3a"
            ],
            [
             0.8888888888888888,
             "#fdca26"
            ],
            [
             1,
             "#f0f921"
            ]
           ],
           "sequentialminus": [
            [
             0,
             "#0d0887"
            ],
            [
             0.1111111111111111,
             "#46039f"
            ],
            [
             0.2222222222222222,
             "#7201a8"
            ],
            [
             0.3333333333333333,
             "#9c179e"
            ],
            [
             0.4444444444444444,
             "#bd3786"
            ],
            [
             0.5555555555555556,
             "#d8576b"
            ],
            [
             0.6666666666666666,
             "#ed7953"
            ],
            [
             0.7777777777777778,
             "#fb9f3a"
            ],
            [
             0.8888888888888888,
             "#fdca26"
            ],
            [
             1,
             "#f0f921"
            ]
           ]
          },
          "colorway": [
           "#636efa",
           "#EF553B",
           "#00cc96",
           "#ab63fa",
           "#FFA15A",
           "#19d3f3",
           "#FF6692",
           "#B6E880",
           "#FF97FF",
           "#FECB52"
          ],
          "font": {
           "color": "#2a3f5f"
          },
          "geo": {
           "bgcolor": "white",
           "lakecolor": "white",
           "landcolor": "#E5ECF6",
           "showlakes": true,
           "showland": true,
           "subunitcolor": "white"
          },
          "hoverlabel": {
           "align": "left"
          },
          "hovermode": "closest",
          "mapbox": {
           "style": "light"
          },
          "paper_bgcolor": "white",
          "plot_bgcolor": "#E5ECF6",
          "polar": {
           "angularaxis": {
            "gridcolor": "white",
            "linecolor": "white",
            "ticks": ""
           },
           "bgcolor": "#E5ECF6",
           "radialaxis": {
            "gridcolor": "white",
            "linecolor": "white",
            "ticks": ""
           }
          },
          "scene": {
           "xaxis": {
            "backgroundcolor": "#E5ECF6",
            "gridcolor": "white",
            "gridwidth": 2,
            "linecolor": "white",
            "showbackground": true,
            "ticks": "",
            "zerolinecolor": "white"
           },
           "yaxis": {
            "backgroundcolor": "#E5ECF6",
            "gridcolor": "white",
            "gridwidth": 2,
            "linecolor": "white",
            "showbackground": true,
            "ticks": "",
            "zerolinecolor": "white"
           },
           "zaxis": {
            "backgroundcolor": "#E5ECF6",
            "gridcolor": "white",
            "gridwidth": 2,
            "linecolor": "white",
            "showbackground": true,
            "ticks": "",
            "zerolinecolor": "white"
           }
          },
          "shapedefaults": {
           "line": {
            "color": "#2a3f5f"
           }
          },
          "ternary": {
           "aaxis": {
            "gridcolor": "white",
            "linecolor": "white",
            "ticks": ""
           },
           "baxis": {
            "gridcolor": "white",
            "linecolor": "white",
            "ticks": ""
           },
           "bgcolor": "#E5ECF6",
           "caxis": {
            "gridcolor": "white",
            "linecolor": "white",
            "ticks": ""
           }
          },
          "title": {
           "x": 0.05
          },
          "xaxis": {
           "automargin": true,
           "gridcolor": "white",
           "linecolor": "white",
           "ticks": "",
           "title": {
            "standoff": 15
           },
           "zerolinecolor": "white",
           "zerolinewidth": 2
          },
          "yaxis": {
           "automargin": true,
           "gridcolor": "white",
           "linecolor": "white",
           "ticks": "",
           "title": {
            "standoff": 15
           },
           "zerolinecolor": "white",
           "zerolinewidth": 2
          }
         }
        },
        "title": {
         "text": "Open Actual vs Predicted"
        },
        "xaxis": {
         "anchor": "y",
         "domain": [
          0,
          1
         ],
         "title": {
          "text": "Actual Values"
         }
        },
        "yaxis": {
         "anchor": "x",
         "domain": [
          0,
          1
         ],
         "title": {
          "text": "Predicted Values"
         }
        }
       }
      }
     },
     "metadata": {},
     "output_type": "display_data"
    }
   ],
   "source": [
    "\n",
    "# Use plotly express for actual vs predicted\n",
    "fig = px.scatter(x=y_test, y=predictions, trendline='ols')\n",
    "fig.update_layout(title='Open Actual vs Predicted', \n",
    "                   xaxis_title='Actual Values',\n",
    "                   yaxis_title='Predicted Values')\n",
    "fig.show()"
   ]
  },
  {
   "cell_type": "code",
   "execution_count": 27,
   "metadata": {},
   "outputs": [],
   "source": [
    "#sklearn imports\n",
    "from sklearn.decomposition import PCA\n",
    "from sklearn.preprocessing import StandardScaler"
   ]
  },
  {
   "cell_type": "code",
   "execution_count": 28,
   "metadata": {},
   "outputs": [
    {
     "name": "stdout",
     "output_type": "stream",
     "text": [
      "[1.00000000e+00 2.52347735e-15 1.33190927e-16 1.81769614e-17]\n"
     ]
    }
   ],
   "source": [
    "#https://scikit-learn.org/stable/modules/generated/sklearn.decomposition.PCA.html\n",
    "scaler = StandardScaler()\n",
    "\n",
    "features_std = scaler.fit_transform(features)\n",
    "\n",
    "feature_pca = PCA(n_components=4) \n",
    "feature_pca.fit(features)\n",
    "\n",
    "print(feature_pca.explained_variance_ratio_)"
   ]
  },
  {
   "cell_type": "code",
   "execution_count": 29,
   "metadata": {},
   "outputs": [
    {
     "data": {
      "image/png": "[encoded data removed]",
      "text/plain": [
       "<Figure size 600x500 with 2 Axes>"
      ]
     },
     "metadata": {},
     "output_type": "display_data"
    }
   ],
   "source": [
    "import seaborn as sns\n",
    "import matplotlib.pyplot as plt\n",
    "\n",
    "corr = features.corr()\n",
    "\n",
    "#corr matrix with heatmap\n",
    "plt.figure(figsize=(6,5))\n",
    "sns.heatmap(corr, annot=False, cmap=plt.cm.Blues)\n",
    "plt.savefig('feature_correlations.png')"
   ]
  },
  {
   "cell_type": "code",
   "execution_count": 30,
   "metadata": {},
   "outputs": [
    {
     "name": "stdout",
     "output_type": "stream",
     "text": [
      "1\n",
      "2\n",
      "0.2885964400018565\n",
      "7.4579213000019084\n",
      "0.2885964400018565\n"
     ]
    },
    {
     "data": {
      "image/png": "[encoded data removed]",
      "text/plain": [
       "<Figure size 640x480 with 1 Axes>"
      ]
     },
     "metadata": {},
     "output_type": "display_data"
    }
   ],
   "source": [
    " from XGBoost import *\n",
    "\n",
    "xgb_predictions = run_xgboost(X_train, X_test, y_train)\n",
    "print(train_time)\n",
    "print(xgb_predictions)\n",
    "\n",
    "sns.barplot(x=[train_time, xgb_predictions], y=['Linear Regression', 'XGBoost'])\n",
    "\n",
    "plt.xlabel('Training Time (seconds)')\n",
    "\n",
    "plt.title('Model Training Runtime Comparison')\n",
    "\n",
    "sns.despine()"
   ]
  },
  {
   "cell_type": "code",
   "execution_count": null,
   "metadata": {},
   "outputs": [],
   "source": []
  }
 ],
 "metadata": {
  "kernelspec": {
   "display_name": "Python 3 (ipykernel)",
   "language": "python",
   "name": "python3"
  },
  "language_info": {
   "codemirror_mode": {
    "name": "ipython",
    "version": 3
   },
   "file_extension": ".py",
   "mimetype": "text/x-python",
   "name": "python",
   "nbconvert_exporter": "python",
   "pygments_lexer": "ipython3",
   "version": "3.11.3"
  }
 },
 "nbformat": 4,
 "nbformat_minor": 4
}
