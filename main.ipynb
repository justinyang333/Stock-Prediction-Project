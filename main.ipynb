{
 "cells": [
  {
   "attachments": {},
   "cell_type": "markdown",
   "metadata": {},
   "source": [
    "# MAIN NOTEBOOK\n",
    "Create subsections for different phases of the project (i.e., 'Exploratory Data Analysis', 'Feature Engineering', etc.).  Create a .py file with functions to import for whatever you need.\n",
    "\n",
    "### Imports"
   ]
  },
  {
   "cell_type": "code",
   "execution_count": 1,
   "metadata": {},
   "outputs": [],
   "source": [
    "import numpy as np\n",
    "import pandas as pd\n",
    "import matplotlib.pyplot as plt\n",
    "import seaborn as sns\n",
    "import plotly.express as px\n",
    "import sklearn as skl"
   ]
  },
  {
   "attachments": {},
   "cell_type": "markdown",
   "metadata": {},
   "source": [
    "### Configuration"
   ]
  },
  {
   "cell_type": "code",
   "execution_count": 2,
   "metadata": {},
   "outputs": [],
   "source": [
    "# Jupyter Notebook config: automatically reload modules when code is changed\n",
    "%load_ext autoreload\n",
    "%autoreload 2\n",
    "\n",
    "# Pandas config: show all columns and rows\n",
    "# Note: Use df.head(n: int) or df.tail(n: int) to show only the first or last n rows\n",
    "pd.set_option('display.max_columns', None)\n",
    "pd.set_option('display.max_rows', None)\n",
    "\n",
    "# Matplotlib config: set default figure size\n",
    "plt.rcParams['figure.figsize'] = [20, 10]\n",
    "\n",
    "# Seaborn config: set default figure size\n",
    "sns.set(rc={'figure.figsize':(20,10)})\n",
    "\n",
    "# Plotly config: set default figure size\n",
    "px.defaults.width = 1200\n",
    "px.defaults.height = 800\n",
    "\n",
    "# Numpy config: set random seed for reproducibility\n",
    "np.random.seed(42)"
   ]
  },
  {
   "cell_type": "code",
   "execution_count": 3,
   "metadata": {},
   "outputs": [
    {
     "data": {
      "text/html": [
       "<div>\n",
       "<style scoped>\n",
       "    .dataframe tbody tr th:only-of-type {\n",
       "        vertical-align: middle;\n",
       "    }\n",
       "\n",
       "    .dataframe tbody tr th {\n",
       "        vertical-align: top;\n",
       "    }\n",
       "\n",
       "    .dataframe thead th {\n",
       "        text-align: right;\n",
       "    }\n",
       "</style>\n",
       "<table border=\"1\" class=\"dataframe\">\n",
       "  <thead>\n",
       "    <tr style=\"text-align: right;\">\n",
       "      <th></th>\n",
       "      <th>Symbol</th>\n",
       "      <th>Date</th>\n",
       "      <th>Open</th>\n",
       "      <th>High</th>\n",
       "      <th>Low</th>\n",
       "      <th>Close</th>\n",
       "      <th>Volume</th>\n",
       "    </tr>\n",
       "  </thead>\n",
       "  <tbody>\n",
       "    <tr>\n",
       "      <th>0</th>\n",
       "      <td>A</td>\n",
       "      <td>2009-03-02 05:00:00</td>\n",
       "      <td>9.73</td>\n",
       "      <td>9.80</td>\n",
       "      <td>9.02</td>\n",
       "      <td>9.07</td>\n",
       "      <td>5994808</td>\n",
       "    </tr>\n",
       "    <tr>\n",
       "      <th>1</th>\n",
       "      <td>A</td>\n",
       "      <td>2009-03-03 05:00:00</td>\n",
       "      <td>9.22</td>\n",
       "      <td>9.34</td>\n",
       "      <td>8.88</td>\n",
       "      <td>9.07</td>\n",
       "      <td>7057671</td>\n",
       "    </tr>\n",
       "    <tr>\n",
       "      <th>2</th>\n",
       "      <td>A</td>\n",
       "      <td>2009-03-04 05:00:00</td>\n",
       "      <td>9.24</td>\n",
       "      <td>9.70</td>\n",
       "      <td>9.11</td>\n",
       "      <td>9.52</td>\n",
       "      <td>5427775</td>\n",
       "    </tr>\n",
       "    <tr>\n",
       "      <th>3</th>\n",
       "      <td>A</td>\n",
       "      <td>2009-03-05 05:00:00</td>\n",
       "      <td>9.28</td>\n",
       "      <td>9.46</td>\n",
       "      <td>8.95</td>\n",
       "      <td>8.97</td>\n",
       "      <td>9678690</td>\n",
       "    </tr>\n",
       "    <tr>\n",
       "      <th>4</th>\n",
       "      <td>A</td>\n",
       "      <td>2009-03-06 05:00:00</td>\n",
       "      <td>8.91</td>\n",
       "      <td>9.36</td>\n",
       "      <td>8.60</td>\n",
       "      <td>9.05</td>\n",
       "      <td>6800559</td>\n",
       "    </tr>\n",
       "    <tr>\n",
       "      <th>5</th>\n",
       "      <td>A</td>\n",
       "      <td>2009-03-09 04:00:00</td>\n",
       "      <td>8.94</td>\n",
       "      <td>9.28</td>\n",
       "      <td>8.83</td>\n",
       "      <td>8.90</td>\n",
       "      <td>6017432</td>\n",
       "    </tr>\n",
       "    <tr>\n",
       "      <th>6</th>\n",
       "      <td>A</td>\n",
       "      <td>2009-03-10 04:00:00</td>\n",
       "      <td>9.09</td>\n",
       "      <td>9.64</td>\n",
       "      <td>9.03</td>\n",
       "      <td>9.61</td>\n",
       "      <td>6584299</td>\n",
       "    </tr>\n",
       "    <tr>\n",
       "      <th>7</th>\n",
       "      <td>A</td>\n",
       "      <td>2009-03-11 04:00:00</td>\n",
       "      <td>9.70</td>\n",
       "      <td>9.99</td>\n",
       "      <td>9.58</td>\n",
       "      <td>9.68</td>\n",
       "      <td>5358247</td>\n",
       "    </tr>\n",
       "    <tr>\n",
       "      <th>8</th>\n",
       "      <td>A</td>\n",
       "      <td>2009-03-12 04:00:00</td>\n",
       "      <td>9.63</td>\n",
       "      <td>9.94</td>\n",
       "      <td>9.34</td>\n",
       "      <td>9.88</td>\n",
       "      <td>5116577</td>\n",
       "    </tr>\n",
       "    <tr>\n",
       "      <th>9</th>\n",
       "      <td>A</td>\n",
       "      <td>2009-03-13 04:00:00</td>\n",
       "      <td>9.91</td>\n",
       "      <td>10.11</td>\n",
       "      <td>9.86</td>\n",
       "      <td>10.01</td>\n",
       "      <td>3648401</td>\n",
       "    </tr>\n",
       "  </tbody>\n",
       "</table>\n",
       "</div>"
      ],
      "text/plain": [
       "  Symbol                 Date  Open   High   Low  Close   Volume\n",
       "0      A  2009-03-02 05:00:00  9.73   9.80  9.02   9.07  5994808\n",
       "1      A  2009-03-03 05:00:00  9.22   9.34  8.88   9.07  7057671\n",
       "2      A  2009-03-04 05:00:00  9.24   9.70  9.11   9.52  5427775\n",
       "3      A  2009-03-05 05:00:00  9.28   9.46  8.95   8.97  9678690\n",
       "4      A  2009-03-06 05:00:00  8.91   9.36  8.60   9.05  6800559\n",
       "5      A  2009-03-09 04:00:00  8.94   9.28  8.83   8.90  6017432\n",
       "6      A  2009-03-10 04:00:00  9.09   9.64  9.03   9.61  6584299\n",
       "7      A  2009-03-11 04:00:00  9.70   9.99  9.58   9.68  5358247\n",
       "8      A  2009-03-12 04:00:00  9.63   9.94  9.34   9.88  5116577\n",
       "9      A  2009-03-13 04:00:00  9.91  10.11  9.86  10.01  3648401"
      ]
     },
     "execution_count": 3,
     "metadata": {},
     "output_type": "execute_result"
    }
   ],
   "source": [
    "# Loading in core data, make sure to use dataset.copy() for any data manipulation\n",
    "dataset = pd.read_csv('./data/dataset.csv')\n",
    "dataset.head(10)"
   ]
  },
  {
   "attachments": {},
   "cell_type": "markdown",
   "metadata": {},
   "source": [
    "## Exploratory Data Analysis"
   ]
  },
  {
   "attachments": {},
   "cell_type": "markdown",
   "metadata": {},
   "source": [
    "### Pre-cleaning Visualizing/Analysis "
   ]
  },
  {
   "cell_type": "code",
   "execution_count": null,
   "metadata": {},
   "outputs": [],
   "source": [
    "# Note: Unzip the raw_data.zip file in the data folder before running this cell\n",
    "# Visualize the yearly distribution of stock information\n",
    "from eda import plot_year_distribution\n",
    "plot = plot_year_distribution('./data/unprocessed/')\n",
    "plot.show()"
   ]
  },
  {
   "cell_type": "code",
   "execution_count": null,
   "metadata": {},
   "outputs": [],
   "source": [
    "# Visualize how much of the data is complete within the time range\n",
    "from eda import plot_data_viability\n",
    "plot = plot_data_viability('./data/unprocessed/')\n",
    "plot.show()"
   ]
  },
  {
   "cell_type": "markdown",
   "metadata": {},
   "source": [
    "### Post-Cleaning Visualizing/Analysis"
   ]
  },
  {
   "cell_type": "code",
   "execution_count": null,
   "metadata": {},
   "outputs": [],
   "source": [
    "# Copy the dataset for data manipulation\n",
    "data = dataset.copy()\n",
    "# Add sector and industry information to the dataset\n",
    "from eda import add_sector_and_industry\n",
    "data = add_sector_and_industry(data)\n",
    "data.head(10)"
   ]
  },
  {
   "cell_type": "code",
   "execution_count": null,
   "metadata": {},
   "outputs": [],
   "source": [
    "# Bound the dataset to only include stocks within a range of open prices\n",
    "from eda import bound_data\n",
    "bounded_data = bound_data(data=data, lower_bound=1, upper_bound=500)\n",
    "print(data.shape)\n",
    "print(bounded_data.shape)\n",
    "print(f\"{(data.shape[0] - bounded_data.shape[0]) // 2769} symbols removed\")"
   ]
  },
  {
   "cell_type": "code",
   "execution_count": null,
   "metadata": {},
   "outputs": [],
   "source": [
    "# Visualize the open price distribution before and after bounding\n",
    "from eda import plot_open_boxes\n",
    "fig, ax = plot_open_boxes(data.copy(), bounded_data.copy())\n",
    "plt.show()\n"
   ]
  },
  {
   "cell_type": "code",
   "execution_count": null,
   "metadata": {},
   "outputs": [],
   "source": [
    "# Visualize the number of stocks by sector\n",
    "from eda import plot_sector_distribution\n",
    "plot = plot_sector_distribution(bounded_data)\n",
    "plot.show()"
   ]
  },
  {
   "cell_type": "code",
   "execution_count": null,
   "metadata": {},
   "outputs": [],
   "source": [
    "# Visualize the distribution average open pirces by sector\n",
    "from eda import plot_sector_value_distribution\n",
    "plot = plot_sector_value_distribution(bounded_data)\n",
    "plt.show()"
   ]
  },
  {
   "cell_type": "code",
   "execution_count": null,
   "metadata": {},
   "outputs": [],
   "source": [
    "# Create the daily movement matrix each stock is a row and each column is a day\n",
    "from eda import create_daily_movements\n",
    "movements = create_daily_movements(bounded_data)\n",
    "movements.shape"
   ]
  },
  {
   "cell_type": "code",
   "execution_count": null,
   "metadata": {},
   "outputs": [],
   "source": [
    "# Compare a sample of movements before and after normalizing\n",
    "from eda import plot_daily_movements\n",
    "sample = movements[np.random.choice(movements.shape[0], 500, replace=False)]\n",
    "print(sample.shape)\n",
    "fig1, ax1 = plot_daily_movements(sample)\n",
    "plt.show()"
   ]
  },
  {
   "cell_type": "code",
   "execution_count": 13,
   "metadata": {},
   "outputs": [],
   "source": [
    "# Cluster the stocks using KMeans\n",
    "# from eda import cluster_stocks\n",
    "# results = cluster_stocks(movements, list(bounded_data.groupby(\"Symbol\").groups.keys()),n_clusters=10)\n",
    "# results\n",
    "# THIS CELL WILL CAUSE A SEG FAULT AND KILL YOUR KERNEL"
   ]
  },
  {
   "attachments": {},
   "cell_type": "markdown",
   "metadata": {},
   "source": [
    "## Feature Engineering"
   ]
  },
  {
   "attachments": {},
   "cell_type": "markdown",
   "metadata": {},
   "source": [
    "## Comparing Models"
   ]
  },
  {
   "attachments": {},
   "cell_type": "markdown",
   "metadata": {},
   "source": [
    "## Implementation"
   ]
  },
  {
   "attachments": {},
   "cell_type": "markdown",
   "metadata": {},
   "source": [
    "## Model Tuning"
   ]
  },
  {
   "attachments": {},
   "cell_type": "markdown",
   "metadata": {},
   "source": [
    "## Evaluation"
   ]
  }
 ],
 "metadata": {
  "kernelspec": {
   "display_name": "ml_project",
   "language": "python",
   "name": "python3"
  },
  "language_info": {
   "codemirror_mode": {
    "name": "ipython",
    "version": 3
   },
   "file_extension": ".py",
   "mimetype": "text/x-python",
   "name": "python",
   "nbconvert_exporter": "python",
   "pygments_lexer": "ipython3",
   "version": "3.11.3"
  },
  "orig_nbformat": 4
 },
 "nbformat": 4,
 "nbformat_minor": 2
}
