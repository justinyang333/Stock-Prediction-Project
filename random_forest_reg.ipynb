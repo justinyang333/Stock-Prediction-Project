{
 "cells": [
  {
   "cell_type": "code",
   "execution_count": 1,
   "metadata": {},
   "outputs": [],
   "source": [
    "import numpy as np\n",
    "import pandas as pd\n",
    "from sklearn.ensemble import RandomForestRegressor\n",
    "from sklearn.model_selection import train_test_split\n",
    "import matplotlib.pyplot as plt\n",
    "\n"
   ]
  },
  {
   "cell_type": "code",
   "execution_count": 3,
   "metadata": {},
   "outputs": [
    {
     "name": "stderr",
     "output_type": "stream",
     "text": [
      "/var/folders/5x/ztnh0nwx0yd1g6c9jjc2tgvh0000gq/T/ipykernel_81514/1033922578.py:9: DataConversionWarning: A column-vector y was passed when a 1d array was expected. Please change the shape of y to (n_samples,), for example using ravel().\n",
      "  regressor.fit(x, y)\n"
     ]
    },
    {
     "ename": "ValueError",
     "evalue": "Unable to coerce to Series, length must be 1: given 36",
     "output_type": "error",
     "traceback": [
      "\u001b[0;31m---------------------------------------------------------------------------\u001b[0m",
      "\u001b[0;31mValueError\u001b[0m                                Traceback (most recent call last)",
      "Cell \u001b[0;32mIn[3], line 11\u001b[0m\n\u001b[1;32m      9\u001b[0m regressor\u001b[39m.\u001b[39mfit(x, y)\n\u001b[1;32m     10\u001b[0m predictions \u001b[39m=\u001b[39m regressor\u001b[39m.\u001b[39mpredict(x_test)\n\u001b[0;32m---> 11\u001b[0m errors \u001b[39m=\u001b[39m \u001b[39mabs\u001b[39m(predictions \u001b[39m-\u001b[39;49m y_test)\n",
      "File \u001b[0;32m/usr/local/anaconda3/envs/ml_project/lib/python3.11/site-packages/pandas/core/generic.py:2113\u001b[0m, in \u001b[0;36mNDFrame.__array_ufunc__\u001b[0;34m(self, ufunc, method, *inputs, **kwargs)\u001b[0m\n\u001b[1;32m   2109\u001b[0m \u001b[39m@final\u001b[39m\n\u001b[1;32m   2110\u001b[0m \u001b[39mdef\u001b[39;00m \u001b[39m__array_ufunc__\u001b[39m(\n\u001b[1;32m   2111\u001b[0m     \u001b[39mself\u001b[39m, ufunc: np\u001b[39m.\u001b[39mufunc, method: \u001b[39mstr\u001b[39m, \u001b[39m*\u001b[39minputs: Any, \u001b[39m*\u001b[39m\u001b[39m*\u001b[39mkwargs: Any\n\u001b[1;32m   2112\u001b[0m ):\n\u001b[0;32m-> 2113\u001b[0m     \u001b[39mreturn\u001b[39;00m arraylike\u001b[39m.\u001b[39;49marray_ufunc(\u001b[39mself\u001b[39;49m, ufunc, method, \u001b[39m*\u001b[39;49minputs, \u001b[39m*\u001b[39;49m\u001b[39m*\u001b[39;49mkwargs)\n",
      "File \u001b[0;32m/usr/local/anaconda3/envs/ml_project/lib/python3.11/site-packages/pandas/core/arraylike.py:265\u001b[0m, in \u001b[0;36marray_ufunc\u001b[0;34m(self, ufunc, method, *inputs, **kwargs)\u001b[0m\n\u001b[1;32m    262\u001b[0m     \u001b[39mreturn\u001b[39;00m result\n\u001b[1;32m    264\u001b[0m \u001b[39m# for binary ops, use our custom dunder methods\u001b[39;00m\n\u001b[0;32m--> 265\u001b[0m result \u001b[39m=\u001b[39m maybe_dispatch_ufunc_to_dunder_op(\u001b[39mself\u001b[39;49m, ufunc, method, \u001b[39m*\u001b[39;49minputs, \u001b[39m*\u001b[39;49m\u001b[39m*\u001b[39;49mkwargs)\n\u001b[1;32m    266\u001b[0m \u001b[39mif\u001b[39;00m result \u001b[39mis\u001b[39;00m \u001b[39mnot\u001b[39;00m \u001b[39mNotImplemented\u001b[39m:\n\u001b[1;32m    267\u001b[0m     \u001b[39mreturn\u001b[39;00m result\n",
      "File \u001b[0;32m/usr/local/anaconda3/envs/ml_project/lib/python3.11/site-packages/pandas/_libs/ops_dispatch.pyx:113\u001b[0m, in \u001b[0;36mpandas._libs.ops_dispatch.maybe_dispatch_ufunc_to_dunder_op\u001b[0;34m()\u001b[0m\n",
      "File \u001b[0;32m/usr/local/anaconda3/envs/ml_project/lib/python3.11/site-packages/pandas/core/ops/common.py:72\u001b[0m, in \u001b[0;36m_unpack_zerodim_and_defer.<locals>.new_method\u001b[0;34m(self, other)\u001b[0m\n\u001b[1;32m     68\u001b[0m             \u001b[39mreturn\u001b[39;00m \u001b[39mNotImplemented\u001b[39m\n\u001b[1;32m     70\u001b[0m other \u001b[39m=\u001b[39m item_from_zerodim(other)\n\u001b[0;32m---> 72\u001b[0m \u001b[39mreturn\u001b[39;00m method(\u001b[39mself\u001b[39;49m, other)\n",
      "File \u001b[0;32m/usr/local/anaconda3/envs/ml_project/lib/python3.11/site-packages/pandas/core/arraylike.py:114\u001b[0m, in \u001b[0;36mOpsMixin.__rsub__\u001b[0;34m(self, other)\u001b[0m\n\u001b[1;32m    112\u001b[0m \u001b[39m@unpack_zerodim_and_defer\u001b[39m(\u001b[39m\"\u001b[39m\u001b[39m__rsub__\u001b[39m\u001b[39m\"\u001b[39m)\n\u001b[1;32m    113\u001b[0m \u001b[39mdef\u001b[39;00m \u001b[39m__rsub__\u001b[39m(\u001b[39mself\u001b[39m, other):\n\u001b[0;32m--> 114\u001b[0m     \u001b[39mreturn\u001b[39;00m \u001b[39mself\u001b[39;49m\u001b[39m.\u001b[39;49m_arith_method(other, roperator\u001b[39m.\u001b[39;49mrsub)\n",
      "File \u001b[0;32m/usr/local/anaconda3/envs/ml_project/lib/python3.11/site-packages/pandas/core/frame.py:7592\u001b[0m, in \u001b[0;36mDataFrame._arith_method\u001b[0;34m(self, other, op)\u001b[0m\n\u001b[1;32m   7589\u001b[0m axis \u001b[39m=\u001b[39m \u001b[39m1\u001b[39m  \u001b[39m# only relevant for Series other case\u001b[39;00m\n\u001b[1;32m   7590\u001b[0m other \u001b[39m=\u001b[39m ops\u001b[39m.\u001b[39mmaybe_prepare_scalar_for_op(other, (\u001b[39mself\u001b[39m\u001b[39m.\u001b[39mshape[axis],))\n\u001b[0;32m-> 7592\u001b[0m \u001b[39mself\u001b[39m, other \u001b[39m=\u001b[39m ops\u001b[39m.\u001b[39;49malign_method_FRAME(\u001b[39mself\u001b[39;49m, other, axis, flex\u001b[39m=\u001b[39;49m\u001b[39mTrue\u001b[39;49;00m, level\u001b[39m=\u001b[39;49m\u001b[39mNone\u001b[39;49;00m)\n\u001b[1;32m   7594\u001b[0m new_data \u001b[39m=\u001b[39m \u001b[39mself\u001b[39m\u001b[39m.\u001b[39m_dispatch_frame_op(other, op, axis\u001b[39m=\u001b[39maxis)\n\u001b[1;32m   7595\u001b[0m \u001b[39mreturn\u001b[39;00m \u001b[39mself\u001b[39m\u001b[39m.\u001b[39m_construct_result(new_data)\n",
      "File \u001b[0;32m/usr/local/anaconda3/envs/ml_project/lib/python3.11/site-packages/pandas/core/ops/__init__.py:248\u001b[0m, in \u001b[0;36malign_method_FRAME\u001b[0;34m(left, right, axis, flex, level)\u001b[0m\n\u001b[1;32m    245\u001b[0m \u001b[39mif\u001b[39;00m \u001b[39misinstance\u001b[39m(right, np\u001b[39m.\u001b[39mndarray):\n\u001b[1;32m    247\u001b[0m     \u001b[39mif\u001b[39;00m right\u001b[39m.\u001b[39mndim \u001b[39m==\u001b[39m \u001b[39m1\u001b[39m:\n\u001b[0;32m--> 248\u001b[0m         right \u001b[39m=\u001b[39m to_series(right)\n\u001b[1;32m    250\u001b[0m     \u001b[39melif\u001b[39;00m right\u001b[39m.\u001b[39mndim \u001b[39m==\u001b[39m \u001b[39m2\u001b[39m:\n\u001b[1;32m    251\u001b[0m         \u001b[39mif\u001b[39;00m right\u001b[39m.\u001b[39mshape \u001b[39m==\u001b[39m left\u001b[39m.\u001b[39mshape:\n",
      "File \u001b[0;32m/usr/local/anaconda3/envs/ml_project/lib/python3.11/site-packages/pandas/core/ops/__init__.py:239\u001b[0m, in \u001b[0;36malign_method_FRAME.<locals>.to_series\u001b[0;34m(right)\u001b[0m\n\u001b[1;32m    237\u001b[0m \u001b[39melse\u001b[39;00m:\n\u001b[1;32m    238\u001b[0m     \u001b[39mif\u001b[39;00m \u001b[39mlen\u001b[39m(left\u001b[39m.\u001b[39mcolumns) \u001b[39m!=\u001b[39m \u001b[39mlen\u001b[39m(right):\n\u001b[0;32m--> 239\u001b[0m         \u001b[39mraise\u001b[39;00m \u001b[39mValueError\u001b[39;00m(\n\u001b[1;32m    240\u001b[0m             msg\u001b[39m.\u001b[39mformat(req_len\u001b[39m=\u001b[39m\u001b[39mlen\u001b[39m(left\u001b[39m.\u001b[39mcolumns), given_len\u001b[39m=\u001b[39m\u001b[39mlen\u001b[39m(right))\n\u001b[1;32m    241\u001b[0m         )\n\u001b[1;32m    242\u001b[0m     right \u001b[39m=\u001b[39m left\u001b[39m.\u001b[39m_constructor_sliced(right, index\u001b[39m=\u001b[39mleft\u001b[39m.\u001b[39mcolumns)\n\u001b[1;32m    243\u001b[0m \u001b[39mreturn\u001b[39;00m right\n",
      "\u001b[0;31mValueError\u001b[0m: Unable to coerce to Series, length must be 1: given 36"
     ]
    }
   ],
   "source": [
    "#Taking from the cleaned data\n",
    "df = pd.read_csv(\"./data/dataset_bounded.csv\")\n",
    "#Target data, the price of stock at opening day with the first row subtracted\n",
    "y = df[['Open']].iloc[1:181]\n",
    "#Features of the inputs data, the information regarding the features Open, High, Low, Close and volume\n",
    "x = df[['High', 'Low', 'Close', 'Volume']].iloc[0:180]\n",
    "x_train, x_test, y_train, y_test = train_test_split(x, y, test_size=0.2, random_state=42)\n",
    "regressor = RandomForestRegressor(n_estimators = 300, random_state = 42)\n",
    "regressor.fit(x, y)\n",
    "predictions = regressor.predict(x_test)\n",
    "errors = abs(predictions - y_test)\n"
   ]
  }
 ],
 "metadata": {
  "kernelspec": {
   "display_name": "base",
   "language": "python",
   "name": "python3"
  },
  "language_info": {
   "codemirror_mode": {
    "name": "ipython",
    "version": 3
   },
   "file_extension": ".py",
   "mimetype": "text/x-python",
   "name": "python",
   "nbconvert_exporter": "python",
   "pygments_lexer": "ipython3",
   "version": "3.11.3"
  },
  "orig_nbformat": 4
 },
 "nbformat": 4,
 "nbformat_minor": 2
}
